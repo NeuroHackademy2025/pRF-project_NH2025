{
 "cells": [
  {
   "cell_type": "markdown",
   "id": "5bf65d3c-dddf-495c-9a28-7b39eacdff33",
   "metadata": {},
   "source": [
    "# Compute pRF cortical magnification base on pRF parameters \n",
    "\n",
    "Based on previous work (see : https://github.com/mszinte/pRF_analysis/blob/main/analysis_code/postproc/prf/postfit/compute_css_pcm.py) we want to apply a similar way to compute pRF CM on the HCP data_set \n",
    "\n",
    "TO DO :\n",
    "- [ ] acces HCP data\n",
    "- [ ] understand strucuture of HCP data and neuropythy\n",
    "- [ ] compute CM for vertex in V1 "
   ]
  },
  {
   "cell_type": "code",
   "execution_count": null,
   "id": "ff5afd60-5e93-43ca-84aa-73b05c392d01",
   "metadata": {},
   "outputs": [],
   "source": []
  }
 ],
 "metadata": {
  "kernelspec": {
   "display_name": "Python 3 (ipykernel)",
   "language": "python",
   "name": "python3"
  },
  "language_info": {
   "codemirror_mode": {
    "name": "ipython",
    "version": 3
   },
   "file_extension": ".py",
   "mimetype": "text/x-python",
   "name": "python",
   "nbconvert_exporter": "python",
   "pygments_lexer": "ipython3",
   "version": "3.11.11"
  }
 },
 "nbformat": 4,
 "nbformat_minor": 5
}
