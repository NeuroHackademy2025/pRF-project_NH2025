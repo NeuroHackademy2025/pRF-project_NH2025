{
 "cells": [
  {
   "cell_type": "markdown",
   "id": "5bf65d3c-dddf-495c-9a28-7b39eacdff33",
   "metadata": {},
   "source": [
    "# Compute pRF cortical magnification base on pRF parameters "
   ]
  },
  {
   "cell_type": "code",
   "execution_count": 1,
   "id": "ff5afd60-5e93-43ca-84aa-73b05c392d01",
   "metadata": {},
   "outputs": [],
   "source": [
    "# Stop warnings\n",
    "import warnings\n",
    "warnings.filterwarnings(\"ignore\")\n",
    "\n",
    "# Import \n",
    "import os \n",
    "import time\n",
    "import numpy as np\n",
    "import pandas as pd\n",
    "from scipy import stats\n",
    "import neuropythy as ny\n",
    "import matplotlib.pyplot as plt\n",
    "import scipy.sparse.csgraph as cs\n",
    "\n",
    "\n",
    "# personal import \n",
    "from plot_utils import plotly_template, prf_ecc_pcm_plot\n",
    "from math_utils import weighted_regression, weighted_nan_percentile, weighted_nan_median\n",
    "\n"
   ]
  },
  {
   "cell_type": "markdown",
   "id": "4d360c8f-9b65-428b-9dd6-9857428d08d5",
   "metadata": {},
   "source": [
    "# Apply Wang atlas"
   ]
  },
  {
   "cell_type": "code",
   "execution_count": 2,
   "id": "33bf09d2-2f85-4461-b878-62f67950240f",
   "metadata": {},
   "outputs": [],
   "source": [
    "def apply_wang(sub, h):\n",
    "    \"\"\"Returns the Wang atlas as a property for a subjects hemisphere.\n",
    "\n",
    "    `apply_wang(sub, 'lh')` applies the atlas to the subject's left hemisphere.\n",
    "    `apply_wang(sub, 'rh')` applies the atlas to the subject's right hemisphere.\n",
    "    \"\"\"\n",
    "    atl = apply_wang.atlas[h]\n",
    "    hem = sub.hemis[h]\n",
    "    fsa = ny.freesurfer_subject(apply_wang.fsaverage_path)\n",
    "    fsa = fsa.hemis[h]\n",
    "    return fsa.interpolate(hem, atl)\n",
    "apply_wang.atlas = {\n",
    "    h: ny.load(os.path.join(ny.library_path(), 'data', 'fsaverage', 'surf', f'{h}.wang15_mplbl.v1_0.mgz'))\n",
    "    for h in ('lh', 'rh')}\n",
    "apply_wang.fsaverage_path = '/home/jovyan/shared/data/freesurfer/fsaverage'"
   ]
  },
  {
   "cell_type": "markdown",
   "id": "a7cda998-be80-40b4-b014-b2d22b3004e1",
   "metadata": {},
   "source": [
    "# Geodesic distance (mm)"
   ]
  },
  {
   "cell_type": "code",
   "execution_count": 3,
   "id": "77821801-9320-4fff-8401-f5e53e395157",
   "metadata": {},
   "outputs": [],
   "source": [
    "def compute_geodesic_distance(vert_of_interest_idx, adjacency_matrix, max_distance=None):\n",
    "    \"\"\"\n",
    "    Compute geodesic distances from a vertex to all others in the mesh, optionally limited to max_distance.\n",
    "\n",
    "    Parameters\n",
    "    ----------\n",
    "    vert_of_interest_idx : int\n",
    "        Index of the vertex from which to compute distances.\n",
    "    adjacency_matrix : scipy.sparse matrix\n",
    "        Sparse matrix representing the adjacency of the mesh.\n",
    "    max_distance : float or None, optional\n",
    "        If provided, only return distances less than this value.\n",
    "\n",
    "    Returns\n",
    "    -------\n",
    "    median_distance : float\n",
    "        Median geodesic distance (within mask if max_distance is provided).\n",
    "    vert_dist_idx : array of int, optional\n",
    "        Indices of vertices within max_distance (only returned if max_distance is not None).\n",
    "    \"\"\"\n",
    "    distances = cs.dijkstra(adjacency_matrix, indices=[vert_of_interest_idx], directed=False)[0]\n",
    "\n",
    "    if max_distance is not None:\n",
    "        distance_mask = distances < max_distance\n",
    "        vert_dist_idx = np.where(distance_mask)[0]\n",
    "        median_distance = np.median(distances[distance_mask])\n",
    "        return median_distance, vert_dist_idx\n",
    "    else:\n",
    "        median_distance = np.median(distances)\n",
    "        return median_distance\n",
    "        "
   ]
  },
  {
   "cell_type": "markdown",
   "id": "fddd4631-e428-4f2c-a266-a35ffdb59530",
   "metadata": {},
   "source": [
    "# Visual distance (dva)"
   ]
  },
  {
   "cell_type": "code",
   "execution_count": 4,
   "id": "317ce784-bae4-4ad1-8885-89f41d5f76fe",
   "metadata": {},
   "outputs": [],
   "source": [
    "def compute_pRF_distance(vert_of_interest_idx, roi_vertices_hemi_mask, prf_x, prf_y):\n",
    "    \n",
    "    dist_array = []\n",
    "    for vert_num, vert_idx in enumerate(roi_vertices_hemi_mask):\n",
    "        # Acces pRF position\n",
    "        target_x = prf_x[vert_of_interest_idx]\n",
    "        target_y = prf_y[vert_of_interest_idx]\n",
    "        neigboor_x = prf_x[vert_idx]\n",
    "        neigboor_y = prf_y[vert_idx]\n",
    "    \n",
    "        # Compute visual distance\n",
    "        vert_prf_dist_array_vert = np.sqrt((target_x - neigboor_x)**2 + (target_y - neigboor_y)**2)\n",
    "        dist_array.append(vert_prf_dist_array_vert)\n",
    "\n",
    "    # compute the median of visual distance\n",
    "    vert_prf_dist_array_median = np.median(dist_array)\n",
    "    \n",
    "    return vert_prf_dist_array_median\n",
    "    "
   ]
  },
  {
   "cell_type": "markdown",
   "id": "88d8d9e1-911d-4033-9915-03dd68ca7581",
   "metadata": {},
   "source": [
    "# Compute de pRF CM (mm/dva)"
   ]
  },
  {
   "cell_type": "markdown",
   "id": "e60ef9c2-6a73-4622-94fd-71b725a476b0",
   "metadata": {},
   "source": [
    "## Acces data"
   ]
  },
  {
   "cell_type": "code",
   "execution_count": 5,
   "id": "28591181-3421-40c7-9bfc-e438bf0c9a74",
   "metadata": {},
   "outputs": [],
   "source": [
    "# Settings \n",
    "subject_id = 118225\n",
    "hemis = ['rh', 'lh']\n",
    "rois = [\"V1v\", \"V1d\", \"V2v\", \"V2d\", \"V3v\", \"V3d\", \"hV4\", \"VO1\", \"VO2\",\n",
    "          \"PHC1\", \"PHC2\", \"TO2\", \"TO1\", \"LO2\", \"LO1\", \"V3B\", \"V3A\",\n",
    "          \"IPS0\", \"IPS1\", \"IPS2\", \"IPS3\", \"IPS4\", \"IPS5\", \"SPL1\", \"FEF\"]\n",
    "roi_code = {\n",
    "    \"V1v\": 1,\n",
    "    \"V1d\": 2,\n",
    "    \"V2v\": 3,\n",
    "    \"V2d\": 4,\n",
    "    \"V3v\": 5,\n",
    "    \"V3d\": 6,\n",
    "    \"hV4\": 7,\n",
    "    \"VO1\": 8,\n",
    "    \"VO2\": 9,\n",
    "    \"PHC1\": 10,\n",
    "    \"PHC2\": 11,\n",
    "    \"TO2\": 12,\n",
    "    \"TO1\": 13,\n",
    "    \"LO2\": 14,\n",
    "    \"LO1\": 15,\n",
    "    \"V3B\": 16,\n",
    "    \"V3A\": 17,\n",
    "    \"IPS0\": 18,\n",
    "    \"IPS1\": 19,\n",
    "    \"IPS2\": 20,\n",
    "    \"IPS3\": 21,\n",
    "    \"IPS4\": 22,\n",
    "    \"IPS5\": 23,\n",
    "    \"SPL1\": 24,\n",
    "    \"FEF\": 25\n",
    "}\n",
    "\n",
    "max_ecc = 8\n",
    "max_distance = 5"
   ]
  },
  {
   "cell_type": "code",
   "execution_count": 6,
   "id": "1f919d03-1054-4a4c-b43f-0ee5a16403f1",
   "metadata": {},
   "outputs": [
    {
     "data": {
      "text/plain": [
       "(100610, 118225, 140117, 158136, 172130, 182436, 197348, 214524, 346137)"
      ]
     },
     "execution_count": 6,
     "metadata": {},
     "output_type": "execute_result"
    }
   ],
   "source": [
    "# Get first 10 subjects' numbers\n",
    "allsub = ny.data['hcp_lines'].subject_list\n",
    "allsub[0:9]"
   ]
  },
  {
   "cell_type": "code",
   "execution_count": 7,
   "id": "0c9aa84c-dbf3-434a-9d52-ca5805ad5b0e",
   "metadata": {},
   "outputs": [],
   "source": [
    "# Load an HCP subject:\n",
    "sub = ny.hcp_subject(subject_id)\n",
    "# data = []\n",
    "# for ii in allsub[0:9]:\n",
    "#     sub = ny.hcp_subject(ii)\n",
    "#     data.append(sub)\n",
    "sub = ny.data['hcp_lines'].subjects[subject_id]\n",
    "wang_labels_lh = apply_wang(sub, 'lh')\n",
    "wang_labels_rh = apply_wang(sub, 'rh')"
   ]
  },
  {
   "cell_type": "code",
   "execution_count": 8,
   "id": "6bccdc59-063b-458b-ac02-d5e8fbc77bf0",
   "metadata": {},
   "outputs": [
    {
     "data": {
      "text/plain": [
       "array([ 0,  1,  2,  3,  4,  5,  6,  7,  8,  9, 10, 11, 12, 13, 14, 15, 16,\n",
       "       17, 18, 19, 20, 21, 22, 23, 24, 25])"
      ]
     },
     "execution_count": 8,
     "metadata": {},
     "output_type": "execute_result"
    }
   ],
   "source": [
    "np.unique(wang_labels_lh)"
   ]
  },
  {
   "cell_type": "code",
   "execution_count": 9,
   "id": "68ad877e-ea9d-46ba-b4d7-7a5aa61e329a",
   "metadata": {},
   "outputs": [
    {
     "data": {
      "text/plain": [
       "array([4, 4, 4, ..., 0, 0, 0])"
      ]
     },
     "execution_count": 9,
     "metadata": {},
     "output_type": "execute_result"
    }
   ],
   "source": [
    "wang_labels_lh"
   ]
  },
  {
   "cell_type": "code",
   "execution_count": 10,
   "id": "024e2000-3cc7-4cad-8096-6918bdf51492",
   "metadata": {},
   "outputs": [
    {
     "data": {
      "text/plain": [
       "157762"
      ]
     },
     "execution_count": 10,
     "metadata": {},
     "output_type": "execute_result"
    }
   ],
   "source": [
    "wang_labels_lh.size"
   ]
  },
  {
   "cell_type": "code",
   "execution_count": 11,
   "id": "16c52554-b56e-47c2-a1e2-d4bca3fcdfc9",
   "metadata": {},
   "outputs": [
    {
     "data": {
      "text/plain": [
       "160031"
      ]
     },
     "execution_count": 11,
     "metadata": {},
     "output_type": "execute_result"
    }
   ],
   "source": [
    "wang_labels_rh.size"
   ]
  },
  {
   "cell_type": "code",
   "execution_count": 12,
   "id": "610b5eea-0440-4c97-bac9-e96cee785151",
   "metadata": {},
   "outputs": [],
   "source": [
    "label_names = (None, \"V1v\", \"V1d\", \"V2v\", \"V2d\", \"V3v\", \"V3d\", \"hV4\", \"VO1\", \"VO2\",\n",
    "          \"PHC1\", \"PHC2\", \"TO2\", \"TO1\", \"LO2\", \"LO1\", \"V3B\", \"V3A\",\n",
    "          \"IPS0\", \"IPS1\", \"IPS2\", \"IPS3\", \"IPS4\", \"IPS5\", \"SPL1\", \"FEF\")"
   ]
  },
  {
   "cell_type": "markdown",
   "id": "78e82157-3e8b-4ac2-a983-d2ab0cec29a4",
   "metadata": {},
   "source": [
    "## pRF CM computation"
   ]
  },
  {
   "cell_type": "code",
   "execution_count": 18,
   "id": "7827c2d6-2aea-422a-b26a-3990291fba62",
   "metadata": {},
   "outputs": [
    {
     "name": "stdout",
     "output_type": "stream",
     "text": [
      "Skipping ROI V2d in rh: No vertices found for ROI V2d in rh\n",
      "Skipping ROI V3v in rh: No vertices found for ROI V3v in rh\n",
      "Skipping ROI V3d in rh: No vertices found for ROI V3d in rh\n",
      "Skipping ROI hV4 in rh: No vertices found for ROI hV4 in rh\n",
      "Skipping ROI VO1 in rh: No vertices found for ROI VO1 in rh\n",
      "Skipping ROI VO2 in rh: No vertices found for ROI VO2 in rh\n",
      "Skipping ROI PHC1 in rh: No vertices found for ROI PHC1 in rh\n",
      "Skipping ROI PHC2 in rh: No vertices found for ROI PHC2 in rh\n",
      "Skipping ROI TO2 in rh: No vertices found for ROI TO2 in rh\n",
      "Skipping ROI TO1 in rh: No vertices found for ROI TO1 in rh\n",
      "Skipping ROI LO2 in rh: No vertices found for ROI LO2 in rh\n",
      "Skipping ROI LO1 in rh: No vertices found for ROI LO1 in rh\n",
      "Skipping ROI V3B in rh: No vertices found for ROI V3B in rh\n",
      "Skipping ROI V3A in rh: No vertices found for ROI V3A in rh\n",
      "Skipping ROI IPS0 in rh: No vertices found for ROI IPS0 in rh\n",
      "Skipping ROI IPS1 in rh: No vertices found for ROI IPS1 in rh\n",
      "Skipping ROI IPS2 in rh: No vertices found for ROI IPS2 in rh\n",
      "Skipping ROI IPS3 in rh: No vertices found for ROI IPS3 in rh\n",
      "Skipping ROI IPS4 in rh: No vertices found for ROI IPS4 in rh\n",
      "Skipping ROI IPS5 in rh: No vertices found for ROI IPS5 in rh\n",
      "Skipping ROI SPL1 in rh: No vertices found for ROI SPL1 in rh\n",
      "Skipping ROI FEF in rh: No vertices found for ROI FEF in rh\n",
      "Skipping ROI V2d in lh: No vertices found for ROI V2d in lh\n",
      "Skipping ROI V3v in lh: No vertices found for ROI V3v in lh\n",
      "Skipping ROI V3d in lh: No vertices found for ROI V3d in lh\n",
      "Skipping ROI hV4 in lh: No vertices found for ROI hV4 in lh\n",
      "Skipping ROI VO1 in lh: No vertices found for ROI VO1 in lh\n",
      "Skipping ROI VO2 in lh: No vertices found for ROI VO2 in lh\n",
      "Skipping ROI PHC1 in lh: No vertices found for ROI PHC1 in lh\n",
      "Skipping ROI PHC2 in lh: No vertices found for ROI PHC2 in lh\n",
      "Skipping ROI TO2 in lh: No vertices found for ROI TO2 in lh\n",
      "Skipping ROI TO1 in lh: No vertices found for ROI TO1 in lh\n",
      "Skipping ROI LO2 in lh: No vertices found for ROI LO2 in lh\n",
      "Skipping ROI LO1 in lh: No vertices found for ROI LO1 in lh\n",
      "Skipping ROI V3B in lh: No vertices found for ROI V3B in lh\n",
      "Skipping ROI V3A in lh: No vertices found for ROI V3A in lh\n",
      "Skipping ROI IPS0 in lh: No vertices found for ROI IPS0 in lh\n",
      "Skipping ROI IPS1 in lh: No vertices found for ROI IPS1 in lh\n",
      "Skipping ROI IPS2 in lh: No vertices found for ROI IPS2 in lh\n",
      "Skipping ROI IPS3 in lh: No vertices found for ROI IPS3 in lh\n",
      "Skipping ROI IPS4 in lh: No vertices found for ROI IPS4 in lh\n",
      "Skipping ROI IPS5 in lh: No vertices found for ROI IPS5 in lh\n",
      "Skipping ROI SPL1 in lh: No vertices found for ROI SPL1 in lh\n",
      "Skipping ROI FEF in lh: No vertices found for ROI FEF in lh\n",
      "Execution time: 73.11 seconds\n"
     ]
    }
   ],
   "source": [
    "prf_CM_df = pd.DataFrame()\n",
    "start_time = time.time()\n",
    "\n",
    "for n_hemi, hemi in enumerate(hemis): \n",
    "    for roi in rois: \n",
    "        try:\n",
    "            # ROI mask et paramètres\n",
    "            if hemi == 'lh':\n",
    "                label_roi = sub.lh.prop('visual_area')\n",
    "                prf_x_hemi = sub.lh.prop('prf_x')\n",
    "                prf_y_hemi = sub.lh.prop('prf_y')\n",
    "                prf_r2_hemi = sub.lh.prop('prf_variance_explained')\n",
    "                prf_ecc_hemi = sub.lh.prop('prf_eccentricity')\n",
    "                white = sub.lh.surface('white') \n",
    "            elif hemi == 'rh':\n",
    "                label_roi = sub.rh.prop('visual_area')\n",
    "                prf_x_hemi = sub.rh.prop('prf_x')\n",
    "                prf_y_hemi = sub.rh.prop('prf_y')\n",
    "                prf_r2_hemi = sub.rh.prop('prf_variance_explained')\n",
    "                prf_ecc_hemi = sub.rh.prop('prf_eccentricity')\n",
    "                white = sub.rh.surface('white')\n",
    "\n",
    "            # Create the ROI mask\n",
    "            roi_vertices_hemi_mask = np.where(label_roi == roi_code[roi])[0]\n",
    "            if len(roi_vertices_hemi_mask) == 0:\n",
    "                raise ValueError(f\"No vertices found for ROI {roi} in {hemi}\")\n",
    "\n",
    "            # Access the adjacency_matrix of the ROI\n",
    "            submesh = white.submesh(roi_vertices_hemi_mask)\n",
    "            adjacency_matrix = submesh.adjacency_matrix\n",
    "\n",
    "        except Exception as e:\n",
    "            print(f\"Skipping ROI {roi} in {hemi}: {e}\")\n",
    "            continue  # passe directement à la prochaine ROI\n",
    "        \n",
    "        prf_dist_list = [] \n",
    "        geo_dist_list = []\n",
    "        prf_ecc_list = []\n",
    "        prf_r2_list = []\n",
    "\n",
    "        for vert_num, vert_idx in enumerate(submesh.labels):\n",
    "            vert_dist, vert_mask = compute_geodesic_distance(vert_num, adjacency_matrix, max_distance)\n",
    "            geo_dist_list.append(vert_dist)\n",
    "            prf_dist_list.append(compute_pRF_distance(\n",
    "                vert_num, \n",
    "                vert_mask, \n",
    "                prf_x_hemi[roi_vertices_hemi_mask], \n",
    "                prf_y_hemi[roi_vertices_hemi_mask]\n",
    "            ))\n",
    "            prf_ecc_list.append(prf_ecc_hemi[vert_idx]) \n",
    "            prf_r2_list.append(prf_r2_hemi[vert_idx])\n",
    "    \n",
    "        prf_CM_df_hemi = pd.DataFrame({\n",
    "            'prf_dist': prf_dist_list,\n",
    "            'geo_dist': geo_dist_list,\n",
    "            'prf_ecc': prf_ecc_list,\n",
    "            'prf_r2': prf_r2_list,\n",
    "            'hemi': hemi,\n",
    "            'roi': roi,\n",
    "            'subject': f'{subject_id}'\n",
    "        })\n",
    "        \n",
    "        prf_CM_df = pd.concat([prf_CM_df, prf_CM_df_hemi], ignore_index=True)\n",
    "    \n",
    "end_time = time.time()\n",
    "print(\"Execution time: {:.2f} seconds\".format(end_time - start_time))\n"
   ]
  },
  {
   "cell_type": "code",
   "execution_count": 13,
   "id": "56da0ca9-8f16-4a01-ad0f-d7dc5ebd2a65",
   "metadata": {},
   "outputs": [
    {
     "ename": "ValueError",
     "evalue": "zero-size array to reduction operation maximum which has no identity",
     "output_type": "error",
     "traceback": [
      "\u001b[0;31m---------------------------------------------------------------------------\u001b[0m",
      "\u001b[0;31mValueError\u001b[0m                                Traceback (most recent call last)",
      "Cell \u001b[0;32mIn[13], line 27\u001b[0m\n\u001b[1;32m     25\u001b[0m \u001b[38;5;66;03m# Acces the adjacency_matrix of the roi\u001b[39;00m\n\u001b[1;32m     26\u001b[0m submesh \u001b[38;5;241m=\u001b[39m white\u001b[38;5;241m.\u001b[39msubmesh(roi_vertices_hemi_mask)\n\u001b[0;32m---> 27\u001b[0m adjacency_matrix \u001b[38;5;241m=\u001b[39m \u001b[43msubmesh\u001b[49m\u001b[38;5;241;43m.\u001b[39;49m\u001b[43madjacency_matrix\u001b[49m\n\u001b[1;32m     29\u001b[0m prf_dist_list \u001b[38;5;241m=\u001b[39m [] \n\u001b[1;32m     30\u001b[0m geo_dist_list \u001b[38;5;241m=\u001b[39m []\n",
      "File \u001b[0;32m/srv/conda/envs/notebook/lib/python3.11/site-packages/pimms/immutable.py:135\u001b[0m, in \u001b[0;36m_imm_getattribute\u001b[0;34m(self, name)\u001b[0m\n\u001b[1;32m    133\u001b[0m     \u001b[38;5;28;01mreturn\u001b[39;00m \u001b[38;5;28mobject\u001b[39m\u001b[38;5;241m.\u001b[39m\u001b[38;5;21m__getattribute__\u001b[39m(\u001b[38;5;28mself\u001b[39m, name)\n\u001b[1;32m    134\u001b[0m (args, memfn, _) \u001b[38;5;241m=\u001b[39m values[name]\n\u001b[0;32m--> 135\u001b[0m value \u001b[38;5;241m=\u001b[39m memfn(\u001b[38;5;241m*\u001b[39m\u001b[43m[\u001b[49m\u001b[38;5;28;43mgetattr\u001b[39;49m\u001b[43m(\u001b[49m\u001b[38;5;28;43mself\u001b[39;49m\u001b[43m,\u001b[49m\u001b[43m \u001b[49m\u001b[43marg\u001b[49m\u001b[43m)\u001b[49m\u001b[43m \u001b[49m\u001b[38;5;28;43;01mfor\u001b[39;49;00m\u001b[43m \u001b[49m\u001b[43marg\u001b[49m\u001b[43m \u001b[49m\u001b[38;5;129;43;01min\u001b[39;49;00m\u001b[43m \u001b[49m\u001b[43margs\u001b[49m\u001b[43m]\u001b[49m)\n\u001b[1;32m    136\u001b[0m dd[name] \u001b[38;5;241m=\u001b[39m value\n\u001b[1;32m    137\u001b[0m \u001b[38;5;66;03m# if this is a const, it may have checks to run\u001b[39;00m\n",
      "File \u001b[0;32m/srv/conda/envs/notebook/lib/python3.11/site-packages/pimms/immutable.py:135\u001b[0m, in \u001b[0;36m<listcomp>\u001b[0;34m(.0)\u001b[0m\n\u001b[1;32m    133\u001b[0m     \u001b[38;5;28;01mreturn\u001b[39;00m \u001b[38;5;28mobject\u001b[39m\u001b[38;5;241m.\u001b[39m\u001b[38;5;21m__getattribute__\u001b[39m(\u001b[38;5;28mself\u001b[39m, name)\n\u001b[1;32m    134\u001b[0m (args, memfn, _) \u001b[38;5;241m=\u001b[39m values[name]\n\u001b[0;32m--> 135\u001b[0m value \u001b[38;5;241m=\u001b[39m memfn(\u001b[38;5;241m*\u001b[39m[\u001b[38;5;28mgetattr\u001b[39m(\u001b[38;5;28mself\u001b[39m, arg) \u001b[38;5;28;01mfor\u001b[39;00m arg \u001b[38;5;129;01min\u001b[39;00m args])\n\u001b[1;32m    136\u001b[0m dd[name] \u001b[38;5;241m=\u001b[39m value\n\u001b[1;32m    137\u001b[0m \u001b[38;5;66;03m# if this is a const, it may have checks to run\u001b[39;00m\n",
      "File \u001b[0;32m/srv/conda/envs/notebook/lib/python3.11/site-packages/pimms/immutable.py:135\u001b[0m, in \u001b[0;36m_imm_getattribute\u001b[0;34m(self, name)\u001b[0m\n\u001b[1;32m    133\u001b[0m     \u001b[38;5;28;01mreturn\u001b[39;00m \u001b[38;5;28mobject\u001b[39m\u001b[38;5;241m.\u001b[39m\u001b[38;5;21m__getattribute__\u001b[39m(\u001b[38;5;28mself\u001b[39m, name)\n\u001b[1;32m    134\u001b[0m (args, memfn, _) \u001b[38;5;241m=\u001b[39m values[name]\n\u001b[0;32m--> 135\u001b[0m value \u001b[38;5;241m=\u001b[39m memfn(\u001b[38;5;241m*\u001b[39m\u001b[43m[\u001b[49m\u001b[38;5;28;43mgetattr\u001b[39;49m\u001b[43m(\u001b[49m\u001b[38;5;28;43mself\u001b[39;49m\u001b[43m,\u001b[49m\u001b[43m \u001b[49m\u001b[43marg\u001b[49m\u001b[43m)\u001b[49m\u001b[43m \u001b[49m\u001b[38;5;28;43;01mfor\u001b[39;49;00m\u001b[43m \u001b[49m\u001b[43marg\u001b[49m\u001b[43m \u001b[49m\u001b[38;5;129;43;01min\u001b[39;49;00m\u001b[43m \u001b[49m\u001b[43margs\u001b[49m\u001b[43m]\u001b[49m)\n\u001b[1;32m    136\u001b[0m dd[name] \u001b[38;5;241m=\u001b[39m value\n\u001b[1;32m    137\u001b[0m \u001b[38;5;66;03m# if this is a const, it may have checks to run\u001b[39;00m\n",
      "File \u001b[0;32m/srv/conda/envs/notebook/lib/python3.11/site-packages/pimms/immutable.py:135\u001b[0m, in \u001b[0;36m<listcomp>\u001b[0;34m(.0)\u001b[0m\n\u001b[1;32m    133\u001b[0m     \u001b[38;5;28;01mreturn\u001b[39;00m \u001b[38;5;28mobject\u001b[39m\u001b[38;5;241m.\u001b[39m\u001b[38;5;21m__getattribute__\u001b[39m(\u001b[38;5;28mself\u001b[39m, name)\n\u001b[1;32m    134\u001b[0m (args, memfn, _) \u001b[38;5;241m=\u001b[39m values[name]\n\u001b[0;32m--> 135\u001b[0m value \u001b[38;5;241m=\u001b[39m memfn(\u001b[38;5;241m*\u001b[39m[\u001b[38;5;28mgetattr\u001b[39m(\u001b[38;5;28mself\u001b[39m, arg) \u001b[38;5;28;01mfor\u001b[39;00m arg \u001b[38;5;129;01min\u001b[39;00m args])\n\u001b[1;32m    136\u001b[0m dd[name] \u001b[38;5;241m=\u001b[39m value\n\u001b[1;32m    137\u001b[0m \u001b[38;5;66;03m# if this is a const, it may have checks to run\u001b[39;00m\n",
      "File \u001b[0;32m/srv/conda/envs/notebook/lib/python3.11/site-packages/pimms/immutable.py:135\u001b[0m, in \u001b[0;36m_imm_getattribute\u001b[0;34m(self, name)\u001b[0m\n\u001b[1;32m    133\u001b[0m     \u001b[38;5;28;01mreturn\u001b[39;00m \u001b[38;5;28mobject\u001b[39m\u001b[38;5;241m.\u001b[39m\u001b[38;5;21m__getattribute__\u001b[39m(\u001b[38;5;28mself\u001b[39m, name)\n\u001b[1;32m    134\u001b[0m (args, memfn, _) \u001b[38;5;241m=\u001b[39m values[name]\n\u001b[0;32m--> 135\u001b[0m value \u001b[38;5;241m=\u001b[39m \u001b[43mmemfn\u001b[49m\u001b[43m(\u001b[49m\u001b[38;5;241;43m*\u001b[39;49m\u001b[43m[\u001b[49m\u001b[38;5;28;43mgetattr\u001b[39;49m\u001b[43m(\u001b[49m\u001b[38;5;28;43mself\u001b[39;49m\u001b[43m,\u001b[49m\u001b[43m \u001b[49m\u001b[43marg\u001b[49m\u001b[43m)\u001b[49m\u001b[43m \u001b[49m\u001b[38;5;28;43;01mfor\u001b[39;49;00m\u001b[43m \u001b[49m\u001b[43marg\u001b[49m\u001b[43m \u001b[49m\u001b[38;5;129;43;01min\u001b[39;49;00m\u001b[43m \u001b[49m\u001b[43margs\u001b[49m\u001b[43m]\u001b[49m\u001b[43m)\u001b[49m\n\u001b[1;32m    136\u001b[0m dd[name] \u001b[38;5;241m=\u001b[39m value\n\u001b[1;32m    137\u001b[0m \u001b[38;5;66;03m# if this is a const, it may have checks to run\u001b[39;00m\n",
      "File \u001b[0;32m/srv/conda/envs/notebook/lib/python3.11/site-packages/neuropythy/geometry/mesh.py:1203\u001b[0m, in \u001b[0;36mMesh.edge_coordinates\u001b[0;34m(tess, coordinates)\u001b[0m\n\u001b[1;32m   1196\u001b[0m \u001b[38;5;129m@pimms\u001b[39m\u001b[38;5;241m.\u001b[39mvalue\n\u001b[1;32m   1197\u001b[0m \u001b[38;5;28;01mdef\u001b[39;00m\u001b[38;5;250m \u001b[39m\u001b[38;5;21medge_coordinates\u001b[39m(tess, coordinates):\n\u001b[1;32m   1198\u001b[0m \u001b[38;5;250m    \u001b[39m\u001b[38;5;124;03m'''\u001b[39;00m\n\u001b[1;32m   1199\u001b[0m \u001b[38;5;124;03m    mesh.edge_coordinates is the (2 x d x p) array of the coordinates that define each edge in\u001b[39;00m\n\u001b[1;32m   1200\u001b[0m \u001b[38;5;124;03m      the given mesh; d is the number of dimensions that define the vertex positions in the mesh\u001b[39;00m\n\u001b[1;32m   1201\u001b[0m \u001b[38;5;124;03m      and p is the number of edges in the mesh.\u001b[39;00m\n\u001b[1;32m   1202\u001b[0m \u001b[38;5;124;03m    '''\u001b[39;00m\n\u001b[0;32m-> 1203\u001b[0m     \u001b[38;5;28;01mreturn\u001b[39;00m pimms\u001b[38;5;241m.\u001b[39mimm_array(np\u001b[38;5;241m.\u001b[39mtranspose(coordinates[:, \u001b[43mtess\u001b[49m\u001b[38;5;241;43m.\u001b[39;49m\u001b[43mindexed_edges\u001b[49m], (\u001b[38;5;241m1\u001b[39m,\u001b[38;5;241m0\u001b[39m,\u001b[38;5;241m2\u001b[39m)))\n",
      "File \u001b[0;32m/srv/conda/envs/notebook/lib/python3.11/site-packages/pimms/immutable.py:135\u001b[0m, in \u001b[0;36m_imm_getattribute\u001b[0;34m(self, name)\u001b[0m\n\u001b[1;32m    133\u001b[0m     \u001b[38;5;28;01mreturn\u001b[39;00m \u001b[38;5;28mobject\u001b[39m\u001b[38;5;241m.\u001b[39m\u001b[38;5;21m__getattribute__\u001b[39m(\u001b[38;5;28mself\u001b[39m, name)\n\u001b[1;32m    134\u001b[0m (args, memfn, _) \u001b[38;5;241m=\u001b[39m values[name]\n\u001b[0;32m--> 135\u001b[0m value \u001b[38;5;241m=\u001b[39m memfn(\u001b[38;5;241m*\u001b[39m\u001b[43m[\u001b[49m\u001b[38;5;28;43mgetattr\u001b[39;49m\u001b[43m(\u001b[49m\u001b[38;5;28;43mself\u001b[39;49m\u001b[43m,\u001b[49m\u001b[43m \u001b[49m\u001b[43marg\u001b[49m\u001b[43m)\u001b[49m\u001b[43m \u001b[49m\u001b[38;5;28;43;01mfor\u001b[39;49;00m\u001b[43m \u001b[49m\u001b[43marg\u001b[49m\u001b[43m \u001b[49m\u001b[38;5;129;43;01min\u001b[39;49;00m\u001b[43m \u001b[49m\u001b[43margs\u001b[49m\u001b[43m]\u001b[49m)\n\u001b[1;32m    136\u001b[0m dd[name] \u001b[38;5;241m=\u001b[39m value\n\u001b[1;32m    137\u001b[0m \u001b[38;5;66;03m# if this is a const, it may have checks to run\u001b[39;00m\n",
      "File \u001b[0;32m/srv/conda/envs/notebook/lib/python3.11/site-packages/pimms/immutable.py:135\u001b[0m, in \u001b[0;36m<listcomp>\u001b[0;34m(.0)\u001b[0m\n\u001b[1;32m    133\u001b[0m     \u001b[38;5;28;01mreturn\u001b[39;00m \u001b[38;5;28mobject\u001b[39m\u001b[38;5;241m.\u001b[39m\u001b[38;5;21m__getattribute__\u001b[39m(\u001b[38;5;28mself\u001b[39m, name)\n\u001b[1;32m    134\u001b[0m (args, memfn, _) \u001b[38;5;241m=\u001b[39m values[name]\n\u001b[0;32m--> 135\u001b[0m value \u001b[38;5;241m=\u001b[39m memfn(\u001b[38;5;241m*\u001b[39m[\u001b[38;5;28mgetattr\u001b[39m(\u001b[38;5;28mself\u001b[39m, arg) \u001b[38;5;28;01mfor\u001b[39;00m arg \u001b[38;5;129;01min\u001b[39;00m args])\n\u001b[1;32m    136\u001b[0m dd[name] \u001b[38;5;241m=\u001b[39m value\n\u001b[1;32m    137\u001b[0m \u001b[38;5;66;03m# if this is a const, it may have checks to run\u001b[39;00m\n",
      "File \u001b[0;32m/srv/conda/envs/notebook/lib/python3.11/site-packages/pimms/immutable.py:135\u001b[0m, in \u001b[0;36m_imm_getattribute\u001b[0;34m(self, name)\u001b[0m\n\u001b[1;32m    133\u001b[0m     \u001b[38;5;28;01mreturn\u001b[39;00m \u001b[38;5;28mobject\u001b[39m\u001b[38;5;241m.\u001b[39m\u001b[38;5;21m__getattribute__\u001b[39m(\u001b[38;5;28mself\u001b[39m, name)\n\u001b[1;32m    134\u001b[0m (args, memfn, _) \u001b[38;5;241m=\u001b[39m values[name]\n\u001b[0;32m--> 135\u001b[0m value \u001b[38;5;241m=\u001b[39m memfn(\u001b[38;5;241m*\u001b[39m\u001b[43m[\u001b[49m\u001b[38;5;28;43mgetattr\u001b[39;49m\u001b[43m(\u001b[49m\u001b[38;5;28;43mself\u001b[39;49m\u001b[43m,\u001b[49m\u001b[43m \u001b[49m\u001b[43marg\u001b[49m\u001b[43m)\u001b[49m\u001b[43m \u001b[49m\u001b[38;5;28;43;01mfor\u001b[39;49;00m\u001b[43m \u001b[49m\u001b[43marg\u001b[49m\u001b[43m \u001b[49m\u001b[38;5;129;43;01min\u001b[39;49;00m\u001b[43m \u001b[49m\u001b[43margs\u001b[49m\u001b[43m]\u001b[49m)\n\u001b[1;32m    136\u001b[0m dd[name] \u001b[38;5;241m=\u001b[39m value\n\u001b[1;32m    137\u001b[0m \u001b[38;5;66;03m# if this is a const, it may have checks to run\u001b[39;00m\n",
      "File \u001b[0;32m/srv/conda/envs/notebook/lib/python3.11/site-packages/pimms/immutable.py:135\u001b[0m, in \u001b[0;36m<listcomp>\u001b[0;34m(.0)\u001b[0m\n\u001b[1;32m    133\u001b[0m     \u001b[38;5;28;01mreturn\u001b[39;00m \u001b[38;5;28mobject\u001b[39m\u001b[38;5;241m.\u001b[39m\u001b[38;5;21m__getattribute__\u001b[39m(\u001b[38;5;28mself\u001b[39m, name)\n\u001b[1;32m    134\u001b[0m (args, memfn, _) \u001b[38;5;241m=\u001b[39m values[name]\n\u001b[0;32m--> 135\u001b[0m value \u001b[38;5;241m=\u001b[39m memfn(\u001b[38;5;241m*\u001b[39m[\u001b[38;5;28mgetattr\u001b[39m(\u001b[38;5;28mself\u001b[39m, arg) \u001b[38;5;28;01mfor\u001b[39;00m arg \u001b[38;5;129;01min\u001b[39;00m args])\n\u001b[1;32m    136\u001b[0m dd[name] \u001b[38;5;241m=\u001b[39m value\n\u001b[1;32m    137\u001b[0m \u001b[38;5;66;03m# if this is a const, it may have checks to run\u001b[39;00m\n",
      "File \u001b[0;32m/srv/conda/envs/notebook/lib/python3.11/site-packages/pimms/immutable.py:135\u001b[0m, in \u001b[0;36m_imm_getattribute\u001b[0;34m(self, name)\u001b[0m\n\u001b[1;32m    133\u001b[0m     \u001b[38;5;28;01mreturn\u001b[39;00m \u001b[38;5;28mobject\u001b[39m\u001b[38;5;241m.\u001b[39m\u001b[38;5;21m__getattribute__\u001b[39m(\u001b[38;5;28mself\u001b[39m, name)\n\u001b[1;32m    134\u001b[0m (args, memfn, _) \u001b[38;5;241m=\u001b[39m values[name]\n\u001b[0;32m--> 135\u001b[0m value \u001b[38;5;241m=\u001b[39m \u001b[43mmemfn\u001b[49m\u001b[43m(\u001b[49m\u001b[38;5;241;43m*\u001b[39;49m\u001b[43m[\u001b[49m\u001b[38;5;28;43mgetattr\u001b[39;49m\u001b[43m(\u001b[49m\u001b[38;5;28;43mself\u001b[39;49m\u001b[43m,\u001b[49m\u001b[43m \u001b[49m\u001b[43marg\u001b[49m\u001b[43m)\u001b[49m\u001b[43m \u001b[49m\u001b[38;5;28;43;01mfor\u001b[39;49;00m\u001b[43m \u001b[49m\u001b[43marg\u001b[49m\u001b[43m \u001b[49m\u001b[38;5;129;43;01min\u001b[39;49;00m\u001b[43m \u001b[49m\u001b[43margs\u001b[49m\u001b[43m]\u001b[49m\u001b[43m)\u001b[49m\n\u001b[1;32m    136\u001b[0m dd[name] \u001b[38;5;241m=\u001b[39m value\n\u001b[1;32m    137\u001b[0m \u001b[38;5;66;03m# if this is a const, it may have checks to run\u001b[39;00m\n",
      "File \u001b[0;32m/srv/conda/envs/notebook/lib/python3.11/site-packages/neuropythy/geometry/mesh.py:760\u001b[0m, in \u001b[0;36mTesselation.edge_data\u001b[0;34m(faces)\u001b[0m\n\u001b[1;32m    755\u001b[0m \u001b[38;5;129m@pimms\u001b[39m\u001b[38;5;241m.\u001b[39mvalue\n\u001b[1;32m    756\u001b[0m \u001b[38;5;28;01mdef\u001b[39;00m\u001b[38;5;250m \u001b[39m\u001b[38;5;21medge_data\u001b[39m(faces):\n\u001b[1;32m    757\u001b[0m \u001b[38;5;250m    \u001b[39m\u001b[38;5;124;03m'''\u001b[39;00m\n\u001b[1;32m    758\u001b[0m \u001b[38;5;124;03m    tess.edge_data is a mapping of data relevant to the edges of the given tesselation.\u001b[39;00m\n\u001b[1;32m    759\u001b[0m \u001b[38;5;124;03m    '''\u001b[39;00m\n\u001b[0;32m--> 760\u001b[0m     limit \u001b[38;5;241m=\u001b[39m \u001b[43mnp\u001b[49m\u001b[38;5;241;43m.\u001b[39;49m\u001b[43mmax\u001b[49m\u001b[43m(\u001b[49m\u001b[43mfaces\u001b[49m\u001b[43m)\u001b[49m \u001b[38;5;241m+\u001b[39m \u001b[38;5;241m1\u001b[39m\n\u001b[1;32m    761\u001b[0m     all_edges \u001b[38;5;241m=\u001b[39m np\u001b[38;5;241m.\u001b[39mhstack([[faces[\u001b[38;5;241m0\u001b[39m],faces[\u001b[38;5;241m1\u001b[39m]], [faces[\u001b[38;5;241m1\u001b[39m],faces[\u001b[38;5;241m2\u001b[39m]], [faces[\u001b[38;5;241m2\u001b[39m],faces[\u001b[38;5;241m0\u001b[39m]]])\n\u001b[1;32m    762\u001b[0m     (edge_list,cnt) \u001b[38;5;241m=\u001b[39m np\u001b[38;5;241m.\u001b[39munique(np\u001b[38;5;241m.\u001b[39msort(all_edges, axis\u001b[38;5;241m=\u001b[39m\u001b[38;5;241m0\u001b[39m), axis\u001b[38;5;241m=\u001b[39m\u001b[38;5;241m1\u001b[39m, return_counts\u001b[38;5;241m=\u001b[39m\u001b[38;5;28;01mTrue\u001b[39;00m)\n",
      "File \u001b[0;32m/srv/conda/envs/notebook/lib/python3.11/site-packages/numpy/core/fromnumeric.py:2810\u001b[0m, in \u001b[0;36mmax\u001b[0;34m(a, axis, out, keepdims, initial, where)\u001b[0m\n\u001b[1;32m   2692\u001b[0m \u001b[38;5;129m@array_function_dispatch\u001b[39m(_max_dispatcher)\n\u001b[1;32m   2693\u001b[0m \u001b[38;5;129m@set_module\u001b[39m(\u001b[38;5;124m'\u001b[39m\u001b[38;5;124mnumpy\u001b[39m\u001b[38;5;124m'\u001b[39m)\n\u001b[1;32m   2694\u001b[0m \u001b[38;5;28;01mdef\u001b[39;00m\u001b[38;5;250m \u001b[39m\u001b[38;5;21mmax\u001b[39m(a, axis\u001b[38;5;241m=\u001b[39m\u001b[38;5;28;01mNone\u001b[39;00m, out\u001b[38;5;241m=\u001b[39m\u001b[38;5;28;01mNone\u001b[39;00m, keepdims\u001b[38;5;241m=\u001b[39mnp\u001b[38;5;241m.\u001b[39m_NoValue, initial\u001b[38;5;241m=\u001b[39mnp\u001b[38;5;241m.\u001b[39m_NoValue,\n\u001b[1;32m   2695\u001b[0m          where\u001b[38;5;241m=\u001b[39mnp\u001b[38;5;241m.\u001b[39m_NoValue):\n\u001b[1;32m   2696\u001b[0m \u001b[38;5;250m    \u001b[39m\u001b[38;5;124;03m\"\"\"\u001b[39;00m\n\u001b[1;32m   2697\u001b[0m \u001b[38;5;124;03m    Return the maximum of an array or maximum along an axis.\u001b[39;00m\n\u001b[1;32m   2698\u001b[0m \n\u001b[0;32m   (...)\u001b[0m\n\u001b[1;32m   2808\u001b[0m \u001b[38;5;124;03m    5\u001b[39;00m\n\u001b[1;32m   2809\u001b[0m \u001b[38;5;124;03m    \"\"\"\u001b[39;00m\n\u001b[0;32m-> 2810\u001b[0m     \u001b[38;5;28;01mreturn\u001b[39;00m \u001b[43m_wrapreduction\u001b[49m\u001b[43m(\u001b[49m\u001b[43ma\u001b[49m\u001b[43m,\u001b[49m\u001b[43m \u001b[49m\u001b[43mnp\u001b[49m\u001b[38;5;241;43m.\u001b[39;49m\u001b[43mmaximum\u001b[49m\u001b[43m,\u001b[49m\u001b[43m \u001b[49m\u001b[38;5;124;43m'\u001b[39;49m\u001b[38;5;124;43mmax\u001b[39;49m\u001b[38;5;124;43m'\u001b[39;49m\u001b[43m,\u001b[49m\u001b[43m \u001b[49m\u001b[43maxis\u001b[49m\u001b[43m,\u001b[49m\u001b[43m \u001b[49m\u001b[38;5;28;43;01mNone\u001b[39;49;00m\u001b[43m,\u001b[49m\u001b[43m \u001b[49m\u001b[43mout\u001b[49m\u001b[43m,\u001b[49m\n\u001b[1;32m   2811\u001b[0m \u001b[43m                          \u001b[49m\u001b[43mkeepdims\u001b[49m\u001b[38;5;241;43m=\u001b[39;49m\u001b[43mkeepdims\u001b[49m\u001b[43m,\u001b[49m\u001b[43m \u001b[49m\u001b[43minitial\u001b[49m\u001b[38;5;241;43m=\u001b[39;49m\u001b[43minitial\u001b[49m\u001b[43m,\u001b[49m\u001b[43m \u001b[49m\u001b[43mwhere\u001b[49m\u001b[38;5;241;43m=\u001b[39;49m\u001b[43mwhere\u001b[49m\u001b[43m)\u001b[49m\n",
      "File \u001b[0;32m/srv/conda/envs/notebook/lib/python3.11/site-packages/numpy/core/fromnumeric.py:88\u001b[0m, in \u001b[0;36m_wrapreduction\u001b[0;34m(obj, ufunc, method, axis, dtype, out, **kwargs)\u001b[0m\n\u001b[1;32m     85\u001b[0m         \u001b[38;5;28;01melse\u001b[39;00m:\n\u001b[1;32m     86\u001b[0m             \u001b[38;5;28;01mreturn\u001b[39;00m reduction(axis\u001b[38;5;241m=\u001b[39maxis, out\u001b[38;5;241m=\u001b[39mout, \u001b[38;5;241m*\u001b[39m\u001b[38;5;241m*\u001b[39mpasskwargs)\n\u001b[0;32m---> 88\u001b[0m \u001b[38;5;28;01mreturn\u001b[39;00m \u001b[43mufunc\u001b[49m\u001b[38;5;241;43m.\u001b[39;49m\u001b[43mreduce\u001b[49m\u001b[43m(\u001b[49m\u001b[43mobj\u001b[49m\u001b[43m,\u001b[49m\u001b[43m \u001b[49m\u001b[43maxis\u001b[49m\u001b[43m,\u001b[49m\u001b[43m \u001b[49m\u001b[43mdtype\u001b[49m\u001b[43m,\u001b[49m\u001b[43m \u001b[49m\u001b[43mout\u001b[49m\u001b[43m,\u001b[49m\u001b[43m \u001b[49m\u001b[38;5;241;43m*\u001b[39;49m\u001b[38;5;241;43m*\u001b[39;49m\u001b[43mpasskwargs\u001b[49m\u001b[43m)\u001b[49m\n",
      "\u001b[0;31mValueError\u001b[0m: zero-size array to reduction operation maximum which has no identity"
     ]
    }
   ],
   "source": [
    "# prf_CM_df = pd.DataFrame()\n",
    "# start_time = time.time()\n",
    "\n",
    "# for n_hemi, hemi in enumerate(hemis): \n",
    "#     for roi in rois : \n",
    "#         # ROI mask et paramètres\n",
    "#         if hemi == 'lh':\n",
    "#             label_roi = sub.lh.prop('visual_area')\n",
    "#             prf_x_hemi = sub.lh.prop('prf_x')\n",
    "#             prf_y_hemi = sub.lh.prop('prf_y')\n",
    "#             prf_r2_hemi = sub.lh.prop('prf_variance_explained')\n",
    "#             prf_ecc_hemi = sub.lh.prop('prf_eccentricity')\n",
    "#             white = sub.lh.surface('white') \n",
    "#         elif hemi == 'rh':\n",
    "#             label_roi = sub.rh.prop('visual_area')\n",
    "#             prf_x_hemi = sub.rh.prop('prf_x')\n",
    "#             prf_y_hemi = sub.rh.prop('prf_y')\n",
    "#             prf_r2_hemi = sub.rh.prop('prf_variance_explained')\n",
    "#             prf_ecc_hemi = sub.rh.prop('prf_eccentricity')\n",
    "#             white = sub.rh.surface('white')\n",
    "#         try :\n",
    "#             # Create the Roi mask\n",
    "#             roi_vertices_hemi_mask = np.where(label_roi == roi_code[roi])[0]\n",
    "                    \n",
    "#             # Acces the adjacency_matrix of the roi\n",
    "#             submesh = white.submesh(roi_vertices_hemi_mask)\n",
    "#             adjacency_matrix = submesh.adjacency_matrix\n",
    "#         execpt \n",
    "    \n",
    "#         prf_dist_list = [] \n",
    "#         geo_dist_list = []\n",
    "#         prf_ecc_list = []\n",
    "#         prf_r2_list = []\n",
    "\n",
    "#         for vert_num, vert_idx in enumerate(submesh.labels):\n",
    "#             vert_dist, vert_mask = compute_geodesic_distance(vert_num, adjacency_matrix, max_distance)\n",
    "#             geo_dist_list.append(vert_dist)\n",
    "#             prf_dist_list.append(compute_pRF_distance(vert_num, \n",
    "#                                                       vert_mask, \n",
    "#                                                       prf_x_hemi[roi_vertices_hemi_mask], \n",
    "#                                                       prf_y_hemi[roi_vertices_hemi_mask]))\n",
    "        \n",
    "#             prf_ecc_list.append(prf_ecc_hemi[vert_idx]) \n",
    "#             prf_r2_list.append(prf_r2_hemi[vert_idx])\n",
    "    \n",
    "#         prf_CM_df_hemi = pd.DataFrame()\n",
    "#         prf_CM_df_hemi['prf_dist'] = prf_dist_list\n",
    "#         prf_CM_df_hemi['geo_dist'] = geo_dist_list\n",
    "#         prf_CM_df_hemi['prf_ecc'] = prf_ecc_list\n",
    "#         prf_CM_df_hemi['prf_r2'] = prf_r2_list\n",
    "#         prf_CM_df_hemi['hemi'] = hemi  \n",
    "#         prf_CM_df_hemi['roi'] = roi\n",
    "#         prf_CM_df_hemi['subject'] = '{}'.format(subject_id)  \n",
    "        \n",
    "    \n",
    "#         prf_CM_df = pd.concat([prf_CM_df, prf_CM_df_hemi], ignore_index=True)\n",
    "    \n",
    "# end_time = time.time()\n",
    "# print(\"Execution time: {:.2f} seconds\".format(end_time - start_time))"
   ]
  },
  {
   "cell_type": "code",
   "execution_count": 8,
   "id": "2e68929e-72e7-4130-80d9-20643a81efe1",
   "metadata": {},
   "outputs": [],
   "source": [
    "prf_CM_df['pRF_CM'] = prf_CM_df['geo_dist'] / prf_CM_df['prf_dist']"
   ]
  },
  {
   "cell_type": "code",
   "execution_count": 9,
   "id": "33612abb-60dc-4df2-a7b1-986b5accfbe0",
   "metadata": {},
   "outputs": [],
   "source": [
    "# Export DF \n",
    "tsv_dir = '/home/jovyan/projects/pRF-project_NH2025/data/tsv'\n",
    "os.makedirs(tsv_dir, exist_ok=True)\n",
    "\n",
    "# tsv_fn = '{}/{}_prf_parameters.tsv'.format(tsv_dir, subject_id)\n",
    "tsv_fn = '{}/{}_prf_parameters_5mm.tsv'.format(tsv_dir, subject_id)\n",
    "\n",
    "prf_CM_df.to_csv(tsv_fn, sep=\"\\t\", na_rep='NaN', index=False)"
   ]
  },
  {
   "cell_type": "code",
   "execution_count": null,
   "id": "c0dbf0f6-1e9b-4d4f-82b4-9664b76ddd39",
   "metadata": {},
   "outputs": [],
   "source": []
  }
 ],
 "metadata": {
  "kernelspec": {
   "display_name": "Python 3 (ipykernel)",
   "language": "python",
   "name": "python3"
  },
  "language_info": {
   "codemirror_mode": {
    "name": "ipython",
    "version": 3
   },
   "file_extension": ".py",
   "mimetype": "text/x-python",
   "name": "python",
   "nbconvert_exporter": "python",
   "pygments_lexer": "ipython3",
   "version": "3.11.11"
  }
 },
 "nbformat": 4,
 "nbformat_minor": 5
}
