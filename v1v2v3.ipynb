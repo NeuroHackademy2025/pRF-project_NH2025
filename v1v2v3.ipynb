{
 "cells": [
  {
   "cell_type": "markdown",
   "id": "5bf65d3c-dddf-495c-9a28-7b39eacdff33",
   "metadata": {},
   "source": [
    "# Compute pRF cortical magnification base on pRF parameters "
   ]
  },
  {
   "cell_type": "code",
   "execution_count": 1,
   "id": "ff5afd60-5e93-43ca-84aa-73b05c392d01",
   "metadata": {},
   "outputs": [],
   "source": [
    "# Stop warnings\n",
    "import warnings\n",
    "warnings.filterwarnings(\"ignore\")\n",
    "\n",
    "# Import \n",
    "import os \n",
    "import time\n",
    "import numpy as np\n",
    "import pandas as pd\n",
    "from scipy import stats\n",
    "import neuropythy as ny\n",
    "import matplotlib.pyplot as plt\n",
    "import scipy.sparse.csgraph as cs\n",
    "import gc\n",
    "\n",
    "# personal import \n",
    "from plot_utils import plotly_template, prf_ecc_pcm_plot\n",
    "from math_utils import weighted_regression, weighted_nan_percentile, weighted_nan_median\n",
    "\n"
   ]
  },
  {
   "cell_type": "markdown",
   "id": "4d360c8f-9b65-428b-9dd6-9857428d08d5",
   "metadata": {},
   "source": [
    "# Apply Wang atlas"
   ]
  },
  {
   "cell_type": "code",
   "execution_count": 2,
   "id": "33bf09d2-2f85-4461-b878-62f67950240f",
   "metadata": {},
   "outputs": [],
   "source": [
    "def apply_wang(sub, h):\n",
    "    \"\"\"Returns the Wang atlas as a property for a subjects hemisphere.\n",
    "\n",
    "    `apply_wang(sub, 'lh')` applies the atlas to the subject's left hemisphere.\n",
    "    `apply_wang(sub, 'rh')` applies the atlas to the subject's right hemisphere.\n",
    "    \"\"\"\n",
    "    atl = apply_wang.atlas[h]\n",
    "    hem = sub.hemis[h]\n",
    "    fsa = ny.freesurfer_subject(apply_wang.fsaverage_path)\n",
    "    fsa = fsa.hemis[h]\n",
    "    return fsa.interpolate(hem, atl)\n",
    "apply_wang.atlas = {\n",
    "    h: ny.load(os.path.join(ny.library_path(), 'data', 'fsaverage', 'surf', f'{h}.wang15_mplbl.v1_0.mgz'))\n",
    "    for h in ('lh', 'rh')}\n",
    "apply_wang.fsaverage_path = '/home/jovyan/shared/data/freesurfer/fsaverage'"
   ]
  },
  {
   "cell_type": "markdown",
   "id": "a7cda998-be80-40b4-b014-b2d22b3004e1",
   "metadata": {},
   "source": [
    "# Geodesic distance (mm)"
   ]
  },
  {
   "cell_type": "code",
   "execution_count": 3,
   "id": "77821801-9320-4fff-8401-f5e53e395157",
   "metadata": {},
   "outputs": [],
   "source": [
    "def compute_geodesic_distance(vert_of_interest_idx, adjacency_matrix, max_distance=None):\n",
    "    \"\"\"\n",
    "    Compute geodesic distances from a vertex to all others in the mesh, optionally limited to max_distance.\n",
    "\n",
    "    Parameters\n",
    "    ----------\n",
    "    vert_of_interest_idx : int\n",
    "        Index of the vertex from which to compute distances.\n",
    "    adjacency_matrix : scipy.sparse matrix\n",
    "        Sparse matrix representing the adjacency of the mesh.\n",
    "    max_distance : float or None, optional\n",
    "        If provided, only return distances less than this value.\n",
    "\n",
    "    Returns\n",
    "    -------\n",
    "    median_distance : float\n",
    "        Median geodesic distance (within mask if max_distance is provided).\n",
    "    vert_dist_idx : array of int, optional\n",
    "        Indices of vertices within max_distance (only returned if max_distance is not None).\n",
    "    \"\"\"\n",
    "    distances = cs.dijkstra(adjacency_matrix, indices=[vert_of_interest_idx], directed=False)[0]\n",
    "\n",
    "    if max_distance is not None:\n",
    "        distance_mask = distances < max_distance\n",
    "        vert_dist_idx = np.where(distance_mask)[0]\n",
    "        median_distance = np.median(distances[distance_mask])\n",
    "        return median_distance, vert_dist_idx\n",
    "    else:\n",
    "        median_distance = np.median(distances)\n",
    "        return median_distance\n",
    "        "
   ]
  },
  {
   "cell_type": "markdown",
   "id": "fddd4631-e428-4f2c-a266-a35ffdb59530",
   "metadata": {},
   "source": [
    "# Visual distance (dva)"
   ]
  },
  {
   "cell_type": "code",
   "execution_count": 4,
   "id": "317ce784-bae4-4ad1-8885-89f41d5f76fe",
   "metadata": {},
   "outputs": [],
   "source": [
    "def compute_pRF_distance(vert_of_interest_idx, roi_vertices_hemi_mask, prf_x, prf_y):\n",
    "    \n",
    "    dist_array = []\n",
    "    for vert_num, vert_idx in enumerate(roi_vertices_hemi_mask):\n",
    "        # Acces pRF position\n",
    "        target_x = prf_x[vert_of_interest_idx]\n",
    "        target_y = prf_y[vert_of_interest_idx]\n",
    "        neigboor_x = prf_x[vert_idx]\n",
    "        neigboor_y = prf_y[vert_idx]\n",
    "    \n",
    "        # Compute visual distance\n",
    "        vert_prf_dist_array_vert = np.sqrt((target_x - neigboor_x)**2 + (target_y - neigboor_y)**2)\n",
    "        dist_array.append(vert_prf_dist_array_vert)\n",
    "\n",
    "    # compute the median of visual distance\n",
    "    vert_prf_dist_array_median = np.median(dist_array)\n",
    "    \n",
    "    return vert_prf_dist_array_median\n",
    "    "
   ]
  },
  {
   "cell_type": "markdown",
   "id": "88d8d9e1-911d-4033-9915-03dd68ca7581",
   "metadata": {},
   "source": [
    "# Compute de pRF CM (mm/dva)"
   ]
  },
  {
   "cell_type": "markdown",
   "id": "e60ef9c2-6a73-4622-94fd-71b725a476b0",
   "metadata": {},
   "source": [
    "## Acces data"
   ]
  },
  {
   "cell_type": "code",
   "execution_count": 5,
   "id": "28591181-3421-40c7-9bfc-e438bf0c9a74",
   "metadata": {},
   "outputs": [],
   "source": [
    "# Settings \n",
    "#subject_id = 118225\n",
    "hemis = ['rh', 'lh']\n",
    "rois = [\"V1\", \"V2\", \"V3\"]\n",
    "roi_code = {\n",
    "     \"V1\": 1,\n",
    "     \"V2\": 2,\n",
    "     \"V3\": 3}\n",
    "max_ecc = 8\n",
    "max_distance = 5"
   ]
  },
  {
   "cell_type": "code",
   "execution_count": 16,
   "id": "1f919d03-1054-4a4c-b43f-0ee5a16403f1",
   "metadata": {},
   "outputs": [],
   "source": [
    "# Get first 10 subjects' numbers\n",
    "allsub = ny.data['hcp_lines'].subject_list"
   ]
  },
  {
   "cell_type": "code",
   "execution_count": 7,
   "id": "0c9aa84c-dbf3-434a-9d52-ca5805ad5b0e",
   "metadata": {},
   "outputs": [],
   "source": [
    "# Load an HCP subject:\n",
    "# sub = ny.hcp_subject(subject_id)\n",
    "# data = []\n",
    "# for ii in allsub[0:9]:\n",
    "#     sub = ny.hcp_subject(ii)\n",
    "#     data.append(sub)\n",
    "# sub = ny.data['hcp_lines'].subjects[subject_id]\n",
    "# wang_labels_lh = apply_wang(sub, 'lh')\n",
    "# wang_labels_rh = apply_wang(sub, 'rh')"
   ]
  },
  {
   "cell_type": "markdown",
   "id": "78e82157-3e8b-4ac2-a983-d2ab0cec29a4",
   "metadata": {},
   "source": [
    "## pRF CM computation"
   ]
  },
  {
   "cell_type": "code",
   "execution_count": 14,
   "id": "56da0ca9-8f16-4a01-ad0f-d7dc5ebd2a65",
   "metadata": {},
   "outputs": [
    {
     "name": "stdout",
     "output_type": "stream",
     "text": [
      "0 / 26\n",
      "Execution time: 105.05 seconds\n",
      "1 / 26\n",
      "Execution time: 85.96 seconds\n",
      "2 / 26\n",
      "Execution time: 97.85 seconds\n",
      "3 / 26\n",
      "Execution time: 104.14 seconds\n",
      "4 / 26\n",
      "Execution time: 99.25 seconds\n",
      "5 / 26\n",
      "Execution time: 103.16 seconds\n",
      "6 / 26\n",
      "Execution time: 108.00 seconds\n",
      "7 / 26\n",
      "Execution time: 104.33 seconds\n",
      "8 / 26\n",
      "Execution time: 108.57 seconds\n",
      "9 / 26\n",
      "Execution time: 107.04 seconds\n",
      "10 / 26\n",
      "Execution time: 109.16 seconds\n",
      "11 / 26\n",
      "Execution time: 98.50 seconds\n",
      "12 / 26\n",
      "Execution time: 111.31 seconds\n",
      "13 / 26\n",
      "Execution time: 100.50 seconds\n",
      "14 / 26\n",
      "Execution time: 85.85 seconds\n",
      "15 / 26\n",
      "Execution time: 98.16 seconds\n",
      "16 / 26\n",
      "Execution time: 95.65 seconds\n",
      "17 / 26\n",
      "Execution time: 92.58 seconds\n",
      "18 / 26\n",
      "Execution time: 85.56 seconds\n",
      "19 / 26\n",
      "Execution time: 83.67 seconds\n",
      "20 / 26\n",
      "Execution time: 116.68 seconds\n",
      "21 / 26\n",
      "Execution time: 98.82 seconds\n",
      "22 / 26\n",
      "Execution time: 98.83 seconds\n",
      "23 / 26\n",
      "Execution time: 103.07 seconds\n",
      "24 / 26\n",
      "Execution time: 101.51 seconds\n",
      "25 / 26\n",
      "Execution time: 97.49 seconds\n"
     ]
    }
   ],
   "source": [
    "group_sub = allsub[155:]\n",
    "for n_sub, subject_id in enumerate(group_sub):\n",
    "    start_time = time.time()\n",
    "    print(f\"{n_sub} / {len(group_sub)}\")\n",
    "    # Load an HCP subject:\n",
    "    sub = ny.hcp_subject(subject_id)\n",
    "    sub = ny.data['hcp_lines'].subjects[subject_id]\n",
    "    prf_CM_df = pd.DataFrame()\n",
    "    for n_hemi, hemi in enumerate(hemis): \n",
    "        for roi in rois : \n",
    "            # ROI mask et paramètres\n",
    "            if hemi == 'lh':\n",
    "                label_roi = sub.lh.prop('visual_area')\n",
    "                prf_x_hemi = sub.lh.prop('prf_x')\n",
    "                prf_y_hemi = sub.lh.prop('prf_y')\n",
    "                prf_r2_hemi = sub.lh.prop('prf_variance_explained')\n",
    "                prf_ecc_hemi = sub.lh.prop('prf_eccentricity')\n",
    "                white = sub.lh.surface('white') \n",
    "            elif hemi == 'rh':\n",
    "                label_roi = sub.rh.prop('visual_area')\n",
    "                prf_x_hemi = sub.rh.prop('prf_x')\n",
    "                prf_y_hemi = sub.rh.prop('prf_y')\n",
    "                prf_r2_hemi = sub.rh.prop('prf_variance_explained')\n",
    "                prf_ecc_hemi = sub.rh.prop('prf_eccentricity')\n",
    "                white = sub.rh.surface('white')\n",
    "           \n",
    "            # Create the Roi mask\n",
    "            roi_vertices_hemi_mask = np.where(label_roi == roi_code[roi])[0]\n",
    "                    \n",
    "            # Acces the adjacency_matrix of the roi\n",
    "            submesh = white.submesh(roi_vertices_hemi_mask)\n",
    "            adjacency_matrix = submesh.adjacency_matrix\n",
    "           \n",
    "        \n",
    "            prf_dist_list = [] \n",
    "            geo_dist_list = []\n",
    "            prf_ecc_list = []\n",
    "            prf_r2_list = []\n",
    "    \n",
    "            for vert_num, vert_idx in enumerate(submesh.labels):\n",
    "                vert_dist, vert_mask = compute_geodesic_distance(vert_num, adjacency_matrix, max_distance)\n",
    "                geo_dist_list.append(vert_dist)\n",
    "                prf_dist_list.append(compute_pRF_distance(vert_num, \n",
    "                                                          vert_mask, \n",
    "                                                          prf_x_hemi[roi_vertices_hemi_mask], \n",
    "                                                          prf_y_hemi[roi_vertices_hemi_mask]))\n",
    "            \n",
    "                prf_ecc_list.append(prf_ecc_hemi[vert_idx]) \n",
    "                prf_r2_list.append(prf_r2_hemi[vert_idx])\n",
    "        \n",
    "            prf_CM_df_hemi = pd.DataFrame()\n",
    "            prf_CM_df_hemi['prf_dist'] = prf_dist_list\n",
    "            prf_CM_df_hemi['geo_dist'] = geo_dist_list\n",
    "            prf_CM_df_hemi['prf_ecc'] = prf_ecc_list\n",
    "            prf_CM_df_hemi['prf_r2'] = prf_r2_list\n",
    "            prf_CM_df_hemi['hemi'] = hemi  \n",
    "            prf_CM_df_hemi['roi'] = roi\n",
    "            prf_CM_df_hemi['subject'] = '{}'.format(subject_id)  \n",
    "            \n",
    "        \n",
    "            prf_CM_df = pd.concat([prf_CM_df, prf_CM_df_hemi], ignore_index=True)\n",
    "\n",
    "    prf_CM_df['pRF_CM'] = prf_CM_df['geo_dist'] / prf_CM_df['prf_dist']\n",
    "    # Export DF \n",
    "    tsv_dir = '/home/jovyan/projects/pRF-project_NH2025/data/tsv'\n",
    "    os.makedirs(tsv_dir, exist_ok=True)\n",
    "    \n",
    "    # tsv_fn = '{}/{}_prf_parameters.tsv'.format(tsv_dir, subject_id)\n",
    "    tsv_fn = '{}/{}_prf_parameters_5mm.tsv'.format(tsv_dir, subject_id)\n",
    "    \n",
    "    prf_CM_df.to_csv(tsv_fn, sep=\"\\t\", na_rep='NaN', index=False)\n",
    "\n",
    "    del sub\n",
    "    del submesh\n",
    "    \n",
    "    \n",
    "    end_time = time.time()\n",
    "    print(\"Execution time: {:.2f} seconds\".format(end_time - start_time))\n",
    "    ny = ny.reload_neuropythy()"
   ]
  },
  {
   "cell_type": "code",
   "execution_count": null,
   "id": "a61fda3f-7918-404c-8255-d02670d377f2",
   "metadata": {},
   "outputs": [],
   "source": []
  }
 ],
 "metadata": {
  "kernelspec": {
   "display_name": "Python 3 (ipykernel)",
   "language": "python",
   "name": "python3"
  },
  "language_info": {
   "codemirror_mode": {
    "name": "ipython",
    "version": 3
   },
   "file_extension": ".py",
   "mimetype": "text/x-python",
   "name": "python",
   "nbconvert_exporter": "python",
   "pygments_lexer": "ipython3",
   "version": "3.11.11"
  }
 },
 "nbformat": 4,
 "nbformat_minor": 5
}
