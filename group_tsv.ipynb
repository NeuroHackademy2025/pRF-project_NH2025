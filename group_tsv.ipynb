{
 "cells": [
  {
   "cell_type": "markdown",
   "id": "2c0c45d6-e14d-4ee8-8676-f85f62143d00",
   "metadata": {},
   "source": [
    "# Make cleaner group tsv file"
   ]
  },
  {
   "cell_type": "code",
   "execution_count": 1,
   "id": "4a5572d3-d95c-4cfd-af58-7394ff74cdb0",
   "metadata": {},
   "outputs": [],
   "source": [
    "# Stop warnings\n",
    "import warnings\n",
    "warnings.filterwarnings(\"ignore\")\n",
    "\n",
    "# Import \n",
    "import os \n",
    "import time\n",
    "import numpy as np\n",
    "import pandas as pd\n",
    "import neuropythy as ny"
   ]
  },
  {
   "cell_type": "code",
   "execution_count": 2,
   "id": "9709d31f-e1be-422a-a713-c146853f48ed",
   "metadata": {},
   "outputs": [],
   "source": [
    "# Settings\n",
    "pCM_th = 50\n",
    "r2_th = 0.05"
   ]
  },
  {
   "cell_type": "code",
   "execution_count": 3,
   "id": "803f5232-78e0-4eb8-8036-3a4e90d858c9",
   "metadata": {},
   "outputs": [
    {
     "data": {
      "text/plain": [
       "100610"
      ]
     },
     "execution_count": 3,
     "metadata": {},
     "output_type": "execute_result"
    }
   ],
   "source": [
    "# Get subject numbers\n",
    "allsub = ny.data['hcp_lines'].subject_list\n",
    "allsub[0]"
   ]
  },
  {
   "cell_type": "code",
   "execution_count": 4,
   "id": "6db3d86a-8833-455a-9ea2-7f7b5195819e",
   "metadata": {},
   "outputs": [
    {
     "name": "stdout",
     "output_type": "stream",
     "text": [
      "Execution time: 7.04 seconds\n"
     ]
    }
   ],
   "source": [
    "start_time = time.time()\n",
    "\n",
    "group_df = pd.DataFrame()\n",
    "for n_sub, subject_id in enumerate(allsub):\n",
    "    # Import DF \n",
    "    tsv_dir = '/home/jovyan/projects/pRF-project_NH2025/data/tsv'\n",
    "    tsv_fn_5mm = '{}/{}_prf_parameters_5mm.tsv'.format(tsv_dir, subject_id)\n",
    "    \n",
    "    prf_CM_df_5mm = pd.read_table(tsv_fn_5mm, sep=\"\\t\")\n",
    "\n",
    "    # Filter data \n",
    "    prf_CM_df_5mm_filter = prf_CM_df_5mm[(prf_CM_df_5mm['pRF_CM'] <= pCM_th) & (prf_CM_df_5mm['prf_r2'] >= r2_th)]\n",
    "\n",
    "    # Drop columns from dataframe\n",
    "    # prf_CM_df_5mm_filter = prf_CM_df_5mm_filter.drop(['prf_dist', 'geo_dist', 'hemi'], axis=1)\n",
    "\n",
    "    group_df = pd.concat([group_df, prf_CM_df_5mm_filter], ignore_index=True)\n",
    "\n",
    "end_time = time.time()\n",
    "print(\"Execution time: {:.2f} seconds\".format(end_time - start_time))"
   ]
  },
  {
   "cell_type": "code",
   "execution_count": 6,
   "id": "4730d9b1-f487-4f07-a668-9d4e26e721e0",
   "metadata": {},
   "outputs": [],
   "source": [
    "# Export DF \n",
    "tsv_dir = '/home/jovyan/projects/pRF-project_NH2025/data/tsv/group'\n",
    "os.makedirs(tsv_dir, exist_ok=True)\n",
    "\n",
    "# tsv_fn = '{}/{}_prf_parameters.tsv'.format(tsv_dir, subject_id)\n",
    "tsv_fn = '{}/group_prf_parameters_5mm.tsv'.format(tsv_dir)\n",
    "\n",
    "group_df.to_csv(tsv_fn, sep=\"\\t\", na_rep='NaN', index=False)"
   ]
  },
  {
   "cell_type": "code",
   "execution_count": 11,
   "id": "14130088-0d7f-4eff-bf36-5124b4984cda",
   "metadata": {},
   "outputs": [],
   "source": [
    "# Import DF \n",
    "tsv_dir = '/home/jovyan/projects/pRF-project_NH2025/data/tsv'\n",
    "tsv_fn_5mm = '{}/{}_prf_parameters_5mm.tsv'.format(tsv_dir, 100610)\n",
    "\n",
    "prf_CM_df_5mm = pd.read_table(tsv_fn_5mm, sep=\"\\t\")\n",
    "\n",
    "# Filter data \n",
    "prf_CM_df_5mm_filter = prf_CM_df_5mm[(prf_CM_df_5mm['pRF_CM'] <= pCM_th) & (prf_CM_df_5mm['prf_r2'] >= r2_th)]\n",
    "\n",
    "prf_CM_df_5mm_filter = prf_CM_df_5mm_filter.drop(['prf_dist', 'geo_dist', 'hemi'], axis=1)"
   ]
  },
  {
   "cell_type": "code",
   "execution_count": 18,
   "id": "ec07d343-d677-475f-baf2-6a5894f078a2",
   "metadata": {},
   "outputs": [
    {
     "data": {
      "text/plain": [
       "array([100610, 118225, 140117, 158136, 172130, 182436, 197348, 214524,\n",
       "       346137, 412528])"
      ]
     },
     "execution_count": 18,
     "metadata": {},
     "output_type": "execute_result"
    }
   ],
   "source": [
    "group_df['subject'].unique()"
   ]
  },
  {
   "cell_type": "code",
   "execution_count": 5,
   "id": "4e6fcd9d-6e06-4c3e-b5ff-8e7ca86ccd9e",
   "metadata": {},
   "outputs": [
    {
     "data": {
      "text/plain": [
       "(1960094, 5)"
      ]
     },
     "execution_count": 5,
     "metadata": {},
     "output_type": "execute_result"
    }
   ],
   "source": [
    "group_df.shape"
   ]
  },
  {
   "cell_type": "code",
   "execution_count": null,
   "id": "04db5222-6e6f-4a5a-9712-c41df0ff3bc3",
   "metadata": {},
   "outputs": [],
   "source": []
  }
 ],
 "metadata": {
  "kernelspec": {
   "display_name": "Python 3 (ipykernel)",
   "language": "python",
   "name": "python3"
  },
  "language_info": {
   "codemirror_mode": {
    "name": "ipython",
    "version": 3
   },
   "file_extension": ".py",
   "mimetype": "text/x-python",
   "name": "python",
   "nbconvert_exporter": "python",
   "pygments_lexer": "ipython3",
   "version": "3.11.11"
  }
 },
 "nbformat": 4,
 "nbformat_minor": 5
}
