{
 "cells": [
  {
   "cell_type": "code",
   "execution_count": 3,
   "id": "e859424f-497b-4fea-81e7-765c1810e712",
   "metadata": {},
   "outputs": [],
   "source": [
    "import neuropythy as ny\n",
    "\n",
    "import numpy as np\n",
    "import pandas as pd\n",
    "import matplotlib.pyplot as plt"
   ]
  },
  {
   "cell_type": "code",
   "execution_count": null,
   "id": "b4e07de8-fb59-4368-903b-65a19bcddec0",
   "metadata": {},
   "outputs": [],
   "source": [
    "# Load an HCP subject:\n",
    "\n",
    "sub = ny.hcp_subject(111312)\n",
    "sub"
   ]
  },
  {
   "cell_type": "code",
   "execution_count": 7,
   "id": "d9d7daf5-dee0-46be-9655-c4f63f62a5eb",
   "metadata": {},
   "outputs": [
    {
     "data": {
      "text/plain": [
       "array([10. , 10. ,  0.1,  0.1])"
      ]
     },
     "execution_count": 7,
     "metadata": {},
     "output_type": "execute_result"
    }
   ],
   "source": [
    "a = np.array([10, 10, 1, 1])\n",
    "b = np.array([1, 1, 10, 10])\n",
    "c = a/b\n",
    "c"
   ]
  },
  {
   "cell_type": "code",
   "execution_count": null,
   "id": "c5680690-6da1-42bb-8122-fe99c9b03d7e",
   "metadata": {},
   "outputs": [],
   "source": []
  }
 ],
 "metadata": {
  "kernelspec": {
   "display_name": "Python 3 (ipykernel)",
   "language": "python",
   "name": "python3"
  },
  "language_info": {
   "codemirror_mode": {
    "name": "ipython",
    "version": 3
   },
   "file_extension": ".py",
   "mimetype": "text/x-python",
   "name": "python",
   "nbconvert_exporter": "python",
   "pygments_lexer": "ipython3",
   "version": "3.11.11"
  }
 },
 "nbformat": 4,
 "nbformat_minor": 5
}
