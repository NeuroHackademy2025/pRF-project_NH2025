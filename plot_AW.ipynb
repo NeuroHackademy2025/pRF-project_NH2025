{
 "cells": [
  {
   "cell_type": "code",
   "execution_count": null,
   "id": "ff5afd60-5e93-43ca-84aa-73b05c392d01",
   "metadata": {},
   "outputs": [],
   "source": [
    "# Stop warnings\n",
    "import warnings\n",
    "warnings.filterwarnings(\"ignore\")\n",
    "\n",
    "# Import \n",
    "import os \n",
    "import time\n",
    "import numpy as np\n",
    "import pandas as pd\n",
    "from scipy import stats\n",
    "import neuropythy as ny\n",
    "import matplotlib.pyplot as plt\n",
    "import scipy.sparse.csgraph as cs\n",
    "import importlib\n",
    "from sklearn import linear_model\n",
    "import plotly.graph_objects as go\n",
    "\n",
    "\n",
    "\n",
    "# personal import \n",
    "from plot_utils_AW import plotly_template, prf_ecc_pcm_plot_matplotlib\n",
    "from math_utils import weighted_regression, weighted_nan_percentile, weighted_nan_median\n",
    "\n"
   ]
  },
  {
   "cell_type": "code",
   "execution_count": null,
   "id": "28591181-3421-40c7-9bfc-e438bf0c9a74",
   "metadata": {},
   "outputs": [],
   "source": [
    "# Settings \n",
    "subject_id = 111312\n",
    "hemis = 'lh'\n",
    "hemis = ['lh','rh']\n",
    "roi = 'V1'\n",
    "rois = ['V1', 'V2', 'V3']\n",
    "plot_groups = [['V1'],['V2'],['V3']]\n",
    "roi_code = {'V1':1, \n",
    "            'V2':2, \n",
    "            'V3':3}\n",
    "\n",
    "num_ecc_pcm_bins = 6\n",
    "max_ecc = 8"
   ]
  },
  {
   "cell_type": "code",
   "execution_count": null,
   "id": "33612abb-60dc-4df2-a7b1-986b5accfbe0",
   "metadata": {},
   "outputs": [],
   "source": [
    "# Import DF \n",
    "tsv_dir = '/home/jovyan/projects/pRF-project_NH2025/data/tsv'\n",
    "# tsv_fn = '{}/{}_prf_parameters.tsv'.format(tsv_dir, subject_id)\n",
    "tsv_fn_5mm = '{}/{}_prf_parameters_5mm.tsv'.format(tsv_dir, subject_id)\n",
    "\n",
    "# prf_CM_df = pd.read_table(tsv_fn, sep=\"\\t\")\n",
    "prf_CM_df_5mm = pd.read_table(tsv_fn_5mm, sep=\"\\t\")"
   ]
  },
  {
   "cell_type": "code",
   "execution_count": null,
   "id": "0ffe79af-9301-4f08-aabb-4da3b397e1e4",
   "metadata": {},
   "outputs": [],
   "source": [
    "# Filter data \n",
    "th = 100\n",
    "prf_CM_df_5mm_filter = prf_CM_df_5mm[prf_CM_df_5mm['pRF_CM'] <= th]\n"
   ]
  },
  {
   "cell_type": "code",
   "execution_count": null,
   "id": "7baa2707-4ac8-427c-ae78-758eec6ce824",
   "metadata": {},
   "outputs": [],
   "source": [
    "roi_colors = {'V1': 'rgb(243, 231, 155)', \n",
    "              'V2': 'rgb(250, 196, 132)', \n",
    "              'V3': 'rgb(248, 160, 126)'}"
   ]
  },
  {
   "cell_type": "markdown",
   "id": "748f04f0-d7fc-4be7-9d6d-98acf5bba4f7",
   "metadata": {},
   "source": [
    "# Regression"
   ]
  },
  {
   "cell_type": "code",
   "execution_count": null,
   "id": "919b372e-3c89-4be5-8c87-44fafbdfdf51",
   "metadata": {},
   "outputs": [],
   "source": [
    "roi = 'V1'\n",
    "max_ecc = 8\n",
    "prf_CM_df_5mm_roi = prf_CM_df_5mm_filter.loc[prf_CM_df_5mm['roi']==roi]"
   ]
  },
  {
   "cell_type": "code",
   "execution_count": null,
   "id": "5450dbfe-52be-4ad4-a83a-90686086dbfa",
   "metadata": {},
   "outputs": [],
   "source": [
    "slope, intercept = weighted_regression(prf_CM_df_5mm_roi['prf_ecc'], prf_CM_df_5mm_roi['pRF_CM'], prf_CM_df_5mm_roi['prf_r2'], model='pcm')"
   ]
  },
  {
   "cell_type": "code",
   "execution_count": null,
   "id": "cd160df0-494f-4c56-a810-f8d1d4563e98",
   "metadata": {},
   "outputs": [],
   "source": [
    "# Compute R2 between model cm and data cm\n",
    "predict_CM = 1 / (slope * prf_CM_df_5mm_roi['prf_ecc'] + intercept)\n",
    "\n",
    "res = stats.linregress(predict_CM, prf_CM_df_5mm_roi['pRF_CM'])\n",
    "model_r2 = res.rvalue ** 2"
   ]
  },
  {
   "cell_type": "code",
   "execution_count": null,
   "id": "1ba94b6d-7395-49bf-b776-04894bc53e3f",
   "metadata": {},
   "outputs": [],
   "source": [
    "model_x = np.linspace(0,10,100)\n",
    "model_y = 1 / (slope * model_x + intercept)\n",
    "\n",
    "# horton\n",
    "horton_x = prf_CM_df_5mm_roi['prf_ecc']\n",
    "horton_line = 17.3/(horton_x + 0.75)\n",
    "\n",
    "res_horton = stats.linregress(horton_line, prf_CM_df_5mm_roi['pRF_CM'])\n",
    "horton_model_r2 = res_horton.rvalue ** 2"
   ]
  },
  {
   "cell_type": "code",
   "execution_count": null,
   "id": "c5cfaf46-b9a5-47d1-b239-78a7bcd6bbb3",
   "metadata": {},
   "outputs": [],
   "source": [
    "fig = go.Figure()\n",
    "fig.add_trace(go.Scatter(x=horton_x,\n",
    "                         y=horton_line,\n",
    "                         mode='markers', \n",
    "                         name = 'Horton_model, R2 = {:.2f}'.format(horton_model_r2),\n",
    "                         marker=dict(color='black', \n",
    "                                     symbol='circle', \n",
    "                                     size=3), \n",
    "                         cliponaxis=False,\n",
    "                         showlegend=True, \n",
    "                         opacity=1))\n",
    "\n",
    "fig.add_trace(go.Scatter(x=model_x,\n",
    "                         y=model_y,\n",
    "                         mode='lines', \n",
    "                         name = 'harvey model, R2 = {:.2f}'.format(model_r2),\n",
    "                         marker=dict(color=roi_colors[roi], \n",
    "                                     line=dict(color=roi_colors[roi], width=10)), \n",
    "                         cliponaxis=False,\n",
    "                         showlegend=True, \n",
    "                         opacity=1))\n",
    "\n",
    "\n",
    "\n",
    "fig.update_yaxes(title_text='pRF cortical magn. (mm/dva)', range=[0, 40], showline=True)\n",
    "fig.update_xaxes(title_text='pRF eccentricity (dva)', range=[0, max_ecc], showline=True)\n",
    "fig.update_layout(showlegend=True, \n",
    "                  template='simple_white', \n",
    "                  height=400, \n",
    "                  width=800)\n",
    "fig.show()\n"
   ]
  },
  {
   "cell_type": "markdown",
   "id": "2ecb0f35-6e4d-410c-98aa-5bd22ea8432d",
   "metadata": {},
   "source": [
    "## Make DF"
   ]
  },
  {
   "cell_type": "markdown",
   "id": "96feafc2-6d8d-4def-8778-39b4db284e29",
   "metadata": {},
   "source": [
    "## Final plot "
   ]
  },
  {
   "cell_type": "code",
   "execution_count": null,
   "id": "bdd0ef66-c2a5-40a6-8311-5e3a1be5a515",
   "metadata": {},
   "outputs": [],
   "source": [
    "# Figure settings\n",
    "roi_colors = {'V1': 'rgb(243, 231, 155)', \n",
    "              'V2': 'rgb(250, 196, 132)', \n",
    "              'V3': 'rgb(248, 160, 126)'}\n",
    "# Template settings\n",
    "template_specs = dict(axes_color=\"rgba(0, 0, 0, 1)\",\n",
    "                      axes_width=2,\n",
    "                      axes_font_size=15,\n",
    "                      bg_col=\"rgba(255, 255, 255, 1)\",\n",
    "                      font='Arial',\n",
    "                      title_font_size=15,\n",
    "                      plot_width=1.5)\n",
    "fig_template = plotly_template(template_specs)"
   ]
  },
  {
   "cell_type": "code",
   "execution_count": null,
   "id": "7bd0ebff-523c-48d8-92bf-c1422e071047",
   "metadata": {},
   "outputs": [],
   "source": [
    "# fig = prf_ecc_pcm_plot(df_ecc_pcm=prf_CM_df, \n",
    "#                        data_pcm_raw=prf_CM_df, \n",
    "#                        fig_width=1800, \n",
    "#                        fig_height=200, \n",
    "#                        rois=rois, \n",
    "#                        roi_colors=roi_colors, \n",
    "#                        plot_groups=plot_groups, \n",
    "#                        max_ecc=max_ecc)\n",
    "\n",
    "# fig_dir = '/home/jovyan/projects/pRF-project_NH2025/figures/'\n",
    "# os.makedirs(fig_dir, exist_ok=True)\n",
    "# fig.write_image(\"{}/ecc_pcm.pdf\".format(fig_dir))\n",
    "\n",
    "# fig.show()\n"
   ]
  },
  {
   "cell_type": "code",
   "execution_count": null,
   "id": "98bf49b5-d9a4-4008-992f-d29d43c62872",
   "metadata": {},
   "outputs": [],
   "source": [
    "fig = prf_ecc_pcm_plot_matplotlib(df_ecc_pcm=prf_CM_df_5mm, \n",
    "                       data_pcm_raw=prf_CM_df_5mm, \n",
    "                       fig_width=1800, \n",
    "                       fig_height=200, \n",
    "                       rois=rois, \n",
    "                       roi_colors=roi_colors, \n",
    "                       plot_groups=plot_groups, \n",
    "                       max_ecc=max_ecc)\n",
    "\n",
    "fig_dir = '/home/jovyan/projects/pRF-project_NH2025/figures/'\n",
    "os.makedirs(fig_dir, exist_ok=True)\n",
    "fig.write_image(\"{}/ecc_pcm_5mm.pdf\".format(fig_dir))\n",
    "\n",
    "fig.show()\n"
   ]
  },
  {
   "cell_type": "code",
   "execution_count": null,
   "id": "8282190c-5048-47b7-9349-25f42d23ef4b",
   "metadata": {},
   "outputs": [],
   "source": []
  },
  {
   "cell_type": "markdown",
   "id": "dab46f91-2ba1-4c8f-a983-7619c2ecc6d1",
   "metadata": {
    "jp-MarkdownHeadingCollapsed": true
   },
   "source": [
    "# Brouillon"
   ]
  },
  {
   "cell_type": "code",
   "execution_count": null,
   "id": "3cb9f71a-5ce2-4375-a27e-ff2afd62c3ef",
   "metadata": {},
   "outputs": [],
   "source": [
    "ecc_bins = np.concatenate(([0],np.linspace(0.50, 1, num_ecc_pcm_bins)**2 * max_ecc))\n",
    "for num_roi, roi in enumerate(rois):\n",
    "    df_roi = prf_CM_df_5mm.loc[(prf_CM_df_5mm.roi == roi)]\n",
    "    df_bins = df_roi.groupby(pd.cut(df_roi['prf_ecc'], bins=ecc_bins))\n",
    "    df_ecc_pcm_bin_5mm = pd.DataFrame()\n",
    "    df_ecc_pcm_bin_5mm['roi'] = [roi]*num_ecc_pcm_bins\n",
    "    df_ecc_pcm_bin_5mm['num_bins'] = np.arange(num_ecc_pcm_bins)\n",
    "    df_ecc_pcm_bin_5mm['prf_ecc_bins'] = df_bins.apply(lambda x: weighted_nan_median(x['prf_ecc'].values, x['prf_r2'].values)).values\n",
    "    df_ecc_pcm_bin_5mm['prf_pcm_bins_median'] = df_bins.apply(lambda x: weighted_nan_median(x['pRF_CM'].values, x['prf_r2'].values)).values\n",
    "    df_ecc_pcm_bin_5mm['prf_r2_bins_median'] = np.array(df_bins['prf_r2'].median())\n",
    "    df_ecc_pcm_bin_5mm['prf_pcm_bins_ci_upper_bound'] = df_bins.apply(lambda x: weighted_nan_percentile(x['pRF_CM'].values, x['prf_r2'].values, 75)).values\n",
    "    df_ecc_pcm_bin_5mm['prf_pcm_bins_ci_lower_bound'] = df_bins.apply(lambda x: weighted_nan_percentile(x['pRF_CM'].values, x['prf_r2'].values, 25)).values\n",
    "    if num_roi == 0: df_ecc_pcm_bins = df_ecc_pcm_bin_5mm\n",
    "    else: df_ecc_pcm_bins = pd.concat([df_ecc_pcm_bins, df_ecc_pcm_bin_5mm])  \n",
    "\n",
    "ecc_bins = np.concatenate(([0],np.linspace(0.50, 1, num_ecc_pcm_bins)**2 * max_ecc))\n",
    "for num_roi, roi in enumerate(rois):\n",
    "    df_roi = prf_CM_df.loc[(prf_CM_df.roi == roi)]\n",
    "    df_bins = df_roi.groupby(pd.cut(df_roi['prf_ecc'], bins=ecc_bins))\n",
    "    df_ecc_pcm_bin = pd.DataFrame()\n",
    "    df_ecc_pcm_bin['roi'] = [roi]*num_ecc_pcm_bins\n",
    "    df_ecc_pcm_bin['num_bins'] = np.arange(num_ecc_pcm_bins)\n",
    "    df_ecc_pcm_bin['prf_ecc_bins'] = df_bins.apply(lambda x: weighted_nan_median(x['prf_ecc'].values, x['prf_r2'].values)).values\n",
    "    df_ecc_pcm_bin['prf_pcm_bins_median'] = df_bins.apply(lambda x: weighted_nan_median(x['pRF_CM'].values, x['prf_r2'].values)).values\n",
    "    df_ecc_pcm_bin['prf_r2_bins_median'] = np.array(df_bins['prf_r2'].median())\n",
    "    df_ecc_pcm_bin['prf_pcm_bins_ci_upper_bound'] = df_bins.apply(lambda x: weighted_nan_percentile(x['pRF_CM'].values, x['prf_r2'].values, 75)).values\n",
    "    df_ecc_pcm_bin['prf_pcm_bins_ci_lower_bound'] = df_bins.apply(lambda x: weighted_nan_percentile(x['pRF_CM'].values, x['prf_r2'].values, 25)).values\n",
    "    if num_roi == 0: df_ecc_pcm_bins = df_ecc_pcm_bin\n",
    "    else: df_ecc_pcm_bins = pd.concat([df_ecc_pcm_bins, df_ecc_pcm_bin])  "
   ]
  }
 ],
 "metadata": {
  "kernelspec": {
   "display_name": "Python 3 (ipykernel)",
   "language": "python",
   "name": "python3"
  },
  "language_info": {
   "codemirror_mode": {
    "name": "ipython",
    "version": 3
   },
   "file_extension": ".py",
   "mimetype": "text/x-python",
   "name": "python",
   "nbconvert_exporter": "python",
   "pygments_lexer": "ipython3",
   "version": "3.11.11"
  }
 },
 "nbformat": 4,
 "nbformat_minor": 5
}
