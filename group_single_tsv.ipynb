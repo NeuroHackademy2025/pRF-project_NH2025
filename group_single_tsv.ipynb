{
 "cells": [
  {
   "cell_type": "code",
   "execution_count": 1,
   "id": "4b821f14-7fe8-45e2-87c3-c68fb7ce0b53",
   "metadata": {},
   "outputs": [],
   "source": [
    "# Stop warnings\n",
    "import warnings\n",
    "warnings.filterwarnings(\"ignore\")\n",
    "\n",
    "import os\n",
    "import time\n",
    "import numpy as np\n",
    "import pandas as pd\n",
    "import neuropythy as ny\n",
    "import matplotlib.pyplot as plt\n",
    "\n",
    "# personal import \n",
    "from math_utils import weighted_regression, weighted_nan_percentile, weighted_nan_median\n"
   ]
  },
  {
   "cell_type": "code",
   "execution_count": 2,
   "id": "60ddbcef-4110-44be-8b7a-bb56c6769a12",
   "metadata": {},
   "outputs": [],
   "source": [
    "def bootstrap_ci_median(data, n_boot=1000, ci=95, random_state=None):\n",
    "    \"\"\"\n",
    "    Compute bootstrapped confidence interval of the median.\n",
    "\n",
    "    Parameters\n",
    "    ----------\n",
    "    data : array-like (Pandas Series, DataFrame column, or NumPy array)\n",
    "        Input data (will ignore NaNs).\n",
    "    n_boot : int, optional\n",
    "        Number of bootstrap samples (default is 1000).\n",
    "    ci : float, optional\n",
    "        Confidence level (default is 95 for 95% CI).\n",
    "    random_state : int or None\n",
    "        Random seed for reproducibility.\n",
    "\n",
    "    Returns\n",
    "    -------\n",
    "    tuple of (lower_bound, upper_bound)\n",
    "        Lower and upper bounds of the bootstrapped confidence interval.\n",
    "    \"\"\"\n",
    "    if isinstance(data, pd.DataFrame):\n",
    "        if data.shape[1] != 1:\n",
    "            raise ValueError(\"DataFrame input must have exactly one column.\")\n",
    "        data = data.iloc[:, 0]\n",
    "\n",
    "    data = pd.Series(data).dropna().values  # ensure 1D array, remove NaNs\n",
    "\n",
    "    if len(data) == 0:\n",
    "        return np.nan, np.nan\n",
    "\n",
    "    rng = np.random.default_rng(seed=random_state)\n",
    "    boot_medians = [np.median(rng.choice(data, size=len(data), replace=True)) for _ in range(n_boot)]\n",
    "\n",
    "    lower = np.percentile(boot_medians, (100 - ci) / 2)\n",
    "    upper = np.percentile(boot_medians, 100 - (100 - ci) / 2)\n",
    "    return lower, upper"
   ]
  },
  {
   "cell_type": "code",
   "execution_count": 3,
   "id": "4e060479-48f0-4c3d-8332-d03c613a6dff",
   "metadata": {},
   "outputs": [],
   "source": [
    "# Settings\n",
    "num_ecc_pcm_bins = 10\n",
    "max_ecc = 8\n",
    "rois = ['V1', 'V2', 'V3']"
   ]
  },
  {
   "cell_type": "code",
   "execution_count": 4,
   "id": "3764e0b9-df3c-4586-964f-bddeb6114460",
   "metadata": {},
   "outputs": [],
   "source": [
    "# Get subject numbers\n",
    "allsub = ny.data['hcp_lines'].subject_list"
   ]
  },
  {
   "cell_type": "code",
   "execution_count": 5,
   "id": "e7a3c4a7-d978-46a9-8a62-943e9f0cd0a9",
   "metadata": {},
   "outputs": [],
   "source": [
    "path = '/home/jovyan/projects/pRF-project_NH2025/data/tsv/group'\n",
    "grouptsv = pd.read_csv('{}/group_prf_parameters_5mm.tsv'.format(path), sep='\\t')\n"
   ]
  },
  {
   "cell_type": "code",
   "execution_count": 6,
   "id": "bdce7f11-b888-4ee1-9c8e-5ff934cb5582",
   "metadata": {},
   "outputs": [
    {
     "name": "stdout",
     "output_type": "stream",
     "text": [
      "Execution time: 79.20 seconds\n"
     ]
    }
   ],
   "source": [
    "ecc_bins = np.concatenate(([0], np.logspace(np.log10(0.1), np.log10(max_ecc), num=num_ecc_pcm_bins)))\n",
    "\n",
    "# ecc_bins = np.concatenate(([0], np.linspace(0.1, np.max_ecc, num=num_ecc_pcm_bins)))\n",
    "start_time = time.time()\n",
    "group_bin_df = pd.DataFrame()\n",
    "for n_sub, subject_id in enumerate(allsub):\n",
    "    for num_roi, roi in enumerate(rois):\n",
    "        df_subject_roi = grouptsv.loc[(grouptsv['roi'] == roi) & (grouptsv['subject'] == subject_id)]\n",
    "        df_bins = df_subject_roi.groupby(pd.cut(df_subject_roi['prf_ecc'], bins=ecc_bins))\n",
    "        \n",
    "        df_subject_roi_bin = pd.DataFrame()\n",
    "        df_subject_roi_bin['roi'] = [roi]*num_ecc_pcm_bins\n",
    "        df_subject_roi_bin['subject_id'] = [subject_id]*num_ecc_pcm_bins\n",
    "        \n",
    "        df_subject_roi_bin['num_bins'] = np.arange(num_ecc_pcm_bins)\n",
    "        \n",
    "        df_subject_roi_bin['prf_ecc_bins'] = df_bins.apply(lambda x: weighted_nan_median(x['prf_ecc'].values, x['prf_r2'].values)).values\n",
    "        df_subject_roi_bin['prf_pcm_bins_median'] = df_bins.apply(lambda x: weighted_nan_median(x['pRF_CM'].values, x['prf_r2'].values)).values\n",
    "        df_subject_roi_bin['prf_r2_bins_median'] = np.array(df_bins['prf_r2'].median())\n",
    "\n",
    "    \n",
    "        df_subject_roi_bin['prf_pcm_bins_ci_upper_bound'] = df_bins.apply(lambda x: weighted_nan_percentile(x['pRF_CM'].values, x['prf_r2'].values, 95)).values\n",
    "        df_subject_roi_bin['prf_pcm_bins_ci_lower_bound'] = df_bins.apply(lambda x: weighted_nan_percentile(x['pRF_CM'].values, x['prf_r2'].values, 5)).values\n",
    "        \n",
    "        if num_roi == 0: df_ecc_pcm_bins = df_subject_roi_bin\n",
    "        else: df_ecc_pcm_bins = pd.concat([df_ecc_pcm_bins, df_subject_roi_bin]) \n",
    "            \n",
    "    group_bin_df = pd.concat([group_bin_df, df_ecc_pcm_bins])\n",
    "end_time = time.time()\n",
    "print(\"Execution time: {:.2f} seconds\".format(end_time - start_time))"
   ]
  },
  {
   "cell_type": "code",
   "execution_count": 10,
   "id": "198de8cf-bf77-4150-809d-67a6aa33477b",
   "metadata": {},
   "outputs": [],
   "source": [
    "final_group_df = pd.DataFrame()\n",
    "\n",
    "for n_roi, roi in enumerate(rois):\n",
    "    final_group_df_roi = pd.DataFrame()\n",
    "    df_roi = group_bin_df.loc[(group_bin_df['roi'] == roi)]\n",
    "    group_subid_roi_df = df_roi.groupby(['num_bins'])\n",
    "    \n",
    "    final_group_df_roi['roi'] = [roi]*num_ecc_pcm_bins\n",
    "\n",
    "    # median \n",
    "    final_group_df_roi['prf_ecc_bins'] = group_subid_roi_df.apply(lambda x: weighted_nan_median(x['prf_ecc_bins'].values, x['prf_r2_bins_median'].values)).values\n",
    "    final_group_df_roi['prf_pcm_bins_median'] = group_subid_roi_df.apply(lambda x: weighted_nan_median(x['prf_pcm_bins_median'].values, x['prf_r2_bins_median'].values)).values\n",
    "    final_group_df_roi['prf_r2_bins_median'] = np.array(group_subid_roi_df['prf_r2_bins_median'].median())\n",
    "\n",
    "    # Ci \n",
    "    final_group_df_roi['prf_pcm_bins_median_upper_bound'] = group_subid_roi_df.apply(lambda x: weighted_nan_percentile(x['prf_pcm_bins_median'].values, x['prf_r2_bins_median'].values, 95)).values\n",
    "    final_group_df_roi['prf_pcm_bins_median_lower_bound'] = group_subid_roi_df.apply(lambda x: weighted_nan_percentile(x['prf_pcm_bins_median'].values, x['prf_r2_bins_median'].values, 5)).values\n",
    "\n",
    "    # Apply bootstrapped CI and extract both bounds in one go\n",
    "    ci_results = group_subid_roi_df['prf_pcm_bins_median'].apply(\n",
    "        lambda x: bootstrap_ci_median(x, n_boot=1000, ci=95)\n",
    "    )\n",
    "    \n",
    "    # Assign lower and upper bounds to new columns\n",
    "    final_group_df_roi['prf_pcm_bins_median_lower_bound_ci'] = ci_results.apply(lambda ci: ci[0])\n",
    "    final_group_df_roi['prf_pcm_bins_median_upper_bound_ci'] = ci_results.apply(lambda ci: ci[1])\n",
    "    \n",
    "    final_group_df = pd.concat([final_group_df, final_group_df_roi])\n",
    "\n",
    "final_group_df = final_group_df.reset_index().rename(columns={'index': 'num_bin'})\n",
    "   "
   ]
  },
  {
   "cell_type": "code",
   "execution_count": 11,
   "id": "00bc41a0-380a-4189-ae3c-ce71201fec9d",
   "metadata": {},
   "outputs": [],
   "source": [
    "# Export DF \n",
    "tsv_dir = '/home/jovyan/projects/pRF-project_NH2025/data/tsv/group'\n",
    "os.makedirs(tsv_dir, exist_ok=True)\n",
    "\n",
    "tsv_fn = '{}/final_group_df.tsv'.format(tsv_dir)\n",
    "tsv_fn2 = '{}/group_bin_df.tsv'.format(tsv_dir)\n",
    "group_bin_df.to_csv(tsv_fn2, sep=\"\\t\", na_rep='NaN', index=False)\n",
    "final_group_df.to_csv(tsv_fn, sep=\"\\t\", na_rep='NaN', index=False)"
   ]
  },
  {
   "cell_type": "code",
   "execution_count": null,
   "id": "4128402a-e2c3-402d-abea-f6cf6244c082",
   "metadata": {},
   "outputs": [],
   "source": []
  }
 ],
 "metadata": {
  "kernelspec": {
   "display_name": "Python 3 (ipykernel)",
   "language": "python",
   "name": "python3"
  },
  "language_info": {
   "codemirror_mode": {
    "name": "ipython",
    "version": 3
   },
   "file_extension": ".py",
   "mimetype": "text/x-python",
   "name": "python",
   "nbconvert_exporter": "python",
   "pygments_lexer": "ipython3",
   "version": "3.11.11"
  }
 },
 "nbformat": 4,
 "nbformat_minor": 5
}
