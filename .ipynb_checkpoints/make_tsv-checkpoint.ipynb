{
 "cells": [
  {
   "cell_type": "markdown",
   "id": "5bf65d3c-dddf-495c-9a28-7b39eacdff33",
   "metadata": {},
   "source": [
    "# Compute pRF cortical magnification base on pRF parameters "
   ]
  },
  {
   "cell_type": "code",
   "execution_count": 1,
   "id": "ff5afd60-5e93-43ca-84aa-73b05c392d01",
   "metadata": {},
   "outputs": [],
   "source": [
    "# Stop warnings\n",
    "import warnings\n",
    "warnings.filterwarnings(\"ignore\")\n",
    "\n",
    "# Import \n",
    "import os \n",
    "import time\n",
    "import numpy as np\n",
    "import pandas as pd\n",
    "from scipy import stats\n",
    "import neuropythy as ny\n",
    "import matplotlib.pyplot as plt\n",
    "import scipy.sparse.csgraph as cs\n",
    "\n",
    "\n",
    "# personal import \n",
    "from plot_utils import plotly_template, prf_ecc_pcm_plot\n",
    "from math_utils import weighted_regression, weighted_nan_percentile, weighted_nan_median\n",
    "\n"
   ]
  },
  {
   "cell_type": "markdown",
   "id": "a7cda998-be80-40b4-b014-b2d22b3004e1",
   "metadata": {},
   "source": [
    "# Geodesic distance (mm)"
   ]
  },
  {
   "cell_type": "code",
   "execution_count": 16,
   "id": "77821801-9320-4fff-8401-f5e53e395157",
   "metadata": {},
   "outputs": [],
   "source": [
    "def compute_geodesic_distance(vert_of_interest_idx, adjacency_matrix, max_distance=None):\n",
    "    \"\"\"\n",
    "    Compute geodesic distances from a vertex to all others in the mesh, optionally limited to max_distance.\n",
    "\n",
    "    Parameters\n",
    "    ----------\n",
    "    vert_of_interest_idx : int\n",
    "        Index of the vertex from which to compute distances.\n",
    "    adjacency_matrix : scipy.sparse matrix\n",
    "        Sparse matrix representing the adjacency of the mesh.\n",
    "    max_distance : float or None, optional\n",
    "        If provided, only return distances less than this value.\n",
    "\n",
    "    Returns\n",
    "    -------\n",
    "    median_distance : float\n",
    "        Median geodesic distance (within mask if max_distance is provided).\n",
    "    vert_dist_idx : array of int, optional\n",
    "        Indices of vertices within max_distance (only returned if max_distance is not None).\n",
    "    \"\"\"\n",
    "    distances = cs.dijkstra(adjacency_matrix, indices=[vert_of_interest_idx], directed=False)[0]\n",
    "\n",
    "    if max_distance is not None:\n",
    "        distance_mask = distances < max_distance\n",
    "        vert_dist_idx = np.where(distance_mask)[0]\n",
    "        median_distance = np.median(distances[distance_mask])\n",
    "        return median_distance, vert_dist_idx\n",
    "    else:\n",
    "        median_distance = np.median(distances)\n",
    "        return median_distance\n",
    "        "
   ]
  },
  {
   "cell_type": "markdown",
   "id": "fddd4631-e428-4f2c-a266-a35ffdb59530",
   "metadata": {},
   "source": [
    "# Visual distance (dva)"
   ]
  },
  {
   "cell_type": "code",
   "execution_count": 3,
   "id": "317ce784-bae4-4ad1-8885-89f41d5f76fe",
   "metadata": {},
   "outputs": [],
   "source": [
    "def compute_pRF_distance(vert_of_interest_idx, roi_vertices_hemi_mask, prf_x, prf_y):\n",
    "    \n",
    "    dist_array = []\n",
    "    for vert_num, vert_idx in enumerate(roi_vertices_hemi_mask):\n",
    "        # Acces pRF position\n",
    "        target_x = prf_x[vert_of_interest_idx]\n",
    "        target_y = prf_y[vert_of_interest_idx]\n",
    "        neigboor_x = prf_x[vert_idx]\n",
    "        neigboor_y = prf_y[vert_idx]\n",
    "    \n",
    "        # Compute visual distance\n",
    "        vert_prf_dist_array_vert = np.sqrt((target_x - neigboor_x)**2 + (target_y - neigboor_y)**2)\n",
    "        dist_array.append(vert_prf_dist_array_vert)\n",
    "\n",
    "    # compute the median of visual distance\n",
    "    vert_prf_dist_array_median = np.median(dist_array)\n",
    "    \n",
    "    return vert_prf_dist_array_median\n",
    "    "
   ]
  },
  {
   "cell_type": "markdown",
   "id": "88d8d9e1-911d-4033-9915-03dd68ca7581",
   "metadata": {},
   "source": [
    "# Compute de pRF CM (mm/dva)"
   ]
  },
  {
   "cell_type": "markdown",
   "id": "e60ef9c2-6a73-4622-94fd-71b725a476b0",
   "metadata": {},
   "source": [
    "## Acces data"
   ]
  },
  {
   "cell_type": "code",
   "execution_count": 3,
   "id": "28591181-3421-40c7-9bfc-e438bf0c9a74",
   "metadata": {},
   "outputs": [],
   "source": [
    "# Settings \n",
    "subject_id = 111312\n",
    "hemis = ['rh', 'lh']\n",
    "roi = 'V1'\n",
    "rois = ['V1', 'V2', 'V3']\n",
    "plot_groups = [['V1'],['V2'],['V3']]\n",
    "roi_code = {'V1':1, \n",
    "            'V2':2, \n",
    "            'V3':3}\n",
    "\n",
    "num_ecc_pcm_bins = 6\n",
    "max_ecc = 8"
   ]
  },
  {
   "cell_type": "code",
   "execution_count": 4,
   "id": "1f919d03-1054-4a4c-b43f-0ee5a16403f1",
   "metadata": {},
   "outputs": [],
   "source": [
    "# Load an HCP subject:\n",
    "sub = ny.hcp_subject(subject_id)\n",
    "\n",
    "# Get rois boundery\n",
    "sub = ny.data['hcp_lines'].subjects[subject_id]"
   ]
  },
  {
   "cell_type": "markdown",
   "id": "78e82157-3e8b-4ac2-a983-d2ab0cec29a4",
   "metadata": {},
   "source": [
    "## pRF CM computation"
   ]
  },
  {
   "cell_type": "code",
   "execution_count": 11,
   "id": "856b5229-2404-4752-8ab8-1040a9dd9534",
   "metadata": {},
   "outputs": [],
   "source": [
    "max_distance = 5\n",
    "\n",
    "white = sub.lh.surface('white')\n",
    "label_roi = sub.lh.prop('visual_area')\n",
    "# Create the Roi mask\n",
    "roi_vertices_hemi_mask = np.where(label_roi == roi_code[roi])[0]\n",
    "    \n",
    "# Acces the adjacency_matrix of the roi\n",
    "submesh = white.submesh(roi_vertices_hemi_mask)\n",
    "adjacency_matrix = submesh.adjacency_matrix\n",
    "\n",
    "distances = cs.dijkstra(adjacency_matrix, \n",
    "                        indices=[0], \n",
    "                        directed=False)\n",
    "\n",
    "\n",
    "\n",
    "distances = distances[0] \n",
    "distance_mask = distances < max_distance\n",
    "\n",
    "\n",
    "vert_dist_idx = np.where(distance_mask)[0]\n",
    "median_distance = np.median(distances[distance_mask])\n",
    "\n"
   ]
  },
  {
   "cell_type": "code",
   "execution_count": 14,
   "id": "e429e43c-7040-40b2-b32a-4b2c13b7edf5",
   "metadata": {},
   "outputs": [
    {
     "data": {
      "text/plain": [
       "array([  0,   1,   2,   3,   4,   5,  42,  43,  44,  45,  51,  52, 118,\n",
       "       119, 120])"
      ]
     },
     "execution_count": 14,
     "metadata": {},
     "output_type": "execute_result"
    }
   ],
   "source": [
    "vert_dist_idx"
   ]
  },
  {
   "cell_type": "code",
   "execution_count": 9,
   "id": "01ee7375-35fc-4250-ac78-780e73e1e8cb",
   "metadata": {},
   "outputs": [
    {
     "data": {
      "text/plain": [
       "(1, 1806)"
      ]
     },
     "execution_count": 9,
     "metadata": {},
     "output_type": "execute_result"
    }
   ],
   "source": [
    "distances.shape"
   ]
  },
  {
   "cell_type": "code",
   "execution_count": 7,
   "id": "56da0ca9-8f16-4a01-ad0f-d7dc5ebd2a65",
   "metadata": {},
   "outputs": [
    {
     "name": "stdout",
     "output_type": "stream",
     "text": [
      "Execution time: 140.05 seconds\n"
     ]
    }
   ],
   "source": [
    "prf_CM_df = pd.DataFrame()\n",
    "start_time = time.time()\n",
    "\n",
    "for n_hemi, hemi in enumerate(hemis): \n",
    "    for roi in rois : \n",
    "        # ROI mask et paramètres\n",
    "        if hemi == 'lh':\n",
    "            label_roi = sub.lh.prop('visual_area')\n",
    "            prf_x_hemi = sub.lh.prop('prf_x')\n",
    "            prf_y_hemi = sub.lh.prop('prf_y')\n",
    "            prf_r2_hemi = sub.lh.prop('prf_variance_explained')\n",
    "            prf_ecc_hemi = sub.lh.prop('prf_eccentricity')\n",
    "            white = sub.lh.surface('white') \n",
    "        elif hemi == 'rh':\n",
    "            label_roi = sub.rh.prop('visual_area')\n",
    "            prf_x_hemi = sub.rh.prop('prf_x')\n",
    "            prf_y_hemi = sub.rh.prop('prf_y')\n",
    "            prf_r2_hemi = sub.rh.prop('prf_variance_explained')\n",
    "            prf_ecc_hemi = sub.rh.prop('prf_eccentricity')\n",
    "            white = sub.rh.surface('white')\n",
    "\n",
    "        # Create the Roi mask\n",
    "        roi_vertices_hemi_mask = np.where(label_roi == roi_code[roi])[0]\n",
    "                \n",
    "        # Acces the adjacency_matrix of the roi\n",
    "        submesh = white.submesh(roi_vertices_hemi_mask)\n",
    "        adjacency_matrix = submesh.adjacency_matrix\n",
    "    \n",
    "        prf_dist_list = [] \n",
    "        geo_dist_list = []\n",
    "        prf_ecc_list = []\n",
    "        prf_r2_list = []\n",
    "\n",
    "        for vert_num, vert_idx in enumerate(submesh.labels):\n",
    "            vert_dist, vert_mask = compute_geodesic_distance(vert_num, adjacency_matrix, max_distance)\n",
    "            geo_dist_list.append(vert_dist)\n",
    "            prf_dist_list.append(compute_pRF_distance(vert_idx, \n",
    "                                                      vert_mask, \n",
    "                                                      prf_x_hemi, \n",
    "                                                      prf_y_hemi))\n",
    "        \n",
    "            prf_ecc_list.append(prf_ecc_hemi[vert_idx]) \n",
    "            prf_r2_list.append(prf_r2_hemi[vert_idx])\n",
    "    \n",
    "        prf_CM_df_hemi = pd.DataFrame()\n",
    "        prf_CM_df_hemi['prf_dist'] = prf_dist_list\n",
    "        prf_CM_df_hemi['geo_dist'] = geo_dist_list\n",
    "        prf_CM_df_hemi['prf_ecc'] = prf_ecc_list\n",
    "        prf_CM_df_hemi['prf_r2'] = prf_r2_list\n",
    "        prf_CM_df_hemi['hemi'] = hemi  \n",
    "        prf_CM_df_hemi['roi'] = roi\n",
    "        prf_CM_df_hemi['subject'] = '{}'.format(subject_id)  \n",
    "        \n",
    "    \n",
    "        prf_CM_df = pd.concat([prf_CM_df, prf_CM_df_hemi], ignore_index=True)\n",
    "    \n",
    "end_time = time.time()\n",
    "print(\"Execution time: {:.2f} seconds\".format(end_time - start_time))"
   ]
  },
  {
   "cell_type": "code",
   "execution_count": 8,
   "id": "2e68929e-72e7-4130-80d9-20643a81efe1",
   "metadata": {},
   "outputs": [],
   "source": [
    "prf_CM_df['pRF_CM'] = prf_CM_df['geo_dist'] / prf_CM_df['prf_dist']"
   ]
  },
  {
   "cell_type": "code",
   "execution_count": 9,
   "id": "33612abb-60dc-4df2-a7b1-986b5accfbe0",
   "metadata": {},
   "outputs": [],
   "source": [
    "# Export DF \n",
    "tsv_dir = '/home/jovyan/projects/pRF-project_NH2025/data/tsv'\n",
    "os.makedirs(tsv_dir, exist_ok=True)\n",
    "\n",
    "tsv_fn = '{}/{}_prf_parameters.tsv'.format(tsv_dir, subject_id)\n",
    "prf_CM_df.to_csv(tsv_fn, sep=\"\\t\", na_rep='NaN', index=False)"
   ]
  },
  {
   "cell_type": "code",
   "execution_count": null,
   "id": "c0dbf0f6-1e9b-4d4f-82b4-9664b76ddd39",
   "metadata": {},
   "outputs": [],
   "source": []
  }
 ],
 "metadata": {
  "kernelspec": {
   "display_name": "Python 3 (ipykernel)",
   "language": "python",
   "name": "python3"
  },
  "language_info": {
   "codemirror_mode": {
    "name": "ipython",
    "version": 3
   },
   "file_extension": ".py",
   "mimetype": "text/x-python",
   "name": "python",
   "nbconvert_exporter": "python",
   "pygments_lexer": "ipython3",
   "version": "3.11.11"
  }
 },
 "nbformat": 4,
 "nbformat_minor": 5
}
