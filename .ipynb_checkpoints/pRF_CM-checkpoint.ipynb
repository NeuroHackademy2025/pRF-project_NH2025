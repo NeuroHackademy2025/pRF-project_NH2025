{
 "cells": [
  {
   "cell_type": "markdown",
   "id": "5bf65d3c-dddf-495c-9a28-7b39eacdff33",
   "metadata": {},
   "source": [
    "# Compute pRF cortical magnification base on pRF parameters "
   ]
  },
  {
   "cell_type": "code",
   "execution_count": 1,
   "id": "ff5afd60-5e93-43ca-84aa-73b05c392d01",
   "metadata": {},
   "outputs": [],
   "source": [
    "# Stop warnings\n",
    "import warnings\n",
    "warnings.filterwarnings(\"ignore\")\n",
    "\n",
    "# Import \n",
    "import time\n",
    "import numpy as np\n",
    "import pandas as pd\n",
    "from scipy import stats\n",
    "import neuropythy as ny\n",
    "import matplotlib.pyplot as plt\n",
    "import scipy.sparse.csgraph as cs\n",
    "import importlib\n",
    "\n",
    "# personal import \n",
    "from plot_utils import plotly_template, prf_ecc_pcm_plot\n",
    "from math_utils import weighted_regression, weighted_nan_percentile, weighted_nan_median\n",
    "\n"
   ]
  },
  {
   "cell_type": "markdown",
   "id": "a7cda998-be80-40b4-b014-b2d22b3004e1",
   "metadata": {},
   "source": [
    "# Geodesic distance (mm)"
   ]
  },
  {
   "cell_type": "code",
   "execution_count": 2,
   "id": "77821801-9320-4fff-8401-f5e53e395157",
   "metadata": {},
   "outputs": [],
   "source": [
    "def compute_geodesic_distance(vert_of_interest_idx, adjacency_matrix):\n",
    "    \n",
    "    distances = cs.dijkstra(adjacency_matrix, \n",
    "                            indices=[vert_of_interest_idx], \n",
    "                            directed=False)\n",
    "\n",
    "    median_distance = np.median(distances)\n",
    "\n",
    "    return median_distance\n",
    "    "
   ]
  },
  {
   "cell_type": "markdown",
   "id": "fddd4631-e428-4f2c-a266-a35ffdb59530",
   "metadata": {},
   "source": [
    "# Visual distance (dva)"
   ]
  },
  {
   "cell_type": "code",
   "execution_count": 3,
   "id": "317ce784-bae4-4ad1-8885-89f41d5f76fe",
   "metadata": {},
   "outputs": [],
   "source": [
    "def compute_pRF_distance(vert_of_interest_idx, roi_vertices_hemi_mask, prf_x, prf_y):\n",
    "    \n",
    "    dist_array = []\n",
    "    for vert_num, vert_idx in enumerate(roi_vertices_hemi_mask):\n",
    "        # Acces pRF position\n",
    "        target_x = prf_x[vert_of_interest_idx]\n",
    "        target_y = prf_y[vert_of_interest_idx]\n",
    "        neigboor_x = prf_x[vert_idx]\n",
    "        neigboor_y = prf_y[vert_idx]\n",
    "    \n",
    "        # Compute visual distance\n",
    "        vert_prf_dist_array_vert = np.sqrt((target_x - neigboor_x)**2 + (target_y - neigboor_y)**2)\n",
    "        dist_array.append(vert_prf_dist_array_vert)\n",
    "\n",
    "    # compute the median of visual distance\n",
    "    vert_prf_dist_array_median = np.median(dist_array)\n",
    "    \n",
    "    return vert_prf_dist_array_median\n",
    "    "
   ]
  },
  {
   "cell_type": "markdown",
   "id": "88d8d9e1-911d-4033-9915-03dd68ca7581",
   "metadata": {},
   "source": [
    "# Compute de pRF CM (mm/dva)"
   ]
  },
  {
   "cell_type": "markdown",
   "id": "e60ef9c2-6a73-4622-94fd-71b725a476b0",
   "metadata": {},
   "source": [
    "## Acces data"
   ]
  },
  {
   "cell_type": "code",
   "execution_count": 4,
   "id": "28591181-3421-40c7-9bfc-e438bf0c9a74",
   "metadata": {},
   "outputs": [],
   "source": [
    "# Settings \n",
    "subject_id = 111312\n",
    "hemis = 'lh'\n",
    "hemis = ['lh','rh']\n",
    "roi = 'V1'\n",
    "rois = ['V1']\n",
    "roi_code = {'V1':1, \n",
    "            'V2':2, \n",
    "            'V3':3}"
   ]
  },
  {
   "cell_type": "code",
   "execution_count": 5,
   "id": "1f919d03-1054-4a4c-b43f-0ee5a16403f1",
   "metadata": {},
   "outputs": [],
   "source": [
    "# Load an HCP subject:\n",
    "sub = ny.hcp_subject(subject_id)\n",
    "\n",
    "# Get rois boundery\n",
    "sub = ny.data['hcp_lines'].subjects[subject_id]"
   ]
  },
  {
   "cell_type": "markdown",
   "id": "78e82157-3e8b-4ac2-a983-d2ab0cec29a4",
   "metadata": {},
   "source": [
    "## pRF CM computation"
   ]
  },
  {
   "cell_type": "code",
   "execution_count": 6,
   "id": "56da0ca9-8f16-4a01-ad0f-d7dc5ebd2a65",
   "metadata": {},
   "outputs": [
    {
     "name": "stdout",
     "output_type": "stream",
     "text": [
      "Execution time: 223.17 seconds\n"
     ]
    }
   ],
   "source": [
    "prf_CM_df = pd.DataFrame()\n",
    "\n",
    "start_time = time.time()\n",
    "\n",
    "for n_hemi, hemi in enumerate(hemis): \n",
    "    # ROI mask et paramètres\n",
    "    if hemi == 'lh':\n",
    "        label_roi = sub.lh.prop('visual_area')\n",
    "        prf_x_hemi = sub.lh.prop('prf_x')\n",
    "        prf_y_hemi = sub.lh.prop('prf_y')\n",
    "        prf_r2_hemi = sub.lh.prop('prf_variance_explained')\n",
    "        prf_ecc_hemi = sub.lh.prop('prf_eccentricity')\n",
    "        \n",
    "        white = sub.lh.surface('white') \n",
    "    else:\n",
    "        label_roi = sub.rh.prop('visual_area')\n",
    "        prf_x_hemi = sub.rh.prop('prf_x')\n",
    "        prf_y_hemi = sub.rh.prop('prf_y')\n",
    "        prf_r2_hemi = sub.rh.prop('prf_variance_explained')\n",
    "        prf_ecc_hemi = sub.rh.prop('prf_eccentricity')\n",
    "        white = sub.rh.surface('white')\n",
    "\n",
    "    roi_vertices_hemi_mask = np.where(label_roi == roi_code[roi])[0]\n",
    "    adjacency_matrix = white.adjacency_matrix\n",
    "\n",
    "    prf_dist_list = [] \n",
    "    geo_dist_list = []\n",
    "    prf_ecc_list = []\n",
    "    prf_r2_list = []\n",
    "\n",
    "    for vert_idx in roi_vertices_hemi_mask:\n",
    "        prf_dist_list.append(compute_pRF_distance(vert_idx, \n",
    "                                                  roi_vertices_hemi_mask, \n",
    "                                                  prf_x_hemi, \n",
    "                                                  prf_y_hemi))\n",
    "        geo_dist_list.append(compute_geodesic_distance(vert_idx, \n",
    "                                                       adjacency_matrix))\n",
    "\n",
    "        prf_ecc_list.append(prf_ecc_hemi[vert_idx]) \n",
    "        prf_r2_list.append(prf_r2_hemi[vert_idx])\n",
    "\n",
    "    prf_CM_df_hemi = pd.DataFrame()\n",
    "    prf_CM_df_hemi['prf_dist'] = prf_dist_list\n",
    "    prf_CM_df_hemi['geo_dist'] = geo_dist_list\n",
    "    prf_CM_df_hemi['prf_ecc'] = prf_ecc_list\n",
    "    prf_CM_df_hemi['prf_r2'] = prf_r2_list\n",
    "    prf_CM_df_hemi['hemi'] = hemi  \n",
    "    prf_CM_df['roi'] = roi\n",
    "    prf_CM_df_hemi['subject'] = '{}'.format(subject_id)  \n",
    "    \n",
    "\n",
    "    prf_CM_df = pd.concat([prf_CM_df, prf_CM_df_hemi], ignore_index=True)\n",
    "\n",
    "end_time = time.time()\n",
    "print(\"Execution time: {:.2f} seconds\".format(end_time - start_time))"
   ]
  },
  {
   "cell_type": "code",
   "execution_count": 7,
   "id": "2e68929e-72e7-4130-80d9-20643a81efe1",
   "metadata": {},
   "outputs": [],
   "source": [
    "prf_CM_df['pRF_CM'] = prf_CM_df['geo_dist'] / prf_CM_df['prf_dist']"
   ]
  },
  {
   "cell_type": "markdown",
   "id": "eccb0fe7-a1d4-460c-a401-d509af4ffe3c",
   "metadata": {},
   "source": [
    "# Plotting "
   ]
  },
  {
   "cell_type": "markdown",
   "id": "2ecb0f35-6e4d-410c-98aa-5bd22ea8432d",
   "metadata": {},
   "source": [
    "## Make DF"
   ]
  },
  {
   "cell_type": "code",
   "execution_count": 8,
   "id": "1adc6d81-66e7-4f5a-8d96-82ae0cb23e64",
   "metadata": {},
   "outputs": [],
   "source": [
    "num_ecc_pcm_bins = 6\n",
    "max_ecc = 8\n",
    "rois = ['V1']\n",
    "ecc_bins = np.concatenate(([0],np.linspace(0.50, 1, num_ecc_pcm_bins)**2 * max_ecc))\n",
    "for num_roi, roi in enumerate(rois):\n",
    "    df_roi = prf_CM_df.loc[(prf_CM_df.roi == roi)]\n",
    "    df_bins = df_roi.groupby(pd.cut(df_roi['prf_ecc'], bins=ecc_bins))\n",
    "    df_ecc_pcm_bin = pd.DataFrame()\n",
    "    df_ecc_pcm_bin['roi'] = [roi]*num_ecc_pcm_bins\n",
    "    df_ecc_pcm_bin['num_bins'] = np.arange(num_ecc_pcm_bins)\n",
    "    df_ecc_pcm_bin['prf_ecc_bins'] = df_bins.apply(lambda x: weighted_nan_median(x['prf_ecc'].values, x['prf_r2'].values)).values\n",
    "    df_ecc_pcm_bin['prf_pcm_bins_median'] = df_bins.apply(lambda x: weighted_nan_median(x['pRF_CM'].values, x['prf_r2'].values)).values\n",
    "    df_ecc_pcm_bin['prf_r2_bins_median'] = np.array(df_bins['prf_r2'].median())\n",
    "    df_ecc_pcm_bin['prf_pcm_bins_ci_upper_bound'] = df_bins.apply(lambda x: weighted_nan_percentile(x['pRF_CM'].values, x['prf_r2'].values, 75)).values\n",
    "    df_ecc_pcm_bin['prf_pcm_bins_ci_lower_bound'] = df_bins.apply(lambda x: weighted_nan_percentile(x['pRF_CM'].values, x['prf_r2'].values, 25)).values\n",
    "    if num_roi == 0: df_ecc_pcm_bins = df_ecc_pcm_bin\n",
    "    else: df_ecc_pcm_bins = pd.concat([df_ecc_pcm_bins, df_ecc_pcm_bin])  \n",
    "\n"
   ]
  },
  {
   "cell_type": "markdown",
   "id": "96feafc2-6d8d-4def-8778-39b4db284e29",
   "metadata": {},
   "source": [
    "## Final plot "
   ]
  },
  {
   "cell_type": "code",
   "execution_count": 9,
   "id": "bdd0ef66-c2a5-40a6-8311-5e3a1be5a515",
   "metadata": {},
   "outputs": [],
   "source": [
    "# Figure settings\n",
    "roi_colors = {'V1': 'rgb(243, 231, 155)', \n",
    "              'V2': 'rgb(250, 196, 132)', \n",
    "              'V3': 'rgb(248, 160, 126)'}\n",
    "# Template settings\n",
    "template_specs = dict(axes_color=\"rgba(0, 0, 0, 1)\",\n",
    "                      axes_width=2,\n",
    "                      axes_font_size=15,\n",
    "                      bg_col=\"rgba(255, 255, 255, 1)\",\n",
    "                      font='Arial',\n",
    "                      title_font_size=15,\n",
    "                      plot_width=1.5)\n",
    "fig_template = plotly_template(template_specs)"
   ]
  },
  {
   "cell_type": "code",
   "execution_count": 22,
   "id": "7bd0ebff-523c-48d8-92bf-c1422e071047",
   "metadata": {},
   "outputs": [
    {
     "data": {
      "application/vnd.plotly.v1+json": {
       "config": {
        "plotlyServerURL": "https://plot.ly"
       },
       "data": [
        {
         "legendgroup": "V1",
         "line": {
          "color": "rgb(243, 231, 155)",
          "width": 3
         },
         "mode": "lines",
         "name": "V1",
         "showlegend": false,
         "type": "scatter",
         "x": {
          "bdata": "AAAAwFpL8T+isT40pSTzP0Rjfajv/fQ/5hS8HDrX9j+IxvqQhLD4Pyp4OQXPifo/zCl4eRlj/D9u27btYzz+P4jG+jDXCgBAWB8aa3z3AEAqeDmlIeQBQPrQWN/G0AJAzCl4GWy9A0CcgpdTEaoEQG7bto22lgVAPjTWx1uDBkAQjfUBAXAHQODlFDymXAhAsT40dktJCUCCl1Ow8DUKQFPwcuqVIgtAJEmSJDsPDED1obFe4PsMQMb60JiF6A1Al1Pw0irVDkBorA8N0MEPQJyCl6M6VxBABS+nQI3NEEBu27bd30MRQNaHxnoyuhFAPjTWF4UwEkCn4OW016YSQBCN9VEqHRNAeDkF73yTE0Dg5RSMzwkUQEmSJCkigBRAsT40xnT2FEAa60Njx2wVQIKXUwAa4xVA60NjnWxZFkBT8HI6v88WQLycgtcRRhdAJEmSdGS8F0CN9aERtzIYQPWhsa4JqRhAXk7BS1wfGUDG+tDorpUZQC+n4IUBDBpAl1PwIlSCGkAAAADApvgaQA==",
          "dtype": "f8"
         },
         "xaxis": "x",
         "y": {
          "bdata": "6ABjGJgnUEA3OMT8WFFPQO9DiaefYk5AnsUVgLSBTUBZMY2Rba1MQDzd8nrB5EtACturGcMmS0BusIjgnXJKQFNb1LySx0lAq7DpcPUkSUAojYZQKopIQJu/y06k9kdAKI3LUONpR0AbQeO5cuNGQPPS/yjoYkZA3NhzX+LnRUB+W0FLCHJFQLDkuy8IAUVAmBw66JaUREA6ujtBbyxEQFC692RRyENALHy9WAJoQ0BBIvaISwtDQBMK5mH6sUJAMkuT899bQkDqSnCf0AhCQA57ms6juEFAXtqmrzNrQUCsCBn7XCBBQHHAv73+10BA0CRLKPqRQEBkQYdjMk5AQM/st2iMDEBAE+ZGu92ZP0B+zs7ngx4/QCIofpbepj5A6vfarMMyPkCU7AuFC8I9QBLGrMCQVD1ARrN5HzDqPEAXh3FZyII8QA8+Gfw5HjxAAZqUSme8O0B2xk8gNF07QGks/dWFADtAM/ewKEOmOkDdaukiVE46QN4lWAei+DlA+NFEPRelOUA3s2U+n1M5QA==",
          "dtype": "f8"
         },
         "yaxis": "y"
        },
        {
         "fill": "toself",
         "fillcolor": "rgba(243, 231, 155, 0.15)",
         "line": {
          "color": "rgba(243, 231, 155, 0.15)",
          "width": 0
         },
         "mode": "lines",
         "showlegend": false,
         "type": "scatter",
         "x": {
          "bdata": "AAAAwFpL8T+isT40pSTzP0Rjfajv/fQ/5hS8HDrX9j+IxvqQhLD4Pyp4OQXPifo/zCl4eRlj/D9u27btYzz+P4jG+jDXCgBAWB8aa3z3AEAqeDmlIeQBQPrQWN/G0AJAzCl4GWy9A0CcgpdTEaoEQG7bto22lgVAPjTWx1uDBkAQjfUBAXAHQODlFDymXAhAsT40dktJCUCCl1Ow8DUKQFPwcuqVIgtAJEmSJDsPDED1obFe4PsMQMb60JiF6A1Al1Pw0irVDkBorA8N0MEPQJyCl6M6VxBABS+nQI3NEEBu27bd30MRQNaHxnoyuhFAPjTWF4UwEkCn4OW016YSQBCN9VEqHRNAeDkF73yTE0Dg5RSMzwkUQEmSJCkigBRAsT40xnT2FEAa60Njx2wVQIKXUwAa4xVA60NjnWxZFkBT8HI6v88WQLycgtcRRhdAJEmSdGS8F0CN9aERtzIYQPWhsa4JqRhAXk7BS1wfGUDG+tDorpUZQC+n4IUBDBpAl1PwIlSCGkAAAADApvgaQAAAAMCm+BpAl1PwIlSCGkAvp+CFAQwaQMb60OiulRlAXk7BS1wfGUD1obGuCakYQI31oRG3MhhAJEmSdGS8F0C8nILXEUYXQFPwcjq/zxZA60NjnWxZFkCCl1MAGuMVQBrrQ2PHbBVAsT40xnT2FEBJkiQpIoAUQODlFIzPCRRAeDkF73yTE0AQjfVRKh0TQKfg5bTXphJAPjTWF4UwEkDWh8Z6MroRQG7btt3fQxFABS+nQI3NEECcgpejOlcQQGisDw3QwQ9Al1Pw0irVDkDG+tCYhegNQPWhsV7g+wxAJEmSJDsPDEBT8HLqlSILQIKXU7DwNQpAsT40dktJCUDg5RQ8plwIQBCN9QEBcAdAPjTWx1uDBkBu27aNtpYFQJyCl1MRqgRAzCl4GWy9A0D60FjfxtACQCp4OaUh5AFAWB8aa3z3AECIxvow1woAQG7btu1jPP4/zCl4eRlj/D8qeDkFz4n6P4jG+pCEsPg/5hS8HDrX9j9EY32o7/30P6KxPjSlJPM/AAAAwFpL8T8=",
          "dtype": "f8"
         },
         "xaxis": "x",
         "y": {
          "bdata": "5NsaDi3hUUDBlGhplElRQH54Xwu0u1BAwe/BE6Q2UECVRz8nMXNPQOqkpO66h05A1kOfRaapTUCPu6Q719dMQJFskWlQEUxAF4JB8i5VS0DJktUfp6JKQPzHWYIB+UlAiQDTeZhXSUAOluAZ1r1IQBc/blgyK0hAwU+SezGfR0AyZs+8YhlHQKxiohlfmUZAj6GkSsgeRkDb86fbR6lFQPQbG2COOEVAbQnFv1LMREDE2oKYUWREQFlCN7JMAERAK2qGggqgQ0CH61O+VUNDQJwoRPf86UJAGe7BQ9KTQkA52T7wqkBCQChLkjhf8EFARxyBCMqiQUDX7JjCyFdBQMDNpQw7D0FAFdEgoQLJQEDogQolA4VAQJTVtQEiQ0BA900XQkYDQEDNNHLmsIo/QF61AA+FEj9A7fvyeN+dPkC+jNQFmSw+QJfg3tGMvj1AtAHlC5hTPUAP55PQmes8QHMAtghzhjxAZTAxSgYkPEAgL367N8Q7QEwlX/nsZjtAGFWh/gwMO0B1/roNgLM6QGKXp7JJbTdAuV4voaK5N0BJAL6a8wc4QJJvC2BQWDhAULGHvc2qOEC8WE+dgf84QEf5lhqDVjlAB7qxluqvOUBUQ9vP0Qs6QNbO8flTajpAhEhS2Y3LOkBQQw7gnS87QDseuk2kljtA5jUZUsMAPEAkhfYyH248QAjOgXXe3jxAtXuUCypTPUAEHU6FLcs9QDDihkcXRz5AQjunxxjHPkAC74bNZks/QCYwDLw51D9AXG6u8OYwQECR58jnMXpAQApaf18gxkBAMoykfdcUQUBBMlwuf2ZBQK7Fr2dCu0FAtu8AdU8TQkCPWHBL2G5CQGOwfOgSzkJA1iJTvDkxQ0Cq2okhjJhDQI30SOROBERAp+9A28x0REDGqzqVV+pEQNuMkB5IZUVAtbR/4v/lRUBqIQKt6WxGQLdhz9J6+kZAjVtEhjSPR0C8TVlhpStIQKPYiS5r0EhAhPe8/DR+SUAsN/GMxTVKQDW43Cv290pAKZMGDrrFS0DvIWhKIqBMQI/IwZZiiE1A2F8E8tZ/TkA=",
          "dtype": "f8"
         },
         "yaxis": "y"
        },
        {
         "error_y": {
          "array": {
           "bdata": "MJmmfWBTG0Dwk3D6ex0QQEBgM5BRxg9AIE+qS6O3+T/gsKCNlQP5PwDWubpQwOM/",
           "dtype": "f8"
          },
          "arrayminus": {
           "bdata": "gOm+tcgMC0AQHtnc54wQQIBNVA5JNv4/cPyDCFxQCUD4cUmjo8sAQMBQKm6J8/E/",
           "dtype": "f8"
          },
          "color": "rgb(243, 231, 155)",
          "thickness": 3,
          "type": "data",
          "visible": true,
          "width": 0
         },
         "marker": {
          "color": "rgb(243, 231, 155)",
          "line": {
           "color": "rgb(243, 231, 155)",
           "width": 3
          },
          "size": 8,
          "symbol": "square"
         },
         "mode": "markers",
         "showlegend": false,
         "type": "scatter",
         "x": {
          "bdata": "1lqKP/uJIkCeXFdAoReSQHF3tUA2xddA",
          "dtype": "f4"
         },
         "xaxis": "x",
         "y": {
          "bdata": "gKFkjaZgT0Az4JvLWUZLQPIjlVifCURA5N/y9z1LQEAIsK2iMtE5QKFIWcrTMDZA",
          "dtype": "f8"
         },
         "yaxis": "y"
        }
       ],
       "layout": {
        "annotations": [
         {
          "font": {
           "color": "rgb(243, 231, 155)",
           "family": "Arial",
           "size": 15
          },
          "showarrow": false,
          "text": "V1, R<sup>2</sup>=0.93",
          "x": 5,
          "xanchor": "left",
          "xref": "x",
          "y": 80,
          "yref": "y"
         }
        ],
        "height": 400,
        "margin": {
         "b": 100,
         "l": 100,
         "r": 50,
         "t": 50
        },
        "showlegend": false,
        "template": {
         "data": {
          "barpolar": [
           {
            "marker": {
             "line": {
              "color": "rgba(0,0,0,1)",
              "width": 1.5
             }
            },
            "showlegend": false,
            "type": "barpolar"
           }
          ],
          "pie": [
           {
            "direction": "clockwise",
            "hole": 0.4,
            "marker": {
             "line": {
              "width": 0
             }
            },
            "rotation": 0,
            "sort": false,
            "textposition": [
             "inside",
             "none"
            ],
            "type": "pie"
           }
          ],
          "violin": [
           {
            "box": {
             "visible": false
            },
            "hoveron": "violins",
            "line": {
             "color": "rgba(0, 0, 0, 1)",
             "width": 1.5
            },
            "meanline": {
             "visible": false
            },
            "points": false,
            "showlegend": false,
            "type": "violin",
            "width": 0.8
           }
          ]
         },
         "layout": {
          "annotationdefaults": {
           "font": {
            "color": "rgba(0, 0, 0, 1)",
            "family": "Arial",
            "size": 15
           }
          },
          "font": {
           "family": "Arial",
           "size": 15
          },
          "plot_bgcolor": "rgba(255, 255, 255, 1)",
          "polar": {
           "angularaxis": {
            "showticklabels": false,
            "ticks": "",
            "visible": false
           },
           "radialaxis": {
            "showticklabels": false,
            "ticks": "",
            "visible": false
           }
          },
          "xaxis": {
           "color": "rgba(0, 0, 0, 1)",
           "hoverformat": ".1f",
           "linewidth": 2,
           "showgrid": false,
           "tickfont": {
            "family": "Arial",
            "size": 15
           },
           "ticklen": 8,
           "ticks": "outside",
           "tickwidth": 2,
           "title": {
            "font": {
             "family": "Arial",
             "size": 15
            }
           },
           "visible": true,
           "zeroline": false,
           "zerolinecolor": "rgba(0, 0, 0, 1)",
           "zerolinewidth": 2
          },
          "yaxis": {
           "color": "rgba(0, 0, 0, 1)",
           "hoverformat": ".1f",
           "linewidth": 2,
           "showgrid": false,
           "tickfont": {
            "family": "Arial",
            "size": 15
           },
           "ticklen": 8,
           "ticks": "outside",
           "tickwidth": 2,
           "title": {
            "font": {
             "family": "Arial",
             "size": 15
            }
           },
           "visible": true,
           "zeroline": false,
           "zerolinecolor": "rgba(0, 0, 0, 1)",
           "zerolinewidth": 2
          }
         }
        },
        "width": 400,
        "xaxis": {
         "anchor": "y",
         "domain": [
          0,
          1
         ],
         "range": [
          0,
          8
         ],
         "showline": true,
         "title": {
          "text": "pRF eccentricity (dva)"
         }
        },
        "yaxis": {
         "anchor": "x",
         "domain": [
          0,
          1
         ],
         "range": [
          0,
          80
         ],
         "showline": true,
         "title": {
          "text": "pRF cortical magn. (mm/dva)"
         }
        }
       }
      },
      "image/png": "[encoded data removed]"
     },
     "metadata": {},
     "output_type": "display_data"
    }
   ],
   "source": [
    "fig = prf_ecc_pcm_plot(df_ecc_pcm=df_ecc_pcm_bins, \n",
    "                       data_pcm_raw=prf_CM_df, \n",
    "                       fig_width=400, \n",
    "                       fig_height=400, \n",
    "                       rois=['V1'], \n",
    "                       roi_colors=roi_colors, \n",
    "                       plot_groups=[['V1']], \n",
    "                       max_ecc=max_ecc)\n",
    "\n",
    "fig.show()"
   ]
  },
  {
   "cell_type": "code",
   "execution_count": 21,
   "id": "8702c7d5-c837-4768-86ff-db71b614ae83",
   "metadata": {},
   "outputs": [],
   "source": [
    "import plotly.io as pio\n",
    "import plotly.express as px\n",
    "import plotly.graph_objects as go\n",
    "from plotly.subplots import make_subplots\n",
    "def prf_ecc_pcm_plot(df_ecc_pcm, data_pcm_raw, fig_width, fig_height, rois, roi_colors, plot_groups, max_ecc):\n",
    "    \"\"\"\n",
    "    Make scatter plot for relationship between eccentricity and pCM\n",
    "\n",
    "    Parameters\n",
    "    ----------\n",
    "    df_ecc_pcm : dataframe for the plot\n",
    "    fig_width : figure width in pixels\n",
    "    fig_height : figure height in pixels\n",
    "    rois : list of rois\n",
    "    roi_colors : dictionary with keys as roi and value correspondig rgb color\n",
    "    plot_groups : groups of roi to plot together\n",
    "    max_ecc : maximum eccentricity\n",
    "    \n",
    "    Returns\n",
    "    -------\n",
    "    fig : eccentricy as a function of pcm plot\n",
    "    \"\"\"\n",
    "    from math_utils import weighted_regression, weighted_nan_percentile, weighted_nan_median\n",
    "    from sklearn.metrics import r2_score\n",
    "    \n",
    "    # General figure settings\n",
    "    template_specs = dict(axes_color=\"rgba(0, 0, 0, 1)\",\n",
    "                          axes_width=2,\n",
    "                          axes_font_size=15,\n",
    "                          bg_col=\"rgba(255, 255, 255, 1)\",\n",
    "                          font='Arial',\n",
    "                          title_font_size=15,\n",
    "                          plot_width=1.5)\n",
    "    \n",
    "    # General figure settings\n",
    "    fig_template = plotly_template(template_specs)\n",
    "\n",
    "    # General settings\n",
    "    rows, cols = 1, len(plot_groups)\n",
    "    fig = make_subplots(rows=rows, cols=cols, print_grid=False)\n",
    "    \n",
    "    for l, line_label in enumerate(plot_groups):\n",
    "        for j, roi in enumerate(line_label):\n",
    "\n",
    "            # Parametring colors\n",
    "            roi_color = roi_colors[roi]\n",
    "            roi_color_opac = f\"rgba{roi_color[3:-1]}, 0.15)\"\n",
    "            \n",
    "            # Get data\n",
    "            df = df_ecc_pcm.loc[(df_ecc_pcm.roi == roi)]\n",
    "            ecc_median = np.array(df.prf_ecc_bins)\n",
    "            pcm_median = np.array(df.prf_pcm_bins_median)\n",
    "            r2_median = np.array(df.prf_r2_bins_median)\n",
    "            pcm_upper_bound = np.array(df.prf_pcm_bins_ci_upper_bound)\n",
    "            pcm_lower_bound = np.array(df.prf_pcm_bins_ci_lower_bound)\n",
    "            \n",
    "            # Linear regression\n",
    "            slope, intercept = weighted_regression(ecc_median, pcm_median, r2_median, model='pcm')\n",
    "            \n",
    "            slope_upper, intercept_upper = weighted_regression(ecc_median[~np.isnan(pcm_upper_bound)], \n",
    "                                                               pcm_upper_bound[~np.isnan(pcm_upper_bound)], \n",
    "                                                               r2_median[~np.isnan(pcm_upper_bound)], \n",
    "                                                               model='pcm')\n",
    "            \n",
    "            slope_lower, intercept_lower = weighted_regression(ecc_median[~np.isnan(pcm_lower_bound)], \n",
    "                                                               pcm_lower_bound[~np.isnan(pcm_lower_bound)], \n",
    "                                                               r2_median[~np.isnan(pcm_lower_bound)], \n",
    "                                                               model='pcm')\n",
    "\n",
    "            line_x = np.linspace(ecc_median[0], ecc_median[-1], 50)\n",
    "            line = 1 / (slope * line_x + intercept)\n",
    "            line_upper = 1 / (slope_upper * line_x + intercept_upper)\n",
    "            line_lower = 1 / (slope_lower * line_x + intercept_lower)\n",
    "\n",
    "            \n",
    "            \n",
    "            # Filtrer les NaN dans les données\n",
    "            valid_idx = ~np.isnan(pcm_median) & ~np.isnan(ecc_median)\n",
    "            x_valid = ecc_median[valid_idx]\n",
    "            y_valid = pcm_median[valid_idx]\n",
    "            \n",
    "            # Générer les prédictions avec ton modèle (y = 1/(cx + d))\n",
    "            y_pred = 1 / (slope * x_valid + intercept)\n",
    "            \n",
    "            # Calculer R²\n",
    "            r2 = r2_score(y_valid, y_pred)\n",
    "            # # Markers all point\n",
    "            # fig.add_trace(go.Scatter(x=data_pcm_raw['prf_ecc'], \n",
    "            #                          y=data_pcm_raw['pRF_CM'], \n",
    "            #                          mode='markers', \n",
    "            #                          marker=dict(color=roi_color, \n",
    "            #                                      symbol='circle', \n",
    "            #                                      size=8, \n",
    "            #                                      line=dict(color=roi_color, width=3)), \n",
    "            #                          showlegend=False, \n",
    "            #                          opacity=0.4), \n",
    "            #               row=1, col=l + 1)\n",
    "\n",
    "\n",
    "            fig.add_trace(go.Scatter(x=line_x, \n",
    "                                     y=line, \n",
    "                                     mode='lines', \n",
    "                                     name=roi, \n",
    "                                     legendgroup=roi, \n",
    "                                     line=dict(color=roi_color, width=3), \n",
    "                                     showlegend=False), \n",
    "                          row=1, col=l+1)\n",
    "\n",
    "            # Error area\n",
    "            fig.add_trace(go.Scatter(x=np.concatenate([line_x, line_x[::-1]]),\n",
    "                                      y=np.concatenate([list(line_upper), list(line_lower[::-1])]), \n",
    "                                      mode='lines', fill='toself', fillcolor=roi_color_opac, \n",
    "                                      line=dict(color=roi_color_opac, width=0), showlegend=False), \n",
    "                          row=1, col=l+1)\n",
    "\n",
    "\n",
    "            # Bin markers\n",
    "            fig.add_trace(go.Scatter(x=ecc_median, \n",
    "                                     y=pcm_median, \n",
    "                                     mode='markers', \n",
    "                                     error_y=dict(type='data', \n",
    "                                                  array=pcm_upper_bound - pcm_median, \n",
    "                                                  arrayminus=pcm_median - pcm_lower_bound,\n",
    "                                                  visible=True, \n",
    "                                                  thickness=3, \n",
    "                                                  width=0, \n",
    "                                                  color=roi_color),\n",
    "                                     marker=dict(color=roi_color, \n",
    "                                                 symbol='square',\n",
    "                                                 size=8, line=dict(color=roi_color,\n",
    "                                                                   width=3)), \n",
    "                                     showlegend=False), \n",
    "                          row=1, col=l + 1)\n",
    "            \n",
    "            # Add legend\n",
    "            annotation = go.layout.Annotation(x=5, y=80, text='{}, R<sup>2</sup>={:.2f}'.format(roi,r2), xanchor='left',\n",
    "                                              showarrow=False, font_color=roi_color, \n",
    "                                              font_family=template_specs['font'],\n",
    "                                              font_size=template_specs['axes_font_size'],\n",
    "                                             )\n",
    "            fig.add_annotation(annotation, row=1, col=l+1)\n",
    "\n",
    "        # Set axis titles only for the left-most column and bottom-most row\n",
    "        fig.update_yaxes(title_text='pRF cortical magn. (mm/dva)', row=1, col=1)\n",
    "        fig.update_xaxes(title_text='pRF eccentricity (dva)', range=[0, max_ecc], showline=True, row=1, col=l+1)\n",
    "        fig.update_yaxes(range=[0, 80], showline=True)\n",
    "        fig.update_layout(height=fig_height, width=fig_width, showlegend=False, template=fig_template,\n",
    "                         margin_l=100, margin_r=50, margin_t=50, margin_b=100)\n",
    "        \n",
    "    return fig\n"
   ]
  },
  {
   "cell_type": "code",
   "execution_count": null,
   "id": "c1bf468c-7b11-40f4-9809-d854582c0304",
   "metadata": {},
   "outputs": [],
   "source": []
  }
 ],
 "metadata": {
  "kernelspec": {
   "display_name": "Python 3 (ipykernel)",
   "language": "python",
   "name": "python3"
  },
  "language_info": {
   "codemirror_mode": {
    "name": "ipython",
    "version": 3
   },
   "file_extension": ".py",
   "mimetype": "text/x-python",
   "name": "python",
   "nbconvert_exporter": "python",
   "pygments_lexer": "ipython3",
   "version": "3.11.11"
  }
 },
 "nbformat": 4,
 "nbformat_minor": 5
}
