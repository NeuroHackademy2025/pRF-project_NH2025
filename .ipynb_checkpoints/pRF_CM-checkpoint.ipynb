{
 "cells": [
  {
   "cell_type": "markdown",
   "id": "5bf65d3c-dddf-495c-9a28-7b39eacdff33",
   "metadata": {},
   "source": [
    "# Compute pRF cortical magnification base on pRF parameters "
   ]
  },
  {
   "cell_type": "code",
   "execution_count": 92,
   "id": "ff5afd60-5e93-43ca-84aa-73b05c392d01",
   "metadata": {},
   "outputs": [],
   "source": [
    "# Stop warnings\n",
    "import warnings\n",
    "warnings.filterwarnings(\"ignore\")\n",
    "\n",
    "# Import \n",
    "import time\n",
    "import numpy as np\n",
    "import pandas as pd\n",
    "from scipy import stats\n",
    "import neuropythy as ny\n",
    "import matplotlib.pyplot as plt\n",
    "import scipy.sparse.csgraph as cs\n",
    "\n",
    "# Figure imports\n",
    "import plotly.io as pio\n",
    "import plotly.express as px\n",
    "import plotly.graph_objects as go\n",
    "from plotly.subplots import make_subplots"
   ]
  },
  {
   "cell_type": "markdown",
   "id": "a7cda998-be80-40b4-b014-b2d22b3004e1",
   "metadata": {},
   "source": [
    "# Geodesic distance (mm)"
   ]
  },
  {
   "cell_type": "code",
   "execution_count": 2,
   "id": "77821801-9320-4fff-8401-f5e53e395157",
   "metadata": {},
   "outputs": [],
   "source": [
    "def compute_geodesic_distance(vert_of_interest_idx, adjacency_matrix):\n",
    "    \n",
    "    distances = cs.dijkstra(adjacency_matrix, \n",
    "                            indices=[vert_of_interest_idx], \n",
    "                            directed=False)\n",
    "\n",
    "    median_distance = np.median(distances)\n",
    "\n",
    "    return median_distance\n",
    "    "
   ]
  },
  {
   "cell_type": "markdown",
   "id": "fddd4631-e428-4f2c-a266-a35ffdb59530",
   "metadata": {},
   "source": [
    "# Visual distance (dva)"
   ]
  },
  {
   "cell_type": "code",
   "execution_count": 14,
   "id": "317ce784-bae4-4ad1-8885-89f41d5f76fe",
   "metadata": {},
   "outputs": [],
   "source": [
    "def compute_pRF_distance(vert_of_interest_idx, roi_vertices_hemi_mask, prf_x, prf_y):\n",
    "    \n",
    "    dist_array = []\n",
    "    for vert_num, vert_idx in enumerate(roi_vertices_mask):\n",
    "        # Acces pRF position\n",
    "        target_x = prf_x[vert_of_interest_idx]\n",
    "        target_y = prf_y[vert_of_interest_idx]\n",
    "        neigboor_x = prf_x[vert_idx]\n",
    "        neigboor_y = prf_y[vert_idx]\n",
    "    \n",
    "        # Compute visual distance\n",
    "        vert_prf_dist_array_vert = np.sqrt((target_x - neigboor_x)**2 + (target_y - neigboor_y)**2)\n",
    "        dist_array.append(vert_prf_dist_array_vert)\n",
    "\n",
    "    # compute the median of visual distance\n",
    "    vert_prf_dist_array_median = np.median(dist_array)\n",
    "    \n",
    "    return vert_prf_dist_array_median\n",
    "    "
   ]
  },
  {
   "cell_type": "markdown",
   "id": "88d8d9e1-911d-4033-9915-03dd68ca7581",
   "metadata": {},
   "source": [
    "# Compute de pRF CM (mm/dva)"
   ]
  },
  {
   "cell_type": "markdown",
   "id": "e60ef9c2-6a73-4622-94fd-71b725a476b0",
   "metadata": {},
   "source": [
    "## Acces data"
   ]
  },
  {
   "cell_type": "code",
   "execution_count": 69,
   "id": "28591181-3421-40c7-9bfc-e438bf0c9a74",
   "metadata": {},
   "outputs": [],
   "source": [
    "# Settings \n",
    "subject_id = 111312\n",
    "hemi = 'lh'\n",
    "roi = 'V1'"
   ]
  },
  {
   "cell_type": "code",
   "execution_count": 4,
   "id": "1f919d03-1054-4a4c-b43f-0ee5a16403f1",
   "metadata": {},
   "outputs": [],
   "source": [
    "# Load an HCP subject:\n",
    "sub = ny.hcp_subject(subject_id)\n",
    "\n",
    "# Get rois boundery\n",
    "sub = ny.data['hcp_lines'].subjects[subject_id]"
   ]
  },
  {
   "cell_type": "code",
   "execution_count": 16,
   "id": "09748412-d5e9-4f0e-9177-ddb920c002aa",
   "metadata": {},
   "outputs": [],
   "source": [
    "# ROI mask\n",
    "if hemi == 'lh':\n",
    "    label_roi = sub.lh.prop('visual_area')\n",
    "elif hemi == 'rh':\n",
    "    label_roi = sub.rh.prop('visual_area')\n",
    "roi_vertices_hemi_mask = np.where(label_roi == 1)[0]"
   ]
  },
  {
   "cell_type": "code",
   "execution_count": 31,
   "id": "a6f4bb6f-ea17-4b58-b0b0-13fd09509488",
   "metadata": {},
   "outputs": [],
   "source": [
    "# acess pRF parameters (x and y position)\n",
    "if hemi == 'lh':\n",
    "    prf_x_hemi = sub.lh.prop('prf_x')\n",
    "    prf_y_hemi = sub.lh.prop('prf_y')\n",
    "    prf_ecc_hemi = sub.lh.prop('prf_eccentricity')\n",
    "    prf_r2 = sub.lh.prop('prf_variance_explained')\n",
    "elif hemi == 'rh':\n",
    "    prf_x_hemi = sub.rh.prop('prf_x')\n",
    "    prf_y_hemi = sub.rh.prop('prf_y')\n",
    "    prf_ecc_hemi = sub.rh.prop('prf_eccentricity')\n",
    "    prf_r2 = sub.rh.prop('prf_variance_explained')\n"
   ]
  },
  {
   "cell_type": "code",
   "execution_count": 13,
   "id": "f4d8eb54-a4b0-4182-9f71-b3e4174b4737",
   "metadata": {},
   "outputs": [],
   "source": [
    "# Acces adjacency_matrix\n",
    "if hemi == 'lh':\n",
    "    white = sub.lh.surface('white') \n",
    "elif hemi == 'rh':\n",
    "    white = sub.rh.surface('white')\n",
    "\n",
    "adjacency_matrix = white.adjacency_matrix"
   ]
  },
  {
   "cell_type": "markdown",
   "id": "78e82157-3e8b-4ac2-a983-d2ab0cec29a4",
   "metadata": {},
   "source": [
    "## pRF CM computation"
   ]
  },
  {
   "cell_type": "code",
   "execution_count": 24,
   "id": "80cdb817-7095-4dd5-9d47-f8112ecdeb38",
   "metadata": {},
   "outputs": [
    {
     "name": "stdout",
     "output_type": "stream",
     "text": [
      "Execution time: 92.19 seconds\n"
     ]
    }
   ],
   "source": [
    "start_time = time.time()\n",
    "\n",
    "prf_dist_list = [] \n",
    "geo_dist_list = []\n",
    "\n",
    "for vert_num, vert_idx in enumerate(roi_vertices_hemi):\n",
    "\n",
    "    vert_of_interest_idx = vert_idx\n",
    "    \n",
    "    # Compute pRF distance\n",
    "    prf_dist_vert = compute_pRF_distance(vert_of_interest_idx, roi_vertices_hemi_mask, prf_x_hemi, prf_y_hemi)\n",
    "    prf_dist_list.append(prf_dist_vert)\n",
    "\n",
    "    # Compute geodesic distance\n",
    "    geo_dist_vert = compute_geodesic_distance(vert_of_interest_idx, adjacency_matrix)\n",
    "    geo_dist_list.append(geo_dist_vert)\n",
    "\n",
    "prf_dist_array = np.array(prf_dist_list)\n",
    "geo_dist_array = np.array(geo_dist_list)\n",
    "\n",
    "end_time = time.time()\n",
    "print(f\"Execution time: {end_time - start_time:.2f} seconds\")"
   ]
  },
  {
   "cell_type": "code",
   "execution_count": 26,
   "id": "caaa7e76-0d5b-45c3-b96a-160e32f3c4f1",
   "metadata": {},
   "outputs": [],
   "source": [
    "prf_cm_hemi = geo_dist_array / prf_dist_array"
   ]
  },
  {
   "cell_type": "code",
   "execution_count": 27,
   "id": "f69c254e-8633-478e-b108-c0e66c3f9772",
   "metadata": {},
   "outputs": [
    {
     "data": {
      "text/plain": [
       "array([62.28280114, 62.31156022, 62.26351912, ..., 36.2889723 ,\n",
       "       36.35327956, 44.14241708])"
      ]
     },
     "execution_count": 27,
     "metadata": {},
     "output_type": "execute_result"
    }
   ],
   "source": [
    "prf_cm_hemi"
   ]
  },
  {
   "cell_type": "markdown",
   "id": "eccb0fe7-a1d4-460c-a401-d509af4ffe3c",
   "metadata": {},
   "source": [
    "# Plotting "
   ]
  },
  {
   "cell_type": "code",
   "execution_count": 46,
   "id": "2e0a844f-6f56-4776-b9cd-e24040911826",
   "metadata": {},
   "outputs": [
    {
     "data": {
      "image/png": "[encoded data removed]",
      "text/plain": [
       "<Figure size 600x400 with 1 Axes>"
      ]
     },
     "metadata": {},
     "output_type": "display_data"
    }
   ],
   "source": [
    "plt.figure(figsize=(6, 4))\n",
    "plt.scatter(prf_ecc_hemi[roi_vertices_hemi_mask], prf_cm_hemi, s=10, alpha=0.7, c='blue')\n",
    "plt.xlabel('pRF eccentricity')\n",
    "plt.ylabel('pRF CM (mm/dva)')\n",
    "plt.title('Scatter plot of pRF eccentricity vs. circular mean')\n",
    "plt.grid(True)\n",
    "plt.show()"
   ]
  },
  {
   "cell_type": "markdown",
   "id": "89edb53a-caf6-4d1d-8adc-c36b818691ce",
   "metadata": {},
   "source": [
    "## Functions "
   ]
  },
  {
   "cell_type": "code",
   "execution_count": 62,
   "id": "1aef83a2-c3ba-479b-b798-949ff87de8d2",
   "metadata": {},
   "outputs": [],
   "source": [
    "def plotly_template(template_specs):\n",
    "    \"\"\"\n",
    "    Define the template for plotly\n",
    "    Parameters\n",
    "    ----------\n",
    "    template_specs : dict\n",
    "        dictionary contain specific figure settings\n",
    "    \n",
    "    Returns\n",
    "    -------\n",
    "    fig_template : plotly.graph_objs.layout._template.Template\n",
    "        Template for plotly figure\n",
    "    \"\"\"\n",
    "    import plotly.graph_objects as go\n",
    "    fig_template=go.layout.Template()\n",
    "\n",
    "    # Violin plots\n",
    "    fig_template.data.violin = [go.Violin(\n",
    "                                    box_visible=False,\n",
    "                                    points=False,\n",
    "                                    # opacity=1,\n",
    "                                    line_color= \"rgba(0, 0, 0, 1)\",\n",
    "                                    line_width=template_specs['plot_width'],\n",
    "                                    width=0.8,\n",
    "                                    #marker_symbol='x',\n",
    "                                    #marker_opacity=1,\n",
    "                                    hoveron='violins',\n",
    "                                    meanline_visible=False,\n",
    "                                    # meanline_color=\"rgba(0, 0, 0, 1)\",\n",
    "                                    # meanline_width=template_specs['plot_width'],\n",
    "                                    showlegend=False,\n",
    "                                    )]\n",
    "\n",
    "    # Barpolar\n",
    "    fig_template.data.barpolar = [go.Barpolar(\n",
    "                                    marker_line_color=\"rgba(0,0,0,1)\",\n",
    "                                    marker_line_width=template_specs['plot_width'], \n",
    "                                    showlegend=False, \n",
    "                                    )]\n",
    "    # Pie plots\n",
    "    fig_template.data.pie = [go.Pie(textposition=[\"inside\",\"none\"],\n",
    "                                    # marker_line_color=['rgba(0,0,0,1)','rgba(255,255,255,0)'],\n",
    "                                    marker_line_width=0,#[template_specs['plot_width'],0],\n",
    "                                    rotation=0,\n",
    "                                    direction=\"clockwise\",\n",
    "                                    hole=0.4,\n",
    "                                    sort=False,\n",
    "                                    )]\n",
    "\n",
    "    # Layout\n",
    "    fig_template.layout = (go.Layout(# general\n",
    "                                    font_family=template_specs['font'],\n",
    "                                    font_size=template_specs['axes_font_size'],\n",
    "                                    plot_bgcolor=template_specs['bg_col'],\n",
    "\n",
    "                                    # # x axis\n",
    "                                    xaxis_visible=True,\n",
    "                                    xaxis_linewidth=template_specs['axes_width'],\n",
    "                                    xaxis_color= template_specs['axes_color'],\n",
    "                                    xaxis_showgrid=False,\n",
    "                                    xaxis_ticks=\"outside\",\n",
    "                                    xaxis_ticklen=8,\n",
    "                                    xaxis_tickwidth = template_specs['axes_width'],\n",
    "                                    xaxis_title_font_family=template_specs['font'],\n",
    "                                    xaxis_title_font_size=template_specs['title_font_size'],\n",
    "                                    xaxis_tickfont_family=template_specs['font'],\n",
    "                                    xaxis_tickfont_size=template_specs['axes_font_size'],\n",
    "                                    xaxis_zeroline=False,\n",
    "                                    xaxis_zerolinecolor=template_specs['axes_color'],\n",
    "                                    xaxis_zerolinewidth=template_specs['axes_width'],\n",
    "                                    # xaxis_range=[0,1],\n",
    "                                    xaxis_hoverformat = '.1f',\n",
    "                                    \n",
    "                                    # y axis\n",
    "                                    yaxis_visible=True,\n",
    "                                    yaxis_linewidth=template_specs['axes_width'],\n",
    "                                    yaxis_color= template_specs['axes_color'],\n",
    "                                    yaxis_showgrid=False,\n",
    "                                    yaxis_ticks=\"outside\",\n",
    "                                    yaxis_ticklen=8,\n",
    "                                    yaxis_tickwidth = template_specs['axes_width'],\n",
    "                                    yaxis_tickfont_family=template_specs['font'],\n",
    "                                    yaxis_tickfont_size=template_specs['axes_font_size'],\n",
    "                                    yaxis_title_font_family=template_specs['font'],\n",
    "                                    yaxis_title_font_size=template_specs['title_font_size'],\n",
    "                                    yaxis_zeroline=False,\n",
    "                                    yaxis_zerolinecolor=template_specs['axes_color'],\n",
    "                                    yaxis_zerolinewidth=template_specs['axes_width'],\n",
    "                                    yaxis_hoverformat = '.1f',\n",
    "\n",
    "                                    # bar polar\n",
    "                                    polar_radialaxis_visible = False,\n",
    "                                    polar_radialaxis_showticklabels=False,\n",
    "                                    polar_radialaxis_ticks='',\n",
    "                                    polar_angularaxis_visible = False,\n",
    "                                    polar_angularaxis_showticklabels = False,\n",
    "                                    polar_angularaxis_ticks = ''\n",
    "                                    ))\n",
    "\n",
    "    # Annotations\n",
    "    fig_template.layout.annotationdefaults = go.layout.Annotation(\n",
    "                                    font_color=template_specs['axes_color'],\n",
    "                                    font_family=template_specs['font'],\n",
    "                                    font_size=template_specs['title_font_size'])\n",
    "\n",
    "    return fig_template\n"
   ]
  },
  {
   "cell_type": "code",
   "execution_count": 48,
   "id": "02f9c14f-627d-4b3b-99f3-f9803ac95a1c",
   "metadata": {},
   "outputs": [],
   "source": [
    "def weighted_nan_median(data, weights):\n",
    "    \"\"\"\n",
    "    Calculate the weighted median of a data array, ignoring NaN values.\n",
    "\n",
    "    Parameters:\n",
    "    data (pd.Series, pd.DataFrame, np.ndarray): Data points, may contain NaN values.\n",
    "    weights (pd.Series, pd.DataFrame, np.ndarray): Weights corresponding to the data points.\n",
    "\n",
    "    Returns:\n",
    "    float: The weighted median of the data points, ignoring NaN values.\n",
    "           Returns NaN if the cumulative weights are not defined.\n",
    "    \"\"\"\n",
    "    import numpy as np\n",
    "    import pandas as pd\n",
    "\n",
    "    # Convert data and weights to pandas Series if they are numpy arrays\n",
    "    if isinstance(data, np.ndarray):\n",
    "        data = pd.Series(data)\n",
    "    if isinstance(weights, np.ndarray):\n",
    "        weights = pd.Series(weights)\n",
    "        \n",
    "    # If data and weights are DataFrames, ensure they have a single column\n",
    "    if isinstance(data, pd.DataFrame):\n",
    "        if data.shape[1] != 1:\n",
    "            raise ValueError(\"DataFrame data must have exactly one column\")\n",
    "        data = data.iloc[:, 0]\n",
    "        \n",
    "    if isinstance(weights, pd.DataFrame):\n",
    "        if weights.shape[1] != 1:\n",
    "            raise ValueError(\"DataFrame weights must have exactly one column\")\n",
    "        weights = weights.iloc[:, 0]\n",
    "\n",
    "    # Mask NaN values in the data\n",
    "    mask = ~data.isna()\n",
    "\n",
    "    # Apply the mask to data and weights\n",
    "    masked_data = data[mask].reset_index(drop=True)\n",
    "    masked_weights = weights[mask].reset_index(drop=True)\n",
    "\n",
    "    # Check if there are no valid data points\n",
    "    if masked_data.size == 0 or masked_weights.size == 0:\n",
    "        return np.nan\n",
    "\n",
    "    # Sort the data and corresponding weights\n",
    "    masked_data = pd.to_numeric(masked_data, errors='coerce').dropna()\n",
    "    sorted_indices = np.argsort(masked_data)\n",
    "    sorted_data = masked_data.iloc[sorted_indices].reset_index(drop=True)\n",
    "    sorted_weights = masked_weights.iloc[sorted_indices].reset_index(drop=True)\n",
    "\n",
    "    # Calculate the cumulative sum of weights\n",
    "    cumulative_weights = np.cumsum(sorted_weights)\n",
    "\n",
    "    # Check if cumulative_weights is defined and has elements\n",
    "    if cumulative_weights.size == 0:\n",
    "        return np.nan\n",
    "\n",
    "    # Find the median position\n",
    "    median_weight = cumulative_weights.iloc[-1] / 2.0\n",
    "\n",
    "    # Find the index where the cumulative weight crosses the median weight\n",
    "    median_index = np.searchsorted(cumulative_weights, median_weight)\n",
    "\n",
    "    return sorted_data.iloc[median_index]"
   ]
  },
  {
   "cell_type": "code",
   "execution_count": 63,
   "id": "d87e395d-9ba1-43bb-a4de-9012e65510f3",
   "metadata": {},
   "outputs": [],
   "source": [
    "def weighted_nan_percentile(data, weights, percentile):\n",
    "    \"\"\"\n",
    "    Calculate the weighted percentile of an array or a pandas Series, ignoring NaN values.\n",
    "\n",
    "    Parameters:\n",
    "    data (np.ndarray or pd.Series): Array or pandas Series of data points, may contain NaN values.\n",
    "    weights (np.ndarray or pd.Series): Array or pandas Series of weights corresponding to the data points.\n",
    "    percentile (float): Percentile to compute, between 0 and 100.\n",
    "\n",
    "    Returns:\n",
    "    float: The weighted percentile of the data points, ignoring NaN values.\n",
    "           Returns NaN if the cumulative weights are not defined.\n",
    "    \"\"\"\n",
    "    import numpy as np\n",
    "    import pandas as pd\n",
    "    \n",
    "    # Convert pandas Series to numpy array if needed\n",
    "    if isinstance(data, pd.Series):\n",
    "        data = data.values\n",
    "    if isinstance(weights, pd.Series):\n",
    "        weights = weights.values\n",
    "    \n",
    "    # Mask NaN values in the data\n",
    "    mask = ~np.isnan(data)\n",
    "    \n",
    "    # Apply the mask to data and weights\n",
    "    masked_data = data[mask]\n",
    "    masked_weights = weights[mask]\n",
    "    \n",
    "    # Check if there are no valid data points\n",
    "    if masked_data.size == 0 or masked_weights.size == 0:\n",
    "        return np.nan\n",
    "    \n",
    "    # Sort the data and corresponding weights\n",
    "    sorted_indices = np.argsort(masked_data)\n",
    "    sorted_data = masked_data[sorted_indices]\n",
    "    sorted_weights = masked_weights[sorted_indices]\n",
    "    \n",
    "    # Calculate the cumulative sum of weights\n",
    "    cumulative_weights = np.cumsum(sorted_weights)\n",
    "    \n",
    "    # Check if cumulative_weights is defined and has elements\n",
    "    if cumulative_weights.size == 0:\n",
    "        return np.nan\n",
    "    \n",
    "    # Calculate the percentile weight\n",
    "    percentile_weight = percentile / 100.0 * cumulative_weights[-1]\n",
    "    \n",
    "    # Find the index where the cumulative weight crosses the percentile weight\n",
    "    percentile_index = np.searchsorted(cumulative_weights, percentile_weight)\n",
    "    \n",
    "    return float(sorted_data[percentile_index])"
   ]
  },
  {
   "cell_type": "code",
   "execution_count": 77,
   "id": "50728a9b-5f79-4b6d-9fb4-c68d3622def6",
   "metadata": {},
   "outputs": [],
   "source": [
    "def weighted_regression(x_reg, y_reg, weight_reg, model):\n",
    "    \"\"\"\n",
    "    Function to compute regression parameter weighted by a matrix (e.g. r2 value),\n",
    "    where the regression model is y = 1/(cx) + d.\n",
    "\n",
    "    Parameters\n",
    "    ----------\n",
    "    x_reg : array (1D)\n",
    "        x values to regress\n",
    "    y_reg : array\n",
    "        y values to regress\n",
    "    weight_reg : array (1D) \n",
    "        weight values (0 to 1) for weighted regression\n",
    "    model : str\n",
    "        Type of regression model, either 'pcm' for the original model or 'linear' for a linear model.\n",
    "\n",
    "    Returns\n",
    "    -------\n",
    "    coef_reg : float or array\n",
    "        regression coefficient(s)\n",
    "    intercept_reg : float or str\n",
    "        regression intercept or a string indicating no intercept (for linear model)\n",
    "    \"\"\"\n",
    "\n",
    "    import numpy as np\n",
    "    from scipy.optimize import curve_fit\n",
    "    from sklearn import linear_model\n",
    "    \n",
    "    \n",
    "    \n",
    "    x_reg = np.array(x_reg)\n",
    "    y_reg = np.array(y_reg)\n",
    "    \n",
    "    weight_reg = np.array(weight_reg)\n",
    "\n",
    "    # Filter out NaN values\n",
    "    x_reg_nan = x_reg[(~np.isnan(x_reg) & ~np.isnan(y_reg))]\n",
    "    y_reg_nan = y_reg[(~np.isnan(x_reg) & ~np.isnan(y_reg))]\n",
    "    weight_reg_nan = weight_reg[~np.isnan(weight_reg)]\n",
    "    \n",
    "    if model == 'pcm':\n",
    "        # Define the model function\n",
    "        def model_function(x, c, d):\n",
    "            return 1 / (c * x + d)\n",
    "\n",
    "        if weight_reg_nan.size >= 2:\n",
    "            # Perform curve fitting\n",
    "            params, _ = curve_fit(model_function, x_reg_nan, y_reg_nan, sigma=weight_reg_nan, maxfev=10000)\n",
    "            c, d = params\n",
    "        else:\n",
    "            c, d = np.nan, np.nan\n",
    "        return c, d\n",
    "\n",
    "    elif model == 'linear':\n",
    "        if weight_reg_nan.size >= 2:\n",
    "            regr = linear_model.LinearRegression()\n",
    "            \n",
    "            # Filter out NaN values\n",
    "            x_reg_nan = x_reg_nan.reshape(-1, 1)\n",
    "            y_reg_nan = y_reg_nan.reshape(-1, 1)\n",
    "            \n",
    "            regr.fit(x_reg_nan, y_reg_nan, sample_weight=weight_reg_nan)\n",
    "            coef_reg, intercept_reg = regr.coef_[0][0], regr.intercept_[0]\n",
    "        else: \n",
    "            coef_reg, intercept_reg = np.nan, np.nan\n",
    "        return coef_reg, intercept_reg\n",
    "    else:\n",
    "        raise ValueError(\"Invalid model type. Supported models are 'pcm' and 'linear'.\")\n"
   ]
  },
  {
   "cell_type": "code",
   "execution_count": 109,
   "id": "ab0ad773-ae30-48e1-9de1-1432f3d09c83",
   "metadata": {},
   "outputs": [],
   "source": [
    "def prf_ecc_pcm_plot(df_ecc_pcm, fig_width, fig_height, rois, roi_colors, plot_groups, max_ecc):\n",
    "    \"\"\"\n",
    "    Make scatter plot for relationship between eccentricity and pCM\n",
    "\n",
    "    Parameters\n",
    "    ----------\n",
    "    df_ecc_pcm : dataframe for the plot\n",
    "    fig_width : figure width in pixels\n",
    "    fig_height : figure height in pixels\n",
    "    rois : list of rois\n",
    "    roi_colors : dictionary with keys as roi and value correspondig rgb color\n",
    "    plot_groups : groups of roi to plot together\n",
    "    max_ecc : maximum eccentricity\n",
    "    \n",
    "    Returns\n",
    "    -------\n",
    "    fig : eccentricy as a function of pcm plot\n",
    "    \"\"\"\n",
    "\n",
    "    \n",
    "    # General figure settings\n",
    "    template_specs = dict(axes_color=\"rgba(0, 0, 0, 1)\",\n",
    "                          axes_width=2,\n",
    "                          axes_font_size=15,\n",
    "                          bg_col=\"rgba(255, 255, 255, 1)\",\n",
    "                          font='Arial',\n",
    "                          title_font_size=15,\n",
    "                          plot_width=1.5)\n",
    "    \n",
    "    # General figure settings\n",
    "    fig_template = plotly_template(template_specs)\n",
    "\n",
    "    # General settings\n",
    "    rows, cols = 1, len(plot_groups)\n",
    "    fig = make_subplots(rows=rows, cols=cols, print_grid=False)\n",
    "    \n",
    "    for l, line_label in enumerate(plot_groups):\n",
    "        for j, roi in enumerate(line_label):\n",
    "\n",
    "            # Parametring colors\n",
    "            roi_color = roi_colors[roi]\n",
    "            roi_color_opac = f\"rgba{roi_color[3:-1]}, 0.15)\"\n",
    "            \n",
    "            # Get data\n",
    "            df = df_ecc_pcm.loc[(df_ecc_pcm.roi == roi)]\n",
    "            ecc_median = np.array(df.prf_ecc_bins)\n",
    "            pcm_median = np.array(df.prf_pcm_bins_median)\n",
    "            r2_median = np.array(df.prf_loo_r2_bins_median)\n",
    "            pcm_upper_bound = np.array(df.prf_pcm_bins_ci_upper_bound)\n",
    "            pcm_lower_bound = np.array(df.prf_pcm_bins_ci_lower_bound)\n",
    "            \n",
    "            # Linear regression\n",
    "            slope, intercept = weighted_regression(ecc_median, pcm_median, r2_median, model='pcm')\n",
    "            \n",
    "            slope_upper, intercept_upper = weighted_regression(ecc_median[~np.isnan(pcm_upper_bound)], \n",
    "                                                               pcm_upper_bound[~np.isnan(pcm_upper_bound)], \n",
    "                                                               r2_median[~np.isnan(pcm_upper_bound)], \n",
    "                                                               model='pcm')\n",
    "            \n",
    "            slope_lower, intercept_lower = weighted_regression(ecc_median[~np.isnan(pcm_lower_bound)], \n",
    "                                                               pcm_lower_bound[~np.isnan(pcm_lower_bound)], \n",
    "                                                               r2_median[~np.isnan(pcm_lower_bound)], \n",
    "                                                               model='pcm')\n",
    "\n",
    "            line_x = np.linspace(ecc_median[0], ecc_median[-1], 50)\n",
    "            line = 1 / (slope * line_x + intercept)\n",
    "            line_upper = 1 / (slope_upper * line_x + intercept_upper)\n",
    "            line_lower = 1 / (slope_lower * line_x + intercept_lower)\n",
    "\n",
    "            from sklearn.metrics import r2_score\n",
    "            \n",
    "            # Filtrer les NaN dans les données\n",
    "            valid_idx = ~np.isnan(pcm_median) & ~np.isnan(ecc_median)\n",
    "            x_valid = ecc_median[valid_idx]\n",
    "            y_valid = pcm_median[valid_idx]\n",
    "            \n",
    "            # Générer les prédictions avec ton modèle (y = 1/(cx + d))\n",
    "            y_pred = 1 / (slope * x_valid + intercept)\n",
    "            \n",
    "            # Calculer R²\n",
    "            r2 = r2_score(y_valid, y_pred)\n",
    "\n",
    "            fig.add_trace(go.Scatter(x=line_x, \n",
    "                                     y=line, \n",
    "                                     mode='lines', \n",
    "                                     name=roi, \n",
    "                                     legendgroup=roi, \n",
    "                                     line=dict(color=roi_color, width=3), \n",
    "                                     showlegend=False), \n",
    "                          row=1, col=l+1)\n",
    "\n",
    "            # Error area\n",
    "            fig.add_trace(go.Scatter(x=np.concatenate([line_x, line_x[::-1]]),\n",
    "                                      y=np.concatenate([list(line_upper), list(line_lower[::-1])]), \n",
    "                                      mode='lines', fill='toself', fillcolor=roi_color_opac, \n",
    "                                      line=dict(color=roi_color_opac, width=0), showlegend=False), \n",
    "                          row=1, col=l+1)\n",
    "\n",
    "            # Markers\n",
    "            fig.add_trace(go.Scatter(x=ecc_median, \n",
    "                                     y=pcm_median, \n",
    "                                     mode='markers', \n",
    "                                     error_y=dict(type='data', \n",
    "                                                  array=pcm_upper_bound - pcm_median, \n",
    "                                                  arrayminus=pcm_median - pcm_lower_bound,\n",
    "                                                  visible=True, \n",
    "                                                  thickness=3, \n",
    "                                                  width=0, \n",
    "                                                  color=roi_color),\n",
    "                                     marker=dict(color=roi_color, \n",
    "                                                 symbol='square',\n",
    "                                                 size=8, line=dict(color=roi_color,\n",
    "                                                                   width=3)), \n",
    "                                     showlegend=False), \n",
    "                          row=1, col=l + 1)\n",
    "            \n",
    "            # Add legend\n",
    "            annotation = go.layout.Annotation(x=5, y=80, text='{}, R2={:.2f}'.format(roi,r2), xanchor='left',\n",
    "                                              showarrow=False, font_color=roi_color, \n",
    "                                              font_family=template_specs['font'],\n",
    "                                              font_size=template_specs['axes_font_size'],\n",
    "                                             )\n",
    "            fig.add_annotation(annotation, row=1, col=l+1)\n",
    "\n",
    "        # Set axis titles only for the left-most column and bottom-most row\n",
    "        fig.update_yaxes(title_text='pRF cortical magn. (mm/dva)', row=1, col=1)\n",
    "        fig.update_xaxes(title_text='pRF eccentricity (dva)', range=[0, max_ecc], showline=True, row=1, col=l+1)\n",
    "        fig.update_yaxes(range=[0, 80], showline=True)\n",
    "        fig.update_layout(height=fig_height, width=fig_width, showlegend=False, template=fig_template,\n",
    "                         margin_l=100, margin_r=50, margin_t=50, margin_b=100)\n",
    "        \n",
    "    return fig"
   ]
  },
  {
   "cell_type": "markdown",
   "id": "2ecb0f35-6e4d-410c-98aa-5bd22ea8432d",
   "metadata": {},
   "source": [
    "## Make DF"
   ]
  },
  {
   "cell_type": "code",
   "execution_count": 35,
   "id": "1ef8c2e7-aff6-4065-af4c-8fdf3f6109bf",
   "metadata": {},
   "outputs": [
    {
     "data": {
      "text/plain": [
       "(122891,)"
      ]
     },
     "execution_count": 35,
     "metadata": {},
     "output_type": "execute_result"
    }
   ],
   "source": [
    "prf_ecc_hemi.shape"
   ]
  },
  {
   "cell_type": "code",
   "execution_count": 36,
   "id": "32ff7cca-cde9-4617-8c9c-045504da02d6",
   "metadata": {},
   "outputs": [
    {
     "data": {
      "text/plain": [
       "(1807,)"
      ]
     },
     "execution_count": 36,
     "metadata": {},
     "output_type": "execute_result"
    }
   ],
   "source": [
    "prf_cm_hemi.shape"
   ]
  },
  {
   "cell_type": "code",
   "execution_count": 37,
   "id": "90a2e01d-982b-45ad-86b1-f71d3b77a7f0",
   "metadata": {},
   "outputs": [],
   "source": [
    "data_pcm = pd.DataFrame({'prf_ecc': prf_ecc_hemi[roi_vertices_hemi_mask],\n",
    "                         'pcm_median': prf_cm_hemi,\n",
    "                         'prf_loo_r2':prf_r2[roi_vertices_hemi_mask], \n",
    "                         'roi':[roi]*prf_cm_hemi.shape[0]\n",
    "                        })"
   ]
  },
  {
   "cell_type": "code",
   "execution_count": 83,
   "id": "1adc6d81-66e7-4f5a-8d96-82ae0cb23e64",
   "metadata": {},
   "outputs": [],
   "source": [
    "data= data_pcm\n",
    "num_ecc_pcm_bins = 6\n",
    "max_ecc = 8\n",
    "rois = ['V1']\n",
    "ecc_bins = np.concatenate(([0],np.linspace(0.26, 1, num_ecc_pcm_bins)**2 * max_ecc))\n",
    "for num_roi, roi in enumerate(rois):\n",
    "    df_roi = data_pcm.loc[(data.roi == roi)]\n",
    "    df_bins = df_roi.groupby(pd.cut(df_roi['prf_ecc'], bins=ecc_bins))\n",
    "    df_ecc_pcm_bin = pd.DataFrame()\n",
    "    df_ecc_pcm_bin['roi'] = [roi]*num_ecc_pcm_bins\n",
    "    df_ecc_pcm_bin['num_bins'] = np.arange(num_ecc_pcm_bins)\n",
    "    df_ecc_pcm_bin['prf_ecc_bins'] = df_bins.apply(lambda x: weighted_nan_median(x['prf_ecc'].values, x['prf_loo_r2'].values)).values\n",
    "    df_ecc_pcm_bin['prf_pcm_bins_median'] = df_bins.apply(lambda x: weighted_nan_median(x['pcm_median'].values, x['prf_loo_r2'].values)).values\n",
    "    df_ecc_pcm_bin['prf_loo_r2_bins_median'] = np.array(df_bins['prf_loo_r2'].median())\n",
    "    df_ecc_pcm_bin['prf_pcm_bins_ci_upper_bound'] = df_bins.apply(lambda x: weighted_nan_percentile(x['pcm_median'].values, x['prf_loo_r2'].values, 75)).values\n",
    "    df_ecc_pcm_bin['prf_pcm_bins_ci_lower_bound'] = df_bins.apply(lambda x: weighted_nan_percentile(x['pcm_median'].values, x['prf_loo_r2'].values, 25)).values\n",
    "    if num_roi == 0: df_ecc_pcm_bins = df_ecc_pcm_bin\n",
    "    else: df_ecc_pcm_bins = pd.concat([df_ecc_pcm_bins, df_ecc_pcm_bin])  \n",
    "\n",
    "df_ecc_pcm = df_ecc_pcm_bins"
   ]
  },
  {
   "cell_type": "code",
   "execution_count": 89,
   "id": "9f0f3bfe-40f8-4ac2-a960-4bb6a849f521",
   "metadata": {},
   "outputs": [
    {
     "data": {
      "text/html": [
       "<div>\n",
       "<style scoped>\n",
       "    .dataframe tbody tr th:only-of-type {\n",
       "        vertical-align: middle;\n",
       "    }\n",
       "\n",
       "    .dataframe tbody tr th {\n",
       "        vertical-align: top;\n",
       "    }\n",
       "\n",
       "    .dataframe thead th {\n",
       "        text-align: right;\n",
       "    }\n",
       "</style>\n",
       "<table border=\"1\" class=\"dataframe\">\n",
       "  <thead>\n",
       "    <tr style=\"text-align: right;\">\n",
       "      <th></th>\n",
       "      <th>roi</th>\n",
       "      <th>num_bins</th>\n",
       "      <th>prf_ecc_bins</th>\n",
       "      <th>prf_pcm_bins_median</th>\n",
       "      <th>prf_loo_r2_bins_median</th>\n",
       "      <th>prf_pcm_bins_ci_upper_bound</th>\n",
       "      <th>prf_pcm_bins_ci_lower_bound</th>\n",
       "    </tr>\n",
       "  </thead>\n",
       "  <tbody>\n",
       "    <tr>\n",
       "      <th>0</th>\n",
       "      <td>V1</td>\n",
       "      <td>0</td>\n",
       "      <td>0.346305</td>\n",
       "      <td>61.874333</td>\n",
       "      <td>0.344225</td>\n",
       "      <td>62.805421</td>\n",
       "      <td>60.273913</td>\n",
       "    </tr>\n",
       "    <tr>\n",
       "      <th>1</th>\n",
       "      <td>V1</td>\n",
       "      <td>1</td>\n",
       "      <td>0.941754</td>\n",
       "      <td>65.076903</td>\n",
       "      <td>0.507617</td>\n",
       "      <td>70.984578</td>\n",
       "      <td>59.168427</td>\n",
       "    </tr>\n",
       "    <tr>\n",
       "      <th>2</th>\n",
       "      <td>V1</td>\n",
       "      <td>2</td>\n",
       "      <td>1.833004</td>\n",
       "      <td>61.426301</td>\n",
       "      <td>0.617270</td>\n",
       "      <td>68.178928</td>\n",
       "      <td>54.210124</td>\n",
       "    </tr>\n",
       "    <tr>\n",
       "      <th>3</th>\n",
       "      <td>V1</td>\n",
       "      <td>3</td>\n",
       "      <td>3.215048</td>\n",
       "      <td>42.203496</td>\n",
       "      <td>0.668183</td>\n",
       "      <td>50.176400</td>\n",
       "      <td>38.600368</td>\n",
       "    </tr>\n",
       "    <tr>\n",
       "      <th>4</th>\n",
       "      <td>V1</td>\n",
       "      <td>4</td>\n",
       "      <td>4.784975</td>\n",
       "      <td>29.281066</td>\n",
       "      <td>0.619467</td>\n",
       "      <td>32.765306</td>\n",
       "      <td>26.673288</td>\n",
       "    </tr>\n",
       "    <tr>\n",
       "      <th>5</th>\n",
       "      <td>V1</td>\n",
       "      <td>5</td>\n",
       "      <td>6.675991</td>\n",
       "      <td>22.718648</td>\n",
       "      <td>0.566523</td>\n",
       "      <td>23.088247</td>\n",
       "      <td>21.473807</td>\n",
       "    </tr>\n",
       "  </tbody>\n",
       "</table>\n",
       "</div>"
      ],
      "text/plain": [
       "  roi  num_bins  prf_ecc_bins  prf_pcm_bins_median  prf_loo_r2_bins_median  \\\n",
       "0  V1         0      0.346305            61.874333                0.344225   \n",
       "1  V1         1      0.941754            65.076903                0.507617   \n",
       "2  V1         2      1.833004            61.426301                0.617270   \n",
       "3  V1         3      3.215048            42.203496                0.668183   \n",
       "4  V1         4      4.784975            29.281066                0.619467   \n",
       "5  V1         5      6.675991            22.718648                0.566523   \n",
       "\n",
       "   prf_pcm_bins_ci_upper_bound  prf_pcm_bins_ci_lower_bound  \n",
       "0                    62.805421                    60.273913  \n",
       "1                    70.984578                    59.168427  \n",
       "2                    68.178928                    54.210124  \n",
       "3                    50.176400                    38.600368  \n",
       "4                    32.765306                    26.673288  \n",
       "5                    23.088247                    21.473807  "
      ]
     },
     "execution_count": 89,
     "metadata": {},
     "output_type": "execute_result"
    }
   ],
   "source": [
    "df_ecc_pcm"
   ]
  },
  {
   "cell_type": "code",
   "execution_count": 97,
   "id": "a8b4e36b-08d6-469b-9033-51495bc4eecb",
   "metadata": {},
   "outputs": [],
   "source": [
    "df = df_ecc_pcm\n",
    "\n",
    "ecc_median = np.array(df.prf_ecc_bins)\n",
    "pcm_median = np.array(df.prf_pcm_bins_median)\n",
    "r2_median = np.array(df.prf_loo_r2_bins_median)\n",
    "\n",
    "slope, intercept = weighted_regression(ecc_median, pcm_median, r2_median, model='pcm')\n",
    "pred_pcm_roi = 1 / (df.prf_ecc_bins * slope + intercept) \n",
    "\n",
    "\n",
    "results = stats.linregress(x=pred_pcm_roi, y=df.prf_pcm_bins_median, alternative='greater')\n",
    "\n",
    "rvalue = results.rvalue"
   ]
  },
  {
   "cell_type": "code",
   "execution_count": 98,
   "id": "54d018e0-226f-47e8-8336-edd82770ece1",
   "metadata": {},
   "outputs": [
    {
     "data": {
      "text/plain": [
       "0.9406318523365845"
      ]
     },
     "execution_count": 98,
     "metadata": {},
     "output_type": "execute_result"
    }
   ],
   "source": [
    "rvalue"
   ]
  },
  {
   "cell_type": "code",
   "execution_count": 110,
   "id": "bc5fc076-ff9e-47c9-a701-5d698e7cea2a",
   "metadata": {},
   "outputs": [
    {
     "data": {
      "application/vnd.plotly.v1+json": {
       "config": {
        "plotlyServerURL": "https://plot.ly"
       },
       "data": [
        {
         "legendgroup": "V1",
         "line": {
          "color": "rgb(243, 231, 155)",
          "width": 3
         },
         "mode": "lines",
         "name": "V1",
         "showlegend": false,
         "type": "scatter",
         "x": {
          "bdata": "AAAAoNwp1j9zCl5OTW7eP3MKXv5eWeM/rA+NVZd75z/mFLysz53rPyAa6wMIwO8/rA+NLSDx8T9JkiRZPAL0P+YUvIRYE/Y/g5dTsHQk+D8gGuvbkDX6P7ycggetRvw/WR8aM8lX/j/70FivcjQAQEmSJMUAPQFAmFPw2o5FAkDmFLzwHE4DQDTWhwarVgRAg5dTHDlfBUDRWB8yx2cGQCAa60dVcAdAbtu2XeN4CEC8nIJzcYEJQAteTon/iQpAWR8an42SC0Cn4OW0G5sMQPahscqpow1ARGN94DesDkCSJEn2xbQPQPByCgaqXhBAmFPwEPHiEEA/NNYbOGcRQOYUvCZ/6xFAjfWhMcZvEkA01oc8DfQSQNy2bUdUeBNAg5dTUpv8E0AqeDld4oAUQNFYH2gpBRVAeDkFc3CJFUAgGut9tw0WQMf60Ij+kRZAbtu2k0UWF0AVvJyejJoXQLycgqnTHhhAY31otBqjGEALXk6/YScZQLI+NMqoqxlAWR8a1e8vGkAAAADgNrQaQA==",
          "dtype": "f8"
         },
         "xaxis": "x",
         "y": {
          "bdata": "AHREy8JhUEClnTV+yu1PQGVpeJuuIk9AphF3I2xhTkCmjOwFUKlNQPjRycK3+UxA4tMEiw9STEDW4vOg0LFLQMHhlu5/GEtAkrPQyayFSkCXgObf7/hJQIipr0LqcUlAOM3EkkTwSEA+3bdCrnNIQJ+E+u/c+0dAiiqZzouIR0BAelwlexlHQEhvPdhvrkZAOJFj/zJHRkBh0CSJkeNFQDFgtOVbg0VAeaZbu2UmRUBxPD+ihcxEQIUs0+aUdURACPo9Um8hRED7VwL48s9DQANjXAgAgUNAbz7Rpng0Q0A9jH/EQOpCQNe5zP09okJAA9UWe1dcQkAg0BzUdRhCQLMB2PWC1kFAv3CJCmqWQUDHTMRjF1hBQPPnRGZ4G0FAIMhod3vgQEBoASHsD6dAQAYfPPklb0BAV3jopK44QEBw/lK5mwNAQADDknC/nz9AUtyRn9s6P0Ace8uec9g+QDWd7zxweD5AG8j6ZbsaPkCqLkcSQL89QJz0zjbqZT1AycuGtqYOPUDkbLpUY7k8QA==",
          "dtype": "f8"
         },
         "yaxis": "y"
        },
        {
         "fill": "toself",
         "fillcolor": "rgba(243, 231, 155, 0.15)",
         "line": {
          "color": "rgba(243, 231, 155, 0.15)",
          "width": 0
         },
         "mode": "lines",
         "showlegend": false,
         "type": "scatter",
         "x": {
          "bdata": "AAAAoNwp1j9zCl5OTW7eP3MKXv5eWeM/rA+NVZd75z/mFLysz53rPyAa6wMIwO8/rA+NLSDx8T9JkiRZPAL0P+YUvIRYE/Y/g5dTsHQk+D8gGuvbkDX6P7ycggetRvw/WR8aM8lX/j/70FivcjQAQEmSJMUAPQFAmFPw2o5FAkDmFLzwHE4DQDTWhwarVgRAg5dTHDlfBUDRWB8yx2cGQCAa60dVcAdAbtu2XeN4CEC8nIJzcYEJQAteTon/iQpAWR8an42SC0Cn4OW0G5sMQPahscqpow1ARGN94DesDkCSJEn2xbQPQPByCgaqXhBAmFPwEPHiEEA/NNYbOGcRQOYUvCZ/6xFAjfWhMcZvEkA01oc8DfQSQNy2bUdUeBNAg5dTUpv8E0AqeDld4oAUQNFYH2gpBRVAeDkFc3CJFUAgGut9tw0WQMf60Ij+kRZAbtu2k0UWF0AVvJyejJoXQLycgqnTHhhAY31otBqjGEALXk6/YScZQLI+NMqoqxlAWR8a1e8vGkAAAADgNrQaQAAAAOA2tBpAWR8a1e8vGkCyPjTKqKsZQAteTr9hJxlAY31otBqjGEC8nIKp0x4YQBW8nJ6MmhdAbtu2k0UWF0DH+tCI/pEWQCAa6323DRZAeDkFc3CJFUDRWB9oKQUVQCp4OV3igBRAg5dTUpv8E0Dctm1HVHgTQDTWhzwN9BJAjfWhMcZvEkDmFLwmf+sRQD801hs4ZxFAmFPwEPHiEEDwcgoGql4QQJIkSfbFtA9ARGN94DesDkD2obHKqaMNQKfg5bQbmwxAWR8an42SC0ALXk6J/4kKQLycgnNxgQlAbtu2XeN4CEAgGutHVXAHQNFYHzLHZwZAg5dTHDlfBUA01ocGq1YEQOYUvPAcTgNAmFPw2o5FAkBJkiTFAD0BQPvQWK9yNABAWR8aM8lX/j+8nIIHrUb8PyAa69uQNfo/g5dTsHQk+D/mFLyEWBP2P0mSJFk8AvQ/rA+NLSDx8T8gGusDCMDvP+YUvKzPnes/rA+NVZd75z9zCl7+XlnjP3MKXk5Nbt4/AAAAoNwp1j8=",
          "dtype": "f8"
         },
         "xaxis": "x",
         "y": {
          "bdata": "0DccR3EKUUBcQv9YjatQQLJ2GrOzUFBA5QCOT0fzT0DzrnyjQ0xPQHsilhnvq05AHwbO/OQRTkDxHUNYyH1NQC7H9ztD70xAnSNcFgZmTEBySgMgx+FLQJPXPddBYktApt6liTbnSkB8Re3paXBKQNoAerCk/UlAP1+NRbOOSUDZ6N1zZSNJQD+QryKOu0hAk/eUFgNXSEAfOB+4nPVHQCCT2N81l0dAFkn6pqs7R0AmAV883eJGQNwPQr2rjEZAKOFoEfo4RkA+E1/KrOdFQDqrdwWqmEVAXmxOUNlLRUAh6ouPIwFFQICRtedyuERAxb3Yp7JxREDTE+U1zyxEQJnrjvy16UNAUZWWWlWoQ0AR2VSTnGhDQCY5cMB7KkNAvE+hxOPtQkAeIW8/xrJCQJB3zoEVeUJApFuRg8RAQkBFhJXZxglCQPYxoqwQ1EFA+lbnsJafQUC7NhEeTmxBQDjO5KcsOkFAI2FadygJQUDhdiwkONlAQMhq0q5SqkBAPnbeem98QECmy7dJhk9AQCVO6ZQaijlAAczKvQTaOUDYrc406Ss6QH541wHbfzpABJUKJO7VOkDHqLOhNy47QAOiZZnNiDtAkM52VMflO0BKdfhaPUU8QLfvTYlJpzxAvTWLJwcMPUBZQMcCk3M9QDWsk4gL3j1Ajq7Q5JBLPkCn1RoiRbw+QMtOF01MMD9AT6brmsynP0B9qJtJdxFAQIr6957uUEBA28jGKmOSQEAjxAA/7dVAQAy8gcCmG0FAe5EoSKtjQUAszElHGK5BQOIR2i8N+0FA3r/DoKtKQkDmIeuWF51CQLaad6N38kJAUwIOKPVKQ0DoGsKZvKZDQOb1osv9BURAdFHpQexoREBUX/iOv89EQA9LkruzOkVAvb3buwmqRUBEbA7zBx5GQHzGDMj6lkZAVgRrTTUVR0CTq/f/EZlHQMq7W5/zIkhAiJ8WJUazSEDG9Oref0pJQMlF0LIi6UlAAnm2k72PSkBq7Ogv7j5LQGsMvONi90tA06WB/dy5TEDiw6ZiM4dNQNh0hKlVYE5AhBYMwE9GT0A=",
          "dtype": "f8"
         },
         "yaxis": "y"
        },
        {
         "error_y": {
          "array": {
           "bdata": "ABf7gHjL7T/QojKEdaEXQNj+ErewAhtASBla+EDkH0DgN+tnud8LQIBGkTGCp9c/",
           "dtype": "f8"
          },
          "arrayminus": {
           "bdata": "QAOis1Gb+T842a6UR6IXQOhjc3Rd3RxAUEhx5DTTDEDoBBmPutwEQFC9Uv3e6vM/",
           "dtype": "f8"
          },
          "color": "rgb(243, 231, 155)",
          "thickness": 3,
          "type": "data",
          "visible": true,
          "width": 0
         },
         "marker": {
          "color": "rgb(243, 231, 155)",
          "line": {
           "color": "rgb(243, 231, 155)",
           "width": 3
          },
          "size": 8,
          "symbol": "square"
         },
         "mode": "markers",
         "showlegend": false,
         "type": "scatter",
         "x": {
          "bdata": "5U6xPsUWcT/jn+o/WMNNQIMemUC3odVA",
          "dtype": "f4"
         },
         "xaxis": "x",
         "y": {
          "bdata": "JrQlJurvTkBcPkH860RQQO3GkQiRtk5A2nl2JwwaRUAAZIfw80c9QNhEl1P5tzZA",
          "dtype": "f8"
         },
         "yaxis": "y"
        }
       ],
       "layout": {
        "annotations": [
         {
          "font": {
           "color": "rgb(243, 231, 155)",
           "family": "Arial",
           "size": 15
          },
          "showarrow": false,
          "text": "V1, R2=0.86",
          "x": 5,
          "xanchor": "left",
          "xref": "x",
          "y": 80,
          "yref": "y"
         }
        ],
        "height": 400,
        "margin": {
         "b": 100,
         "l": 100,
         "r": 50,
         "t": 50
        },
        "showlegend": false,
        "template": {
         "data": {
          "barpolar": [
           {
            "marker": {
             "line": {
              "color": "rgba(0,0,0,1)",
              "width": 1.5
             }
            },
            "showlegend": false,
            "type": "barpolar"
           }
          ],
          "pie": [
           {
            "direction": "clockwise",
            "hole": 0.4,
            "marker": {
             "line": {
              "width": 0
             }
            },
            "rotation": 0,
            "sort": false,
            "textposition": [
             "inside",
             "none"
            ],
            "type": "pie"
           }
          ],
          "violin": [
           {
            "box": {
             "visible": false
            },
            "hoveron": "violins",
            "line": {
             "color": "rgba(0, 0, 0, 1)",
             "width": 1.5
            },
            "meanline": {
             "visible": false
            },
            "points": false,
            "showlegend": false,
            "type": "violin",
            "width": 0.8
           }
          ]
         },
         "layout": {
          "annotationdefaults": {
           "font": {
            "color": "rgba(0, 0, 0, 1)",
            "family": "Arial",
            "size": 15
           }
          },
          "font": {
           "family": "Arial",
           "size": 15
          },
          "plot_bgcolor": "rgba(255, 255, 255, 1)",
          "polar": {
           "angularaxis": {
            "showticklabels": false,
            "ticks": "",
            "visible": false
           },
           "radialaxis": {
            "showticklabels": false,
            "ticks": "",
            "visible": false
           }
          },
          "xaxis": {
           "color": "rgba(0, 0, 0, 1)",
           "hoverformat": ".1f",
           "linewidth": 2,
           "showgrid": false,
           "tickfont": {
            "family": "Arial",
            "size": 15
           },
           "ticklen": 8,
           "ticks": "outside",
           "tickwidth": 2,
           "title": {
            "font": {
             "family": "Arial",
             "size": 15
            }
           },
           "visible": true,
           "zeroline": false,
           "zerolinecolor": "rgba(0, 0, 0, 1)",
           "zerolinewidth": 2
          },
          "yaxis": {
           "color": "rgba(0, 0, 0, 1)",
           "hoverformat": ".1f",
           "linewidth": 2,
           "showgrid": false,
           "tickfont": {
            "family": "Arial",
            "size": 15
           },
           "ticklen": 8,
           "ticks": "outside",
           "tickwidth": 2,
           "title": {
            "font": {
             "family": "Arial",
             "size": 15
            }
           },
           "visible": true,
           "zeroline": false,
           "zerolinecolor": "rgba(0, 0, 0, 1)",
           "zerolinewidth": 2
          }
         }
        },
        "width": 400,
        "xaxis": {
         "anchor": "y",
         "domain": [
          0,
          1
         ],
         "range": [
          0,
          8
         ],
         "showline": true,
         "title": {
          "text": "pRF eccentricity (dva)"
         }
        },
        "yaxis": {
         "anchor": "x",
         "domain": [
          0,
          1
         ],
         "range": [
          0,
          80
         ],
         "showline": true,
         "title": {
          "text": "pRF cortical magn. (mm/dva)"
         }
        }
       }
      },
      "image/png": "[encoded data removed]"
     },
     "metadata": {},
     "output_type": "display_data"
    }
   ],
   "source": [
    "# Figure settings\n",
    "roi_colors = {'V1': 'rgb(243, 231, 155)', \n",
    "              'V2': 'rgb(250, 196, 132)', \n",
    "              'V3': 'rgb(248, 160, 126)', \n",
    "              'V3AB': 'rgb(235, 127, 134)', \n",
    "              'LO': 'rgb(150, 0, 90)',  \n",
    "              'VO': 'rgb(0, 0, 200)', \n",
    "              'hMT+': 'rgb(0, 25, 255)', \n",
    "              'iIPS': 'rgb(0, 152, 255)', \n",
    "              'sIPS': 'rgb(44, 255, 150)', \n",
    "              'iPCS': 'rgb(151, 255, 0)', \n",
    "              'sPCS': 'rgb(255, 234, 0)', \n",
    "              'mPCS': 'rgb(255, 111, 0)'}\n",
    "\n",
    "\n",
    "\n",
    "# Template settings\n",
    "template_specs = dict(axes_color=\"rgba(0, 0, 0, 1)\",\n",
    "                      axes_width=2,\n",
    "                      axes_font_size=15,\n",
    "                      bg_col=\"rgba(255, 255, 255, 1)\",\n",
    "                      font='Arial',\n",
    "                      title_font_size=15,\n",
    "                      plot_width=1.5)\n",
    "fig_template = plotly_template(template_specs)\n",
    "standoff = 8\n",
    "\n",
    "rois = ['V1']\n",
    "\n",
    "fig = prf_ecc_pcm_plot(df_ecc_pcm=df_ecc_pcm, fig_width=400, fig_height=400, \n",
    "                            rois=['V1'], roi_colors=roi_colors,\n",
    "                            plot_groups=[['V1']], max_ecc=max_ecc)\n",
    "\n",
    "fig.show()\n"
   ]
  },
  {
   "cell_type": "code",
   "execution_count": 71,
   "id": "eea42d46-2b07-48cf-a801-a0616f5f9acd",
   "metadata": {},
   "outputs": [
    {
     "data": {
      "text/plain": [
       "'V1'"
      ]
     },
     "execution_count": 71,
     "metadata": {},
     "output_type": "execute_result"
    }
   ],
   "source": [
    "roi"
   ]
  },
  {
   "cell_type": "code",
   "execution_count": null,
   "id": "8702c7d5-c837-4768-86ff-db71b614ae83",
   "metadata": {},
   "outputs": [],
   "source": []
  }
 ],
 "metadata": {
  "kernelspec": {
   "display_name": "Python 3 (ipykernel)",
   "language": "python",
   "name": "python3"
  },
  "language_info": {
   "codemirror_mode": {
    "name": "ipython",
    "version": 3
   },
   "file_extension": ".py",
   "mimetype": "text/x-python",
   "name": "python",
   "nbconvert_exporter": "python",
   "pygments_lexer": "ipython3",
   "version": "3.11.11"
  }
 },
 "nbformat": 4,
 "nbformat_minor": 5
}
